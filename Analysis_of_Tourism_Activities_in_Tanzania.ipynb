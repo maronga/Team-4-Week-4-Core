{
  "cells": [
    {
      "cell_type": "markdown",
      "metadata": {
        "id": "view-in-github",
        "colab_type": "text"
      },
      "source": [
        "<a href=\"https://colab.research.google.com/github/maronga/Team-4-Week-4-Core/blob/main/Analysis_of_Tourism_Activities_in_Tanzania.ipynb\" target=\"_parent\"><img src=\"https://colab.research.google.com/assets/colab-badge.svg\" alt=\"Open In Colab\"/></a>"
      ]
    },
    {
      "cell_type": "markdown",
      "source": [
        "# **TOURISM ACTIVITIES IN TANZANIA**"
      ],
      "metadata": {
        "id": "iyt0IL3ffx2Q"
      }
    },
    {
      "cell_type": "markdown",
      "metadata": {
        "id": "ZRbcKd_vUv-k"
      },
      "source": [
        "**Defining the Question** \n",
        "     \n",
        "In Tanzania, the tourism sector is second in ranking in contributing to the national income. However, during the times of COVID, the industry took a huge blow due to travel restrictions. Now as countries are opening up, Tanzania should expect tourists to come back. The aim of this study is to give insight on the main tourism activity in Tanzania to invest more resources in.\n"
      ]
    },
    {
      "cell_type": "markdown",
      "metadata": {
        "id": "ZIFOeurqVGdV"
      },
      "source": [
        "**Defining the Metric of Success**\n",
        "\n",
        "Successfully performing Exploratory Data Analysis, Univariate, Bivariate Analysis,Create Visualizations Testing a Hypothesis and Challenging the solution."
      ]
    },
    {
      "cell_type": "markdown",
      "metadata": {
        "id": "VKkauS5QVJZq"
      },
      "source": [
        "**Understanding the Context**\n",
        "\n",
        "\n",
        "Tanzania’s tourism sector generated USD 1 billion in revenues in 2020 versus 2.6 billion in 2019, being severely affected by the Covid-19 pandemic and its impact on international travel. The sector’s contribution to GDP fell from 107% in 2019 to 5.3% in 2020. International tourist arrivals reached 620,900 in 2020, less than half the 1.5 million arrivals in 2019, the 1.4 million in 2018, and the 1.3 million in 2017."
      ]
    },
    {
      "cell_type": "markdown",
      "metadata": {
        "id": "9PT20mCbVz_h"
      },
      "source": [
        "**Recording the Experimental Design**\n",
        "\n",
        "\n",
        "Below are the steps we took to implement this solution\n",
        "\n",
        "\n",
        "1.   Business Understanding:This sheds light to the context of the research question we are trying to answer ensures we keep the focus during the data analysis so that we meet the intended objectives\n",
        "2.   Reading the data: Read the data with the aim to understand the content in our dataset\n",
        "3. Checking our data: We perfomed this step so that we could get details about our dataset like number of rows and columns and null values\n",
        "4. Data cleaning: We performed the data cleaning and preparation to make our data ready for analysis\n",
        "5. Challenged the solution"
      ]
    },
    {
      "cell_type": "markdown",
      "metadata": {
        "id": "KyZ38lb0V_kw"
      },
      "source": [
        "**Data Relevance**\n",
        "\n",
        "\n",
        "The source of our data is [Zindi](https://zindi.africa/competitions/tanzania-tourism-prediction/data)\n",
        "\n",
        "The surveys were\n",
        "conducted recently, hence the data is current and has individual demograpgics that will\n",
        "support us in assessing factors that drive financial inclusion."
      ]
    },
    {
      "cell_type": "markdown",
      "metadata": {
        "id": "pzyoNp-iYURA"
      },
      "source": [
        "## 1. Importing our libraries"
      ]
    },
    {
      "cell_type": "code",
      "execution_count": null,
      "metadata": {
        "id": "2qfZyySawcn-"
      },
      "outputs": [],
      "source": [
        "# Import relevant libraries\n",
        "import pandas as pd\n",
        "import numpy as np\n",
        "import seaborn as sns\n",
        "import matplotlib.pyplot as plt\n",
        "import warnings\n",
        "warnings.filterwarnings(\"ignore\")\n",
        "import math"
      ]
    },
    {
      "cell_type": "markdown",
      "metadata": {
        "id": "lSNzRsJ6ZHMl"
      },
      "source": [
        "## 2. Reading the Dataset from our CSV file"
      ]
    },
    {
      "cell_type": "code",
      "execution_count": null,
      "metadata": {
        "colab": {
          "base_uri": "https://localhost:8080/",
          "height": 478
        },
        "id": "DY6xnmfqYmil",
        "outputId": "2f05f770-89a1-42a0-c871-2dc948cbdc29"
      },
      "outputs": [
        {
          "output_type": "execute_result",
          "data": {
            "text/html": [
              "\n",
              "  <div id=\"df-615fca28-8ab5-459f-8184-0a37dae35999\">\n",
              "    <div class=\"colab-df-container\">\n",
              "      <div>\n",
              "<style scoped>\n",
              "    .dataframe tbody tr th:only-of-type {\n",
              "        vertical-align: middle;\n",
              "    }\n",
              "\n",
              "    .dataframe tbody tr th {\n",
              "        vertical-align: top;\n",
              "    }\n",
              "\n",
              "    .dataframe thead th {\n",
              "        text-align: right;\n",
              "    }\n",
              "</style>\n",
              "<table border=\"1\" class=\"dataframe\">\n",
              "  <thead>\n",
              "    <tr style=\"text-align: right;\">\n",
              "      <th></th>\n",
              "      <th>ID</th>\n",
              "      <th>country</th>\n",
              "      <th>age_group</th>\n",
              "      <th>travel_with</th>\n",
              "      <th>total_female</th>\n",
              "      <th>total_male</th>\n",
              "      <th>purpose</th>\n",
              "      <th>main_activity</th>\n",
              "      <th>info_source</th>\n",
              "      <th>tour_arrangement</th>\n",
              "      <th>package_transport_int</th>\n",
              "      <th>package_accomodation</th>\n",
              "      <th>package_food</th>\n",
              "      <th>package_transport_tz</th>\n",
              "      <th>package_sightseeing</th>\n",
              "      <th>package_guided_tour</th>\n",
              "      <th>package_insurance</th>\n",
              "      <th>night_mainland</th>\n",
              "      <th>night_zanzibar</th>\n",
              "      <th>payment_mode</th>\n",
              "      <th>first_trip_tz</th>\n",
              "      <th>most_impressing</th>\n",
              "      <th>total_cost</th>\n",
              "    </tr>\n",
              "  </thead>\n",
              "  <tbody>\n",
              "    <tr>\n",
              "      <th>0</th>\n",
              "      <td>tour_0</td>\n",
              "      <td>SWIZERLAND</td>\n",
              "      <td>45-64</td>\n",
              "      <td>Friends/Relatives</td>\n",
              "      <td>1.0</td>\n",
              "      <td>1.0</td>\n",
              "      <td>Leisure and Holidays</td>\n",
              "      <td>Wildlife tourism</td>\n",
              "      <td>Friends, relatives</td>\n",
              "      <td>Independent</td>\n",
              "      <td>No</td>\n",
              "      <td>No</td>\n",
              "      <td>No</td>\n",
              "      <td>No</td>\n",
              "      <td>No</td>\n",
              "      <td>No</td>\n",
              "      <td>No</td>\n",
              "      <td>13</td>\n",
              "      <td>0</td>\n",
              "      <td>Cash</td>\n",
              "      <td>No</td>\n",
              "      <td>Friendly People</td>\n",
              "      <td>674602.5</td>\n",
              "    </tr>\n",
              "    <tr>\n",
              "      <th>1</th>\n",
              "      <td>tour_10</td>\n",
              "      <td>UNITED KINGDOM</td>\n",
              "      <td>25-44</td>\n",
              "      <td>NaN</td>\n",
              "      <td>1.0</td>\n",
              "      <td>0.0</td>\n",
              "      <td>Leisure and Holidays</td>\n",
              "      <td>Cultural tourism</td>\n",
              "      <td>others</td>\n",
              "      <td>Independent</td>\n",
              "      <td>No</td>\n",
              "      <td>No</td>\n",
              "      <td>No</td>\n",
              "      <td>No</td>\n",
              "      <td>No</td>\n",
              "      <td>No</td>\n",
              "      <td>No</td>\n",
              "      <td>14</td>\n",
              "      <td>7</td>\n",
              "      <td>Cash</td>\n",
              "      <td>Yes</td>\n",
              "      <td>Wonderful Country, Landscape, Nature</td>\n",
              "      <td>3214906.5</td>\n",
              "    </tr>\n",
              "    <tr>\n",
              "      <th>2</th>\n",
              "      <td>tour_1000</td>\n",
              "      <td>UNITED KINGDOM</td>\n",
              "      <td>25-44</td>\n",
              "      <td>Alone</td>\n",
              "      <td>0.0</td>\n",
              "      <td>1.0</td>\n",
              "      <td>Visiting Friends and Relatives</td>\n",
              "      <td>Cultural tourism</td>\n",
              "      <td>Friends, relatives</td>\n",
              "      <td>Independent</td>\n",
              "      <td>No</td>\n",
              "      <td>No</td>\n",
              "      <td>No</td>\n",
              "      <td>No</td>\n",
              "      <td>No</td>\n",
              "      <td>No</td>\n",
              "      <td>No</td>\n",
              "      <td>1</td>\n",
              "      <td>31</td>\n",
              "      <td>Cash</td>\n",
              "      <td>No</td>\n",
              "      <td>Excellent Experience</td>\n",
              "      <td>3315000.0</td>\n",
              "    </tr>\n",
              "    <tr>\n",
              "      <th>3</th>\n",
              "      <td>tour_1002</td>\n",
              "      <td>UNITED KINGDOM</td>\n",
              "      <td>25-44</td>\n",
              "      <td>Spouse</td>\n",
              "      <td>1.0</td>\n",
              "      <td>1.0</td>\n",
              "      <td>Leisure and Holidays</td>\n",
              "      <td>Wildlife tourism</td>\n",
              "      <td>Travel, agent, tour operator</td>\n",
              "      <td>Package Tour</td>\n",
              "      <td>No</td>\n",
              "      <td>Yes</td>\n",
              "      <td>Yes</td>\n",
              "      <td>Yes</td>\n",
              "      <td>Yes</td>\n",
              "      <td>Yes</td>\n",
              "      <td>No</td>\n",
              "      <td>11</td>\n",
              "      <td>0</td>\n",
              "      <td>Cash</td>\n",
              "      <td>Yes</td>\n",
              "      <td>Friendly People</td>\n",
              "      <td>7790250.0</td>\n",
              "    </tr>\n",
              "    <tr>\n",
              "      <th>4</th>\n",
              "      <td>tour_1004</td>\n",
              "      <td>CHINA</td>\n",
              "      <td>Jan-24</td>\n",
              "      <td>NaN</td>\n",
              "      <td>1.0</td>\n",
              "      <td>0.0</td>\n",
              "      <td>Leisure and Holidays</td>\n",
              "      <td>Wildlife tourism</td>\n",
              "      <td>Travel, agent, tour operator</td>\n",
              "      <td>Independent</td>\n",
              "      <td>No</td>\n",
              "      <td>No</td>\n",
              "      <td>No</td>\n",
              "      <td>No</td>\n",
              "      <td>No</td>\n",
              "      <td>No</td>\n",
              "      <td>No</td>\n",
              "      <td>7</td>\n",
              "      <td>4</td>\n",
              "      <td>Cash</td>\n",
              "      <td>Yes</td>\n",
              "      <td>No comments</td>\n",
              "      <td>1657500.0</td>\n",
              "    </tr>\n",
              "  </tbody>\n",
              "</table>\n",
              "</div>\n",
              "      <button class=\"colab-df-convert\" onclick=\"convertToInteractive('df-615fca28-8ab5-459f-8184-0a37dae35999')\"\n",
              "              title=\"Convert this dataframe to an interactive table.\"\n",
              "              style=\"display:none;\">\n",
              "        \n",
              "  <svg xmlns=\"http://www.w3.org/2000/svg\" height=\"24px\"viewBox=\"0 0 24 24\"\n",
              "       width=\"24px\">\n",
              "    <path d=\"M0 0h24v24H0V0z\" fill=\"none\"/>\n",
              "    <path d=\"M18.56 5.44l.94 2.06.94-2.06 2.06-.94-2.06-.94-.94-2.06-.94 2.06-2.06.94zm-11 1L8.5 8.5l.94-2.06 2.06-.94-2.06-.94L8.5 2.5l-.94 2.06-2.06.94zm10 10l.94 2.06.94-2.06 2.06-.94-2.06-.94-.94-2.06-.94 2.06-2.06.94z\"/><path d=\"M17.41 7.96l-1.37-1.37c-.4-.4-.92-.59-1.43-.59-.52 0-1.04.2-1.43.59L10.3 9.45l-7.72 7.72c-.78.78-.78 2.05 0 2.83L4 21.41c.39.39.9.59 1.41.59.51 0 1.02-.2 1.41-.59l7.78-7.78 2.81-2.81c.8-.78.8-2.07 0-2.86zM5.41 20L4 18.59l7.72-7.72 1.47 1.35L5.41 20z\"/>\n",
              "  </svg>\n",
              "      </button>\n",
              "      \n",
              "  <style>\n",
              "    .colab-df-container {\n",
              "      display:flex;\n",
              "      flex-wrap:wrap;\n",
              "      gap: 12px;\n",
              "    }\n",
              "\n",
              "    .colab-df-convert {\n",
              "      background-color: #E8F0FE;\n",
              "      border: none;\n",
              "      border-radius: 50%;\n",
              "      cursor: pointer;\n",
              "      display: none;\n",
              "      fill: #1967D2;\n",
              "      height: 32px;\n",
              "      padding: 0 0 0 0;\n",
              "      width: 32px;\n",
              "    }\n",
              "\n",
              "    .colab-df-convert:hover {\n",
              "      background-color: #E2EBFA;\n",
              "      box-shadow: 0px 1px 2px rgba(60, 64, 67, 0.3), 0px 1px 3px 1px rgba(60, 64, 67, 0.15);\n",
              "      fill: #174EA6;\n",
              "    }\n",
              "\n",
              "    [theme=dark] .colab-df-convert {\n",
              "      background-color: #3B4455;\n",
              "      fill: #D2E3FC;\n",
              "    }\n",
              "\n",
              "    [theme=dark] .colab-df-convert:hover {\n",
              "      background-color: #434B5C;\n",
              "      box-shadow: 0px 1px 3px 1px rgba(0, 0, 0, 0.15);\n",
              "      filter: drop-shadow(0px 1px 2px rgba(0, 0, 0, 0.3));\n",
              "      fill: #FFFFFF;\n",
              "    }\n",
              "  </style>\n",
              "\n",
              "      <script>\n",
              "        const buttonEl =\n",
              "          document.querySelector('#df-615fca28-8ab5-459f-8184-0a37dae35999 button.colab-df-convert');\n",
              "        buttonEl.style.display =\n",
              "          google.colab.kernel.accessAllowed ? 'block' : 'none';\n",
              "\n",
              "        async function convertToInteractive(key) {\n",
              "          const element = document.querySelector('#df-615fca28-8ab5-459f-8184-0a37dae35999');\n",
              "          const dataTable =\n",
              "            await google.colab.kernel.invokeFunction('convertToInteractive',\n",
              "                                                     [key], {});\n",
              "          if (!dataTable) return;\n",
              "\n",
              "          const docLinkHtml = 'Like what you see? Visit the ' +\n",
              "            '<a target=\"_blank\" href=https://colab.research.google.com/notebooks/data_table.ipynb>data table notebook</a>'\n",
              "            + ' to learn more about interactive tables.';\n",
              "          element.innerHTML = '';\n",
              "          dataTable['output_type'] = 'display_data';\n",
              "          await google.colab.output.renderOutput(dataTable, element);\n",
              "          const docLink = document.createElement('div');\n",
              "          docLink.innerHTML = docLinkHtml;\n",
              "          element.appendChild(docLink);\n",
              "        }\n",
              "      </script>\n",
              "    </div>\n",
              "  </div>\n",
              "  "
            ],
            "text/plain": [
              "          ID         country  ...                       most_impressing total_cost\n",
              "0     tour_0      SWIZERLAND  ...                       Friendly People   674602.5\n",
              "1    tour_10  UNITED KINGDOM  ...  Wonderful Country, Landscape, Nature  3214906.5\n",
              "2  tour_1000  UNITED KINGDOM  ...                  Excellent Experience  3315000.0\n",
              "3  tour_1002  UNITED KINGDOM  ...                       Friendly People  7790250.0\n",
              "4  tour_1004           CHINA  ...                           No comments  1657500.0\n",
              "\n",
              "[5 rows x 23 columns]"
            ]
          },
          "metadata": {},
          "execution_count": 82
        }
      ],
      "source": [
        "# Load our dataset and view the first five columns\n",
        "tourism = pd.read_csv('Tourism.csv')\n",
        "tourism.head()"
      ]
    },
    {
      "cell_type": "code",
      "execution_count": null,
      "metadata": {
        "colab": {
          "base_uri": "https://localhost:8080/",
          "height": 426
        },
        "id": "DEhgIgU_ZiaT",
        "outputId": "3e598050-8cb6-472d-e9bb-e0f106fdfef4"
      },
      "outputs": [
        {
          "output_type": "execute_result",
          "data": {
            "text/html": [
              "\n",
              "  <div id=\"df-c53171fa-3bb6-4b1a-95f2-3ffe64c311bf\">\n",
              "    <div class=\"colab-df-container\">\n",
              "      <div>\n",
              "<style scoped>\n",
              "    .dataframe tbody tr th:only-of-type {\n",
              "        vertical-align: middle;\n",
              "    }\n",
              "\n",
              "    .dataframe tbody tr th {\n",
              "        vertical-align: top;\n",
              "    }\n",
              "\n",
              "    .dataframe thead th {\n",
              "        text-align: right;\n",
              "    }\n",
              "</style>\n",
              "<table border=\"1\" class=\"dataframe\">\n",
              "  <thead>\n",
              "    <tr style=\"text-align: right;\">\n",
              "      <th></th>\n",
              "      <th>ID</th>\n",
              "      <th>country</th>\n",
              "      <th>age_group</th>\n",
              "      <th>travel_with</th>\n",
              "      <th>total_female</th>\n",
              "      <th>total_male</th>\n",
              "      <th>purpose</th>\n",
              "      <th>main_activity</th>\n",
              "      <th>info_source</th>\n",
              "      <th>tour_arrangement</th>\n",
              "      <th>package_transport_int</th>\n",
              "      <th>package_accomodation</th>\n",
              "      <th>package_food</th>\n",
              "      <th>package_transport_tz</th>\n",
              "      <th>package_sightseeing</th>\n",
              "      <th>package_guided_tour</th>\n",
              "      <th>package_insurance</th>\n",
              "      <th>night_mainland</th>\n",
              "      <th>night_zanzibar</th>\n",
              "      <th>payment_mode</th>\n",
              "      <th>first_trip_tz</th>\n",
              "      <th>most_impressing</th>\n",
              "      <th>total_cost</th>\n",
              "    </tr>\n",
              "  </thead>\n",
              "  <tbody>\n",
              "    <tr>\n",
              "      <th>4804</th>\n",
              "      <td>tour_993</td>\n",
              "      <td>UAE</td>\n",
              "      <td>45-64</td>\n",
              "      <td>Alone</td>\n",
              "      <td>0.0</td>\n",
              "      <td>1.0</td>\n",
              "      <td>Business</td>\n",
              "      <td>Hunting tourism</td>\n",
              "      <td>Friends, relatives</td>\n",
              "      <td>Independent</td>\n",
              "      <td>No</td>\n",
              "      <td>No</td>\n",
              "      <td>No</td>\n",
              "      <td>No</td>\n",
              "      <td>No</td>\n",
              "      <td>No</td>\n",
              "      <td>No</td>\n",
              "      <td>2</td>\n",
              "      <td>0</td>\n",
              "      <td>Credit Card</td>\n",
              "      <td>No</td>\n",
              "      <td>No comments</td>\n",
              "      <td>3315000.0</td>\n",
              "    </tr>\n",
              "    <tr>\n",
              "      <th>4805</th>\n",
              "      <td>tour_994</td>\n",
              "      <td>UNITED STATES OF AMERICA</td>\n",
              "      <td>25-44</td>\n",
              "      <td>Spouse</td>\n",
              "      <td>1.0</td>\n",
              "      <td>1.0</td>\n",
              "      <td>Leisure and Holidays</td>\n",
              "      <td>Wildlife tourism</td>\n",
              "      <td>Travel, agent, tour operator</td>\n",
              "      <td>Package Tour</td>\n",
              "      <td>Yes</td>\n",
              "      <td>Yes</td>\n",
              "      <td>Yes</td>\n",
              "      <td>Yes</td>\n",
              "      <td>Yes</td>\n",
              "      <td>Yes</td>\n",
              "      <td>Yes</td>\n",
              "      <td>11</td>\n",
              "      <td>0</td>\n",
              "      <td>Cash</td>\n",
              "      <td>Yes</td>\n",
              "      <td>Friendly People</td>\n",
              "      <td>10690875.0</td>\n",
              "    </tr>\n",
              "    <tr>\n",
              "      <th>4806</th>\n",
              "      <td>tour_995</td>\n",
              "      <td>NETHERLANDS</td>\n",
              "      <td>Jan-24</td>\n",
              "      <td>NaN</td>\n",
              "      <td>1.0</td>\n",
              "      <td>0.0</td>\n",
              "      <td>Leisure and Holidays</td>\n",
              "      <td>Wildlife tourism</td>\n",
              "      <td>others</td>\n",
              "      <td>Independent</td>\n",
              "      <td>No</td>\n",
              "      <td>No</td>\n",
              "      <td>No</td>\n",
              "      <td>No</td>\n",
              "      <td>No</td>\n",
              "      <td>No</td>\n",
              "      <td>No</td>\n",
              "      <td>3</td>\n",
              "      <td>7</td>\n",
              "      <td>Cash</td>\n",
              "      <td>Yes</td>\n",
              "      <td>Good service</td>\n",
              "      <td>2246636.7</td>\n",
              "    </tr>\n",
              "    <tr>\n",
              "      <th>4807</th>\n",
              "      <td>tour_997</td>\n",
              "      <td>SOUTH AFRICA</td>\n",
              "      <td>25-44</td>\n",
              "      <td>Friends/Relatives</td>\n",
              "      <td>1.0</td>\n",
              "      <td>1.0</td>\n",
              "      <td>Business</td>\n",
              "      <td>Beach tourism</td>\n",
              "      <td>Travel, agent, tour operator</td>\n",
              "      <td>Independent</td>\n",
              "      <td>Yes</td>\n",
              "      <td>Yes</td>\n",
              "      <td>Yes</td>\n",
              "      <td>No</td>\n",
              "      <td>No</td>\n",
              "      <td>No</td>\n",
              "      <td>No</td>\n",
              "      <td>5</td>\n",
              "      <td>0</td>\n",
              "      <td>Credit Card</td>\n",
              "      <td>No</td>\n",
              "      <td>Friendly People</td>\n",
              "      <td>1160250.0</td>\n",
              "    </tr>\n",
              "    <tr>\n",
              "      <th>4808</th>\n",
              "      <td>tour_999</td>\n",
              "      <td>UNITED KINGDOM</td>\n",
              "      <td>25-44</td>\n",
              "      <td>Spouse</td>\n",
              "      <td>1.0</td>\n",
              "      <td>1.0</td>\n",
              "      <td>Leisure and Holidays</td>\n",
              "      <td>Wildlife tourism</td>\n",
              "      <td>Travel, agent, tour operator</td>\n",
              "      <td>Package Tour</td>\n",
              "      <td>Yes</td>\n",
              "      <td>Yes</td>\n",
              "      <td>Yes</td>\n",
              "      <td>Yes</td>\n",
              "      <td>Yes</td>\n",
              "      <td>Yes</td>\n",
              "      <td>No</td>\n",
              "      <td>4</td>\n",
              "      <td>7</td>\n",
              "      <td>Cash</td>\n",
              "      <td>Yes</td>\n",
              "      <td>Friendly People</td>\n",
              "      <td>13260000.0</td>\n",
              "    </tr>\n",
              "  </tbody>\n",
              "</table>\n",
              "</div>\n",
              "      <button class=\"colab-df-convert\" onclick=\"convertToInteractive('df-c53171fa-3bb6-4b1a-95f2-3ffe64c311bf')\"\n",
              "              title=\"Convert this dataframe to an interactive table.\"\n",
              "              style=\"display:none;\">\n",
              "        \n",
              "  <svg xmlns=\"http://www.w3.org/2000/svg\" height=\"24px\"viewBox=\"0 0 24 24\"\n",
              "       width=\"24px\">\n",
              "    <path d=\"M0 0h24v24H0V0z\" fill=\"none\"/>\n",
              "    <path d=\"M18.56 5.44l.94 2.06.94-2.06 2.06-.94-2.06-.94-.94-2.06-.94 2.06-2.06.94zm-11 1L8.5 8.5l.94-2.06 2.06-.94-2.06-.94L8.5 2.5l-.94 2.06-2.06.94zm10 10l.94 2.06.94-2.06 2.06-.94-2.06-.94-.94-2.06-.94 2.06-2.06.94z\"/><path d=\"M17.41 7.96l-1.37-1.37c-.4-.4-.92-.59-1.43-.59-.52 0-1.04.2-1.43.59L10.3 9.45l-7.72 7.72c-.78.78-.78 2.05 0 2.83L4 21.41c.39.39.9.59 1.41.59.51 0 1.02-.2 1.41-.59l7.78-7.78 2.81-2.81c.8-.78.8-2.07 0-2.86zM5.41 20L4 18.59l7.72-7.72 1.47 1.35L5.41 20z\"/>\n",
              "  </svg>\n",
              "      </button>\n",
              "      \n",
              "  <style>\n",
              "    .colab-df-container {\n",
              "      display:flex;\n",
              "      flex-wrap:wrap;\n",
              "      gap: 12px;\n",
              "    }\n",
              "\n",
              "    .colab-df-convert {\n",
              "      background-color: #E8F0FE;\n",
              "      border: none;\n",
              "      border-radius: 50%;\n",
              "      cursor: pointer;\n",
              "      display: none;\n",
              "      fill: #1967D2;\n",
              "      height: 32px;\n",
              "      padding: 0 0 0 0;\n",
              "      width: 32px;\n",
              "    }\n",
              "\n",
              "    .colab-df-convert:hover {\n",
              "      background-color: #E2EBFA;\n",
              "      box-shadow: 0px 1px 2px rgba(60, 64, 67, 0.3), 0px 1px 3px 1px rgba(60, 64, 67, 0.15);\n",
              "      fill: #174EA6;\n",
              "    }\n",
              "\n",
              "    [theme=dark] .colab-df-convert {\n",
              "      background-color: #3B4455;\n",
              "      fill: #D2E3FC;\n",
              "    }\n",
              "\n",
              "    [theme=dark] .colab-df-convert:hover {\n",
              "      background-color: #434B5C;\n",
              "      box-shadow: 0px 1px 3px 1px rgba(0, 0, 0, 0.15);\n",
              "      filter: drop-shadow(0px 1px 2px rgba(0, 0, 0, 0.3));\n",
              "      fill: #FFFFFF;\n",
              "    }\n",
              "  </style>\n",
              "\n",
              "      <script>\n",
              "        const buttonEl =\n",
              "          document.querySelector('#df-c53171fa-3bb6-4b1a-95f2-3ffe64c311bf button.colab-df-convert');\n",
              "        buttonEl.style.display =\n",
              "          google.colab.kernel.accessAllowed ? 'block' : 'none';\n",
              "\n",
              "        async function convertToInteractive(key) {\n",
              "          const element = document.querySelector('#df-c53171fa-3bb6-4b1a-95f2-3ffe64c311bf');\n",
              "          const dataTable =\n",
              "            await google.colab.kernel.invokeFunction('convertToInteractive',\n",
              "                                                     [key], {});\n",
              "          if (!dataTable) return;\n",
              "\n",
              "          const docLinkHtml = 'Like what you see? Visit the ' +\n",
              "            '<a target=\"_blank\" href=https://colab.research.google.com/notebooks/data_table.ipynb>data table notebook</a>'\n",
              "            + ' to learn more about interactive tables.';\n",
              "          element.innerHTML = '';\n",
              "          dataTable['output_type'] = 'display_data';\n",
              "          await google.colab.output.renderOutput(dataTable, element);\n",
              "          const docLink = document.createElement('div');\n",
              "          docLink.innerHTML = docLinkHtml;\n",
              "          element.appendChild(docLink);\n",
              "        }\n",
              "      </script>\n",
              "    </div>\n",
              "  </div>\n",
              "  "
            ],
            "text/plain": [
              "            ID                   country  ...  most_impressing  total_cost\n",
              "4804  tour_993                       UAE  ...      No comments   3315000.0\n",
              "4805  tour_994  UNITED STATES OF AMERICA  ...  Friendly People  10690875.0\n",
              "4806  tour_995               NETHERLANDS  ...     Good service   2246636.7\n",
              "4807  tour_997              SOUTH AFRICA  ...  Friendly People   1160250.0\n",
              "4808  tour_999            UNITED KINGDOM  ...  Friendly People  13260000.0\n",
              "\n",
              "[5 rows x 23 columns]"
            ]
          },
          "metadata": {},
          "execution_count": 83
        }
      ],
      "source": [
        "# Let's view the last five columns\n",
        "tourism.tail()"
      ]
    },
    {
      "cell_type": "code",
      "execution_count": null,
      "metadata": {
        "colab": {
          "base_uri": "https://localhost:8080/"
        },
        "id": "K83OtbUjw5B9",
        "outputId": "259ac624-5f8b-4cd8-f006-a5af4f42c714"
      },
      "outputs": [
        {
          "output_type": "execute_result",
          "data": {
            "text/plain": [
              "(4809, 23)"
            ]
          },
          "metadata": {},
          "execution_count": 84
        }
      ],
      "source": [
        "# Check the number of rows and columns in our dataframe\n",
        "tourism.shape"
      ]
    },
    {
      "cell_type": "markdown",
      "metadata": {
        "id": "x5XsTyoIaVtm"
      },
      "source": [
        "**There are 4,809 records and 23 variables**"
      ]
    },
    {
      "cell_type": "code",
      "execution_count": null,
      "metadata": {
        "colab": {
          "base_uri": "https://localhost:8080/"
        },
        "id": "uHrDmacmw9HC",
        "outputId": "e6e32c7c-44c0-4cd5-972c-b4bc6487c984"
      },
      "outputs": [
        {
          "output_type": "stream",
          "name": "stdout",
          "text": [
            "<class 'pandas.core.frame.DataFrame'>\n",
            "RangeIndex: 4809 entries, 0 to 4808\n",
            "Data columns (total 23 columns):\n",
            " #   Column                 Non-Null Count  Dtype  \n",
            "---  ------                 --------------  -----  \n",
            " 0   ID                     4809 non-null   object \n",
            " 1   country                4809 non-null   object \n",
            " 2   age_group              4809 non-null   object \n",
            " 3   travel_with            3695 non-null   object \n",
            " 4   total_female           4806 non-null   float64\n",
            " 5   total_male             4804 non-null   float64\n",
            " 6   purpose                4809 non-null   object \n",
            " 7   main_activity          4809 non-null   object \n",
            " 8   info_source            4809 non-null   object \n",
            " 9   tour_arrangement       4809 non-null   object \n",
            " 10  package_transport_int  4809 non-null   object \n",
            " 11  package_accomodation   4809 non-null   object \n",
            " 12  package_food           4809 non-null   object \n",
            " 13  package_transport_tz   4809 non-null   object \n",
            " 14  package_sightseeing    4809 non-null   object \n",
            " 15  package_guided_tour    4809 non-null   object \n",
            " 16  package_insurance      4809 non-null   object \n",
            " 17  night_mainland         4809 non-null   int64  \n",
            " 18  night_zanzibar         4809 non-null   int64  \n",
            " 19  payment_mode           4809 non-null   object \n",
            " 20  first_trip_tz          4809 non-null   object \n",
            " 21  most_impressing        4496 non-null   object \n",
            " 22  total_cost             4809 non-null   float64\n",
            "dtypes: float64(3), int64(2), object(18)\n",
            "memory usage: 864.2+ KB\n"
          ]
        }
      ],
      "source": [
        "# Our dataframe information\n",
        "tourism.info()"
      ]
    },
    {
      "cell_type": "code",
      "execution_count": null,
      "metadata": {
        "colab": {
          "base_uri": "https://localhost:8080/"
        },
        "id": "ATKKQ1hVZ-Fs",
        "outputId": "858ab1a9-85cc-484d-8c06-199e52ba43cc"
      },
      "outputs": [
        {
          "output_type": "execute_result",
          "data": {
            "text/plain": [
              "1435"
            ]
          },
          "metadata": {},
          "execution_count": 87
        }
      ],
      "source": [
        "# The total number of missing values in our dataframe\n",
        "tourism.isnull().sum().sum()"
      ]
    },
    {
      "cell_type": "markdown",
      "source": [
        "**There is a total of 1435 null values in the dataset**"
      ],
      "metadata": {
        "id": "2ugZX3twvTXJ"
      }
    },
    {
      "cell_type": "code",
      "execution_count": null,
      "metadata": {
        "colab": {
          "base_uri": "https://localhost:8080/"
        },
        "id": "WEXURwPxw9Oc",
        "outputId": "9004ebda-51dc-4193-d0f5-420d7295c43a"
      },
      "outputs": [
        {
          "output_type": "execute_result",
          "data": {
            "text/plain": [
              "ID                          0\n",
              "country                     0\n",
              "age_group                   0\n",
              "travel_with              1114\n",
              "total_female                3\n",
              "total_male                  5\n",
              "purpose                     0\n",
              "main_activity               0\n",
              "info_source                 0\n",
              "tour_arrangement            0\n",
              "package_transport_int       0\n",
              "package_accomodation        0\n",
              "package_food                0\n",
              "package_transport_tz        0\n",
              "package_sightseeing         0\n",
              "package_guided_tour         0\n",
              "package_insurance           0\n",
              "night_mainland              0\n",
              "night_zanzibar              0\n",
              "payment_mode                0\n",
              "first_trip_tz               0\n",
              "most_impressing           313\n",
              "total_cost                  0\n",
              "dtype: int64"
            ]
          },
          "metadata": {},
          "execution_count": 86
        }
      ],
      "source": [
        "# Identify any missing values\n",
        "tourism.isnull().sum()"
      ]
    },
    {
      "cell_type": "markdown",
      "metadata": {
        "id": "lvKTcYE5aLM5"
      },
      "source": [
        "**The null values are in the travel with, total female, total male, and most impressing columns.**"
      ]
    },
    {
      "cell_type": "code",
      "execution_count": null,
      "metadata": {
        "colab": {
          "base_uri": "https://localhost:8080/"
        },
        "id": "Mam_qTOyxYXo",
        "outputId": "b3df476d-1ced-4204-b5f8-1a2e4a8e97ca"
      },
      "outputs": [
        {
          "output_type": "execute_result",
          "data": {
            "text/plain": [
              "0"
            ]
          },
          "metadata": {},
          "execution_count": 88
        }
      ],
      "source": [
        "# Check for duplicate values\n",
        "tourism.duplicated().sum()"
      ]
    },
    {
      "cell_type": "markdown",
      "metadata": {
        "id": "L0sraiP1aqwP"
      },
      "source": [
        "**There are no duplicate values.**"
      ]
    },
    {
      "cell_type": "code",
      "execution_count": null,
      "metadata": {
        "colab": {
          "base_uri": "https://localhost:8080/",
          "height": 300
        },
        "id": "087KjpSFazXh",
        "outputId": "ba7dbcda-7e8a-4858-e10d-0359ac9c305b"
      },
      "outputs": [
        {
          "output_type": "execute_result",
          "data": {
            "text/html": [
              "\n",
              "  <div id=\"df-1c74410e-2340-4ed0-b873-1ed922b47781\">\n",
              "    <div class=\"colab-df-container\">\n",
              "      <div>\n",
              "<style scoped>\n",
              "    .dataframe tbody tr th:only-of-type {\n",
              "        vertical-align: middle;\n",
              "    }\n",
              "\n",
              "    .dataframe tbody tr th {\n",
              "        vertical-align: top;\n",
              "    }\n",
              "\n",
              "    .dataframe thead th {\n",
              "        text-align: right;\n",
              "    }\n",
              "</style>\n",
              "<table border=\"1\" class=\"dataframe\">\n",
              "  <thead>\n",
              "    <tr style=\"text-align: right;\">\n",
              "      <th></th>\n",
              "      <th>total_female</th>\n",
              "      <th>total_male</th>\n",
              "      <th>night_mainland</th>\n",
              "      <th>night_zanzibar</th>\n",
              "      <th>total_cost</th>\n",
              "    </tr>\n",
              "  </thead>\n",
              "  <tbody>\n",
              "    <tr>\n",
              "      <th>count</th>\n",
              "      <td>4806.000000</td>\n",
              "      <td>4804.000000</td>\n",
              "      <td>4809.000000</td>\n",
              "      <td>4809.000000</td>\n",
              "      <td>4.809000e+03</td>\n",
              "    </tr>\n",
              "    <tr>\n",
              "      <th>mean</th>\n",
              "      <td>0.926758</td>\n",
              "      <td>1.009575</td>\n",
              "      <td>8.488043</td>\n",
              "      <td>2.304429</td>\n",
              "      <td>8.114389e+06</td>\n",
              "    </tr>\n",
              "    <tr>\n",
              "      <th>std</th>\n",
              "      <td>1.288242</td>\n",
              "      <td>1.138865</td>\n",
              "      <td>10.427624</td>\n",
              "      <td>4.227080</td>\n",
              "      <td>1.222490e+07</td>\n",
              "    </tr>\n",
              "    <tr>\n",
              "      <th>min</th>\n",
              "      <td>0.000000</td>\n",
              "      <td>0.000000</td>\n",
              "      <td>0.000000</td>\n",
              "      <td>0.000000</td>\n",
              "      <td>4.900000e+04</td>\n",
              "    </tr>\n",
              "    <tr>\n",
              "      <th>25%</th>\n",
              "      <td>0.000000</td>\n",
              "      <td>1.000000</td>\n",
              "      <td>3.000000</td>\n",
              "      <td>0.000000</td>\n",
              "      <td>8.121750e+05</td>\n",
              "    </tr>\n",
              "    <tr>\n",
              "      <th>50%</th>\n",
              "      <td>1.000000</td>\n",
              "      <td>1.000000</td>\n",
              "      <td>6.000000</td>\n",
              "      <td>0.000000</td>\n",
              "      <td>3.397875e+06</td>\n",
              "    </tr>\n",
              "    <tr>\n",
              "      <th>75%</th>\n",
              "      <td>1.000000</td>\n",
              "      <td>1.000000</td>\n",
              "      <td>11.000000</td>\n",
              "      <td>4.000000</td>\n",
              "      <td>9.945000e+06</td>\n",
              "    </tr>\n",
              "    <tr>\n",
              "      <th>max</th>\n",
              "      <td>49.000000</td>\n",
              "      <td>44.000000</td>\n",
              "      <td>145.000000</td>\n",
              "      <td>61.000000</td>\n",
              "      <td>9.953288e+07</td>\n",
              "    </tr>\n",
              "  </tbody>\n",
              "</table>\n",
              "</div>\n",
              "      <button class=\"colab-df-convert\" onclick=\"convertToInteractive('df-1c74410e-2340-4ed0-b873-1ed922b47781')\"\n",
              "              title=\"Convert this dataframe to an interactive table.\"\n",
              "              style=\"display:none;\">\n",
              "        \n",
              "  <svg xmlns=\"http://www.w3.org/2000/svg\" height=\"24px\"viewBox=\"0 0 24 24\"\n",
              "       width=\"24px\">\n",
              "    <path d=\"M0 0h24v24H0V0z\" fill=\"none\"/>\n",
              "    <path d=\"M18.56 5.44l.94 2.06.94-2.06 2.06-.94-2.06-.94-.94-2.06-.94 2.06-2.06.94zm-11 1L8.5 8.5l.94-2.06 2.06-.94-2.06-.94L8.5 2.5l-.94 2.06-2.06.94zm10 10l.94 2.06.94-2.06 2.06-.94-2.06-.94-.94-2.06-.94 2.06-2.06.94z\"/><path d=\"M17.41 7.96l-1.37-1.37c-.4-.4-.92-.59-1.43-.59-.52 0-1.04.2-1.43.59L10.3 9.45l-7.72 7.72c-.78.78-.78 2.05 0 2.83L4 21.41c.39.39.9.59 1.41.59.51 0 1.02-.2 1.41-.59l7.78-7.78 2.81-2.81c.8-.78.8-2.07 0-2.86zM5.41 20L4 18.59l7.72-7.72 1.47 1.35L5.41 20z\"/>\n",
              "  </svg>\n",
              "      </button>\n",
              "      \n",
              "  <style>\n",
              "    .colab-df-container {\n",
              "      display:flex;\n",
              "      flex-wrap:wrap;\n",
              "      gap: 12px;\n",
              "    }\n",
              "\n",
              "    .colab-df-convert {\n",
              "      background-color: #E8F0FE;\n",
              "      border: none;\n",
              "      border-radius: 50%;\n",
              "      cursor: pointer;\n",
              "      display: none;\n",
              "      fill: #1967D2;\n",
              "      height: 32px;\n",
              "      padding: 0 0 0 0;\n",
              "      width: 32px;\n",
              "    }\n",
              "\n",
              "    .colab-df-convert:hover {\n",
              "      background-color: #E2EBFA;\n",
              "      box-shadow: 0px 1px 2px rgba(60, 64, 67, 0.3), 0px 1px 3px 1px rgba(60, 64, 67, 0.15);\n",
              "      fill: #174EA6;\n",
              "    }\n",
              "\n",
              "    [theme=dark] .colab-df-convert {\n",
              "      background-color: #3B4455;\n",
              "      fill: #D2E3FC;\n",
              "    }\n",
              "\n",
              "    [theme=dark] .colab-df-convert:hover {\n",
              "      background-color: #434B5C;\n",
              "      box-shadow: 0px 1px 3px 1px rgba(0, 0, 0, 0.15);\n",
              "      filter: drop-shadow(0px 1px 2px rgba(0, 0, 0, 0.3));\n",
              "      fill: #FFFFFF;\n",
              "    }\n",
              "  </style>\n",
              "\n",
              "      <script>\n",
              "        const buttonEl =\n",
              "          document.querySelector('#df-1c74410e-2340-4ed0-b873-1ed922b47781 button.colab-df-convert');\n",
              "        buttonEl.style.display =\n",
              "          google.colab.kernel.accessAllowed ? 'block' : 'none';\n",
              "\n",
              "        async function convertToInteractive(key) {\n",
              "          const element = document.querySelector('#df-1c74410e-2340-4ed0-b873-1ed922b47781');\n",
              "          const dataTable =\n",
              "            await google.colab.kernel.invokeFunction('convertToInteractive',\n",
              "                                                     [key], {});\n",
              "          if (!dataTable) return;\n",
              "\n",
              "          const docLinkHtml = 'Like what you see? Visit the ' +\n",
              "            '<a target=\"_blank\" href=https://colab.research.google.com/notebooks/data_table.ipynb>data table notebook</a>'\n",
              "            + ' to learn more about interactive tables.';\n",
              "          element.innerHTML = '';\n",
              "          dataTable['output_type'] = 'display_data';\n",
              "          await google.colab.output.renderOutput(dataTable, element);\n",
              "          const docLink = document.createElement('div');\n",
              "          docLink.innerHTML = docLinkHtml;\n",
              "          element.appendChild(docLink);\n",
              "        }\n",
              "      </script>\n",
              "    </div>\n",
              "  </div>\n",
              "  "
            ],
            "text/plain": [
              "       total_female   total_male  night_mainland  night_zanzibar    total_cost\n",
              "count   4806.000000  4804.000000     4809.000000     4809.000000  4.809000e+03\n",
              "mean       0.926758     1.009575        8.488043        2.304429  8.114389e+06\n",
              "std        1.288242     1.138865       10.427624        4.227080  1.222490e+07\n",
              "min        0.000000     0.000000        0.000000        0.000000  4.900000e+04\n",
              "25%        0.000000     1.000000        3.000000        0.000000  8.121750e+05\n",
              "50%        1.000000     1.000000        6.000000        0.000000  3.397875e+06\n",
              "75%        1.000000     1.000000       11.000000        4.000000  9.945000e+06\n",
              "max       49.000000    44.000000      145.000000       61.000000  9.953288e+07"
            ]
          },
          "metadata": {},
          "execution_count": 89
        }
      ],
      "source": [
        "# Check the statistical information of our dataframe\n",
        "tourism.describe()"
      ]
    },
    {
      "cell_type": "markdown",
      "source": [
        "**Above is a brief description of the dataset**"
      ],
      "metadata": {
        "id": "v1XCRSdevqSq"
      }
    },
    {
      "cell_type": "code",
      "execution_count": null,
      "metadata": {
        "colab": {
          "base_uri": "https://localhost:8080/"
        },
        "id": "oeFzAO9fbJG1",
        "outputId": "8bb48cc8-2959-4d5d-c2d5-fe9942c116ad"
      },
      "outputs": [
        {
          "output_type": "execute_result",
          "data": {
            "text/plain": [
              "Index(['ID', 'country', 'age_group', 'travel_with', 'total_female',\n",
              "       'total_male', 'purpose', 'main_activity', 'info_source',\n",
              "       'tour_arrangement', 'package_transport_int', 'package_accomodation',\n",
              "       'package_food', 'package_transport_tz', 'package_sightseeing',\n",
              "       'package_guided_tour', 'package_insurance', 'night_mainland',\n",
              "       'night_zanzibar', 'payment_mode', 'first_trip_tz', 'most_impressing',\n",
              "       'total_cost'],\n",
              "      dtype='object')"
            ]
          },
          "metadata": {},
          "execution_count": 90
        }
      ],
      "source": [
        "# Let's identify the column names in our dataset\n",
        "tourism.columns"
      ]
    },
    {
      "cell_type": "markdown",
      "source": [
        "**The above are the 23 variables in our dataset**"
      ],
      "metadata": {
        "id": "orefcyy9vv64"
      }
    },
    {
      "cell_type": "markdown",
      "metadata": {
        "id": "Mpeovc08bPWZ"
      },
      "source": [
        "\n",
        "## 3. Data Cleaning"
      ]
    },
    {
      "cell_type": "code",
      "execution_count": null,
      "metadata": {
        "colab": {
          "base_uri": "https://localhost:8080/"
        },
        "id": "7F40u9bDZfSg",
        "outputId": "145c2dc7-8cc0-4c80-ba01-b33950f98d19"
      },
      "outputs": [
        {
          "output_type": "execute_result",
          "data": {
            "text/plain": [
              "ID                          0\n",
              "country                     0\n",
              "age_group                   0\n",
              "travel_with              1114\n",
              "total_female                3\n",
              "total_male                  5\n",
              "purpose                     0\n",
              "main_activity               0\n",
              "info_source                 0\n",
              "tour_arrangement            0\n",
              "package_transport_int       0\n",
              "package_accomodation        0\n",
              "package_food                0\n",
              "package_transport_tz        0\n",
              "package_sightseeing         0\n",
              "package_guided_tour         0\n",
              "package_insurance           0\n",
              "night_mainland              0\n",
              "night_zanzibar              0\n",
              "payment_mode                0\n",
              "first_trip_tz               0\n",
              "most_impressing           313\n",
              "total_cost                  0\n",
              "dtype: int64"
            ]
          },
          "metadata": {},
          "execution_count": 91
        }
      ],
      "source": [
        "# Handling Missing Values\n",
        "tourism.isnull().sum()"
      ]
    },
    {
      "cell_type": "markdown",
      "source": [
        "**There are null values that need to be dealth with.**"
      ],
      "metadata": {
        "id": "chv1brPUv-dK"
      }
    },
    {
      "cell_type": "code",
      "execution_count": null,
      "metadata": {
        "colab": {
          "base_uri": "https://localhost:8080/"
        },
        "id": "vkNWetPnfQcB",
        "outputId": "51de023c-c72f-4dec-9fd3-02613d943c7f"
      },
      "outputs": [
        {
          "output_type": "execute_result",
          "data": {
            "text/plain": [
              "array(['Friends/Relatives', 'DNS', 'Alone', 'Spouse', 'Children',\n",
              "       'Spouse and Children'], dtype=object)"
            ]
          },
          "metadata": {},
          "execution_count": 92
        }
      ],
      "source": [
        "# We will fill missing values in the travel_with column with DNS this stands for did not submit\n",
        "tourism['travel_with'].fillna('DNS', inplace = True)\n",
        "# View the changes\n",
        "tourism['travel_with'].unique()"
      ]
    },
    {
      "cell_type": "markdown",
      "source": [
        "**We will fill the nulls in the column (travel with) with DNS which denotes did not say. We are assuming that those with null in that particular variable did not say who they are travelling with.**"
      ],
      "metadata": {
        "id": "CUrO_vR3wHS5"
      }
    },
    {
      "cell_type": "code",
      "execution_count": null,
      "metadata": {
        "id": "XfAcmmGsiLKd"
      },
      "outputs": [],
      "source": [
        "# We will fill missing values in total female and total male with 0\n",
        "tourism['total_female'].fillna(0.0, inplace = True)\n",
        "tourism['total_male'].fillna(0.0, inplace = True)"
      ]
    },
    {
      "cell_type": "markdown",
      "source": [
        "**We fill the nulls from the total female and total male columns with 0. We do so assuming that those who did not fill they didn't have a male or female with them.**"
      ],
      "metadata": {
        "id": "TOkCUDIzwWEv"
      }
    },
    {
      "cell_type": "code",
      "execution_count": null,
      "metadata": {
        "colab": {
          "base_uri": "https://localhost:8080/",
          "height": 246
        },
        "id": "OFoTw9sgkGa7",
        "outputId": "913e5057-2fbf-4bf1-f7f9-d0b83989a368"
      },
      "outputs": [
        {
          "output_type": "execute_result",
          "data": {
            "text/html": [
              "\n",
              "  <div id=\"df-8eff94e5-3267-4378-8f8d-900fa4b806a0\">\n",
              "    <div class=\"colab-df-container\">\n",
              "      <div>\n",
              "<style scoped>\n",
              "    .dataframe tbody tr th:only-of-type {\n",
              "        vertical-align: middle;\n",
              "    }\n",
              "\n",
              "    .dataframe tbody tr th {\n",
              "        vertical-align: top;\n",
              "    }\n",
              "\n",
              "    .dataframe thead th {\n",
              "        text-align: right;\n",
              "    }\n",
              "</style>\n",
              "<table border=\"1\" class=\"dataframe\">\n",
              "  <thead>\n",
              "    <tr style=\"text-align: right;\">\n",
              "      <th></th>\n",
              "      <th>ID</th>\n",
              "      <th>country</th>\n",
              "      <th>age_group</th>\n",
              "      <th>travel_with</th>\n",
              "      <th>total_female</th>\n",
              "      <th>total_male</th>\n",
              "      <th>purpose</th>\n",
              "      <th>main_activity</th>\n",
              "      <th>tour_arrangement</th>\n",
              "      <th>package_transport_int</th>\n",
              "      <th>package_accomodation</th>\n",
              "      <th>package_food</th>\n",
              "      <th>package_transport_tz</th>\n",
              "      <th>package_sightseeing</th>\n",
              "      <th>package_guided_tour</th>\n",
              "      <th>package_insurance</th>\n",
              "      <th>night_mainland</th>\n",
              "      <th>night_zanzibar</th>\n",
              "      <th>payment_mode</th>\n",
              "      <th>first_trip_tz</th>\n",
              "      <th>total_cost</th>\n",
              "    </tr>\n",
              "  </thead>\n",
              "  <tbody>\n",
              "    <tr>\n",
              "      <th>0</th>\n",
              "      <td>tour_0</td>\n",
              "      <td>SWIZERLAND</td>\n",
              "      <td>45-64</td>\n",
              "      <td>Friends/Relatives</td>\n",
              "      <td>1.0</td>\n",
              "      <td>1.0</td>\n",
              "      <td>Leisure and Holidays</td>\n",
              "      <td>Wildlife tourism</td>\n",
              "      <td>Independent</td>\n",
              "      <td>No</td>\n",
              "      <td>No</td>\n",
              "      <td>No</td>\n",
              "      <td>No</td>\n",
              "      <td>No</td>\n",
              "      <td>No</td>\n",
              "      <td>No</td>\n",
              "      <td>13</td>\n",
              "      <td>0</td>\n",
              "      <td>Cash</td>\n",
              "      <td>No</td>\n",
              "      <td>674602.5</td>\n",
              "    </tr>\n",
              "    <tr>\n",
              "      <th>1</th>\n",
              "      <td>tour_10</td>\n",
              "      <td>UNITED KINGDOM</td>\n",
              "      <td>25-44</td>\n",
              "      <td>DNS</td>\n",
              "      <td>1.0</td>\n",
              "      <td>0.0</td>\n",
              "      <td>Leisure and Holidays</td>\n",
              "      <td>Cultural tourism</td>\n",
              "      <td>Independent</td>\n",
              "      <td>No</td>\n",
              "      <td>No</td>\n",
              "      <td>No</td>\n",
              "      <td>No</td>\n",
              "      <td>No</td>\n",
              "      <td>No</td>\n",
              "      <td>No</td>\n",
              "      <td>14</td>\n",
              "      <td>7</td>\n",
              "      <td>Cash</td>\n",
              "      <td>Yes</td>\n",
              "      <td>3214906.5</td>\n",
              "    </tr>\n",
              "  </tbody>\n",
              "</table>\n",
              "</div>\n",
              "      <button class=\"colab-df-convert\" onclick=\"convertToInteractive('df-8eff94e5-3267-4378-8f8d-900fa4b806a0')\"\n",
              "              title=\"Convert this dataframe to an interactive table.\"\n",
              "              style=\"display:none;\">\n",
              "        \n",
              "  <svg xmlns=\"http://www.w3.org/2000/svg\" height=\"24px\"viewBox=\"0 0 24 24\"\n",
              "       width=\"24px\">\n",
              "    <path d=\"M0 0h24v24H0V0z\" fill=\"none\"/>\n",
              "    <path d=\"M18.56 5.44l.94 2.06.94-2.06 2.06-.94-2.06-.94-.94-2.06-.94 2.06-2.06.94zm-11 1L8.5 8.5l.94-2.06 2.06-.94-2.06-.94L8.5 2.5l-.94 2.06-2.06.94zm10 10l.94 2.06.94-2.06 2.06-.94-2.06-.94-.94-2.06-.94 2.06-2.06.94z\"/><path d=\"M17.41 7.96l-1.37-1.37c-.4-.4-.92-.59-1.43-.59-.52 0-1.04.2-1.43.59L10.3 9.45l-7.72 7.72c-.78.78-.78 2.05 0 2.83L4 21.41c.39.39.9.59 1.41.59.51 0 1.02-.2 1.41-.59l7.78-7.78 2.81-2.81c.8-.78.8-2.07 0-2.86zM5.41 20L4 18.59l7.72-7.72 1.47 1.35L5.41 20z\"/>\n",
              "  </svg>\n",
              "      </button>\n",
              "      \n",
              "  <style>\n",
              "    .colab-df-container {\n",
              "      display:flex;\n",
              "      flex-wrap:wrap;\n",
              "      gap: 12px;\n",
              "    }\n",
              "\n",
              "    .colab-df-convert {\n",
              "      background-color: #E8F0FE;\n",
              "      border: none;\n",
              "      border-radius: 50%;\n",
              "      cursor: pointer;\n",
              "      display: none;\n",
              "      fill: #1967D2;\n",
              "      height: 32px;\n",
              "      padding: 0 0 0 0;\n",
              "      width: 32px;\n",
              "    }\n",
              "\n",
              "    .colab-df-convert:hover {\n",
              "      background-color: #E2EBFA;\n",
              "      box-shadow: 0px 1px 2px rgba(60, 64, 67, 0.3), 0px 1px 3px 1px rgba(60, 64, 67, 0.15);\n",
              "      fill: #174EA6;\n",
              "    }\n",
              "\n",
              "    [theme=dark] .colab-df-convert {\n",
              "      background-color: #3B4455;\n",
              "      fill: #D2E3FC;\n",
              "    }\n",
              "\n",
              "    [theme=dark] .colab-df-convert:hover {\n",
              "      background-color: #434B5C;\n",
              "      box-shadow: 0px 1px 3px 1px rgba(0, 0, 0, 0.15);\n",
              "      filter: drop-shadow(0px 1px 2px rgba(0, 0, 0, 0.3));\n",
              "      fill: #FFFFFF;\n",
              "    }\n",
              "  </style>\n",
              "\n",
              "      <script>\n",
              "        const buttonEl =\n",
              "          document.querySelector('#df-8eff94e5-3267-4378-8f8d-900fa4b806a0 button.colab-df-convert');\n",
              "        buttonEl.style.display =\n",
              "          google.colab.kernel.accessAllowed ? 'block' : 'none';\n",
              "\n",
              "        async function convertToInteractive(key) {\n",
              "          const element = document.querySelector('#df-8eff94e5-3267-4378-8f8d-900fa4b806a0');\n",
              "          const dataTable =\n",
              "            await google.colab.kernel.invokeFunction('convertToInteractive',\n",
              "                                                     [key], {});\n",
              "          if (!dataTable) return;\n",
              "\n",
              "          const docLinkHtml = 'Like what you see? Visit the ' +\n",
              "            '<a target=\"_blank\" href=https://colab.research.google.com/notebooks/data_table.ipynb>data table notebook</a>'\n",
              "            + ' to learn more about interactive tables.';\n",
              "          element.innerHTML = '';\n",
              "          dataTable['output_type'] = 'display_data';\n",
              "          await google.colab.output.renderOutput(dataTable, element);\n",
              "          const docLink = document.createElement('div');\n",
              "          docLink.innerHTML = docLinkHtml;\n",
              "          element.appendChild(docLink);\n",
              "        }\n",
              "      </script>\n",
              "    </div>\n",
              "  </div>\n",
              "  "
            ],
            "text/plain": [
              "        ID         country age_group  ... payment_mode  first_trip_tz  total_cost\n",
              "0   tour_0      SWIZERLAND     45-64  ...         Cash             No    674602.5\n",
              "1  tour_10  UNITED KINGDOM     25-44  ...         Cash            Yes   3214906.5\n",
              "\n",
              "[2 rows x 21 columns]"
            ]
          },
          "metadata": {},
          "execution_count": 94
        }
      ],
      "source": [
        "# Drop columns that we will not use in our analysis\n",
        "tourism.drop(['most_impressing','info_source'],axis=1, inplace=True)\n",
        "# Confirm changes\n",
        "tourism.head(2)"
      ]
    },
    {
      "cell_type": "markdown",
      "source": [
        "**We drop columns that are not relevant to our study.**"
      ],
      "metadata": {
        "id": "AJa93RPawjA0"
      }
    },
    {
      "cell_type": "code",
      "execution_count": null,
      "metadata": {
        "colab": {
          "base_uri": "https://localhost:8080/"
        },
        "id": "rO4JMB62ksuB",
        "outputId": "c06e9d27-9244-4c2f-b18f-1f98f333893e"
      },
      "outputs": [
        {
          "output_type": "execute_result",
          "data": {
            "text/plain": [
              "ID                       0\n",
              "country                  0\n",
              "age_group                0\n",
              "travel_with              0\n",
              "total_female             0\n",
              "total_male               0\n",
              "purpose                  0\n",
              "main_activity            0\n",
              "tour_arrangement         0\n",
              "package_transport_int    0\n",
              "package_accomodation     0\n",
              "package_food             0\n",
              "package_transport_tz     0\n",
              "package_sightseeing      0\n",
              "package_guided_tour      0\n",
              "package_insurance        0\n",
              "night_mainland           0\n",
              "night_zanzibar           0\n",
              "payment_mode             0\n",
              "first_trip_tz            0\n",
              "total_cost               0\n",
              "dtype: int64"
            ]
          },
          "metadata": {},
          "execution_count": 95
        }
      ],
      "source": [
        "# Final check for null values\n",
        "tourism.isnull().sum()"
      ]
    },
    {
      "cell_type": "markdown",
      "metadata": {
        "id": "wZwvzQarlGRH"
      },
      "source": [
        "**We have cleared our data of null values**\n",
        "\n",
        "*  We chose to replace the missing values in travel with with DNS, we assumed that \n",
        "respondents chose not to give an answer.\n",
        "\n",
        "*  We chose to replace the null values in total male and total female with 0 because we assumed that they were not filled because they were not there."
      ]
    },
    {
      "cell_type": "code",
      "execution_count": null,
      "metadata": {
        "colab": {
          "base_uri": "https://localhost:8080/"
        },
        "id": "9bWQLlStlycj",
        "outputId": "dd4f9932-08af-4a68-fa55-be9c6d426b29"
      },
      "outputs": [
        {
          "output_type": "execute_result",
          "data": {
            "text/plain": [
              "0"
            ]
          },
          "metadata": {},
          "execution_count": 96
        }
      ],
      "source": [
        "# Duplicates\n",
        "tourism.duplicated().sum()"
      ]
    },
    {
      "cell_type": "markdown",
      "metadata": {
        "id": "OJQ_yZrxmAK3"
      },
      "source": [
        "**We have no duplicate values**"
      ]
    },
    {
      "cell_type": "code",
      "execution_count": null,
      "metadata": {
        "colab": {
          "base_uri": "https://localhost:8080/"
        },
        "id": "PEFJCh4answf",
        "outputId": "869895c0-acfb-40a4-ee9a-f711d198c782"
      },
      "outputs": [
        {
          "output_type": "stream",
          "name": "stdout",
          "text": [
            "Unique values of  ID is ['tour_0' 'tour_10' 'tour_1000' ... 'tour_995' 'tour_997' 'tour_999']\n",
            "Unique values of  country is ['SWIZERLAND' 'UNITED KINGDOM' 'CHINA' 'SOUTH AFRICA'\n",
            " 'UNITED STATES OF AMERICA' 'NIGERIA' 'INDIA' 'BRAZIL' 'CANADA' 'MALT'\n",
            " 'MOZAMBIQUE' 'RWANDA' 'AUSTRIA' 'MYANMAR' 'GERMANY' 'KENYA' 'ALGERIA'\n",
            " 'IRELAND' 'DENMARK' 'SPAIN' 'FRANCE' 'ITALY' 'EGYPT' 'QATAR' 'MALAWI'\n",
            " 'JAPAN' 'SWEDEN' 'NETHERLANDS' 'UAE' 'UGANDA' 'AUSTRALIA' 'YEMEN'\n",
            " 'NEW ZEALAND' 'BELGIUM' 'NORWAY' 'ZIMBABWE' 'ZAMBIA' 'CONGO' 'BURGARIA'\n",
            " 'PAKISTAN' 'GREECE' 'MAURITIUS' 'DRC' 'OMAN' 'PORTUGAL' 'KOREA'\n",
            " 'SWAZILAND' 'TUNISIA' 'KUWAIT' 'DOMINICA' 'ISRAEL' 'FINLAND'\n",
            " 'CZECH REPUBLIC' 'UKRAIN' 'ETHIOPIA' 'BURUNDI' 'SCOTLAND' 'RUSSIA'\n",
            " 'GHANA' 'NIGER' 'MALAYSIA' 'COLOMBIA' 'LUXEMBOURG' 'NEPAL' 'POLAND'\n",
            " 'SINGAPORE' 'LITHUANIA' 'HUNGARY' 'INDONESIA' 'TURKEY' 'TRINIDAD TOBACCO'\n",
            " 'IRAQ' 'SLOVENIA' 'UNITED ARAB EMIRATES' 'COMORO' 'SRI LANKA' 'IRAN'\n",
            " 'MONTENEGRO' 'ANGOLA' 'LEBANON' 'SLOVAKIA' 'ROMANIA' 'MEXICO' 'LATVIA'\n",
            " 'CROATIA' 'CAPE VERDE' 'SUDAN' 'COSTARICA' 'CHILE' 'NAMIBIA' 'TAIWAN'\n",
            " 'SERBIA' 'LESOTHO' 'GEORGIA' 'PHILIPINES' 'IVORY COAST' 'MADAGASCAR'\n",
            " 'DJIBOUT' 'CYPRUS' 'ARGENTINA' 'URUGUAY' 'MORROCO' 'THAILAND' 'BERMUDA'\n",
            " 'ESTONIA']\n",
            "Unique values of  age_group is ['45-64' '25-44' 'Jan-24' '65+']\n",
            "Unique values of  travel_with is ['Friends/Relatives' 'DNS' 'Alone' 'Spouse' 'Children'\n",
            " 'Spouse and Children']\n",
            "Unique values of  total_female is [ 1.  0.  2.  4.  3.  5. 12. 10.  6. 11.  7. 15.  9. 49.]\n",
            "Unique values of  total_male is [ 1.  0.  2.  3.  4.  5.  6. 15. 17.  7. 10. 12. 44.  9.]\n",
            "Unique values of  purpose is ['Leisure and Holidays' 'Visiting Friends and Relatives' 'Business'\n",
            " 'Meetings and Conference' 'Volunteering' 'Scientific and Academic'\n",
            " 'Other']\n",
            "Unique values of  main_activity is ['Wildlife tourism' 'Cultural tourism' 'Mountain climbing' 'Beach tourism'\n",
            " 'Conference tourism' 'Hunting tourism' 'Bird watching' 'business'\n",
            " 'Diving and Sport Fishing']\n",
            "Unique values of  tour_arrangement is ['Independent' 'Package Tour']\n",
            "Unique values of  package_transport_int is ['No' 'Yes']\n",
            "Unique values of  package_accomodation is ['No' 'Yes']\n",
            "Unique values of  package_food is ['No' 'Yes']\n",
            "Unique values of  package_transport_tz is ['No' 'Yes']\n",
            "Unique values of  package_sightseeing is ['No' 'Yes']\n",
            "Unique values of  package_guided_tour is ['No' 'Yes']\n",
            "Unique values of  package_insurance is ['No' 'Yes']\n",
            "Unique values of  night_mainland is [ 13  14   1  11   7   9  10   4   5  17  30   2   0  24   3  70  20  15\n",
            "  56  12   6  21  29  27  34  60  22 120  50  45  90  42  35  36  43  16\n",
            "  19  66  31  23  33  61  37  25  32  69  40  46  47 130  59  41  63  54\n",
            "  51  39  26  64  49  55  75  65  53 145]\n",
            "Unique values of  night_zanzibar is [ 0  7 31  4  3  2 11  6  5 10  1 30 13  9 15 21 14 12 25 35 60 16 19 24\n",
            " 27 17 22 43 33 23 26 50 61 20]\n",
            "Unique values of  payment_mode is ['Cash' 'Credit Card' 'Other' 'Travellers Cheque']\n",
            "Unique values of  first_trip_tz is ['No' 'Yes']\n",
            "Unique values of  total_cost is [  674602.5  3214906.5  3315000.  ...  3150580.  38339920.   2246636.7]\n"
          ]
        }
      ],
      "source": [
        "# Check for any anomalies\n",
        "col = ['ID', 'country', 'age_group', 'travel_with', 'total_female',\n",
        "       'total_male', 'purpose', 'main_activity', 'tour_arrangement',\n",
        "       'package_transport_int', 'package_accomodation', 'package_food',\n",
        "       'package_transport_tz', 'package_sightseeing', 'package_guided_tour',\n",
        "       'package_insurance', 'night_mainland', 'night_zanzibar', 'payment_mode',\n",
        "       'first_trip_tz', 'total_cost']\n",
        "for i in col:\n",
        "  u = tourism[i].unique()\n",
        "  print('Unique values of ', i , 'is' , u)"
      ]
    },
    {
      "cell_type": "markdown",
      "source": [
        "**We checked for anomalies column by column. We noticed that there is an anomaly in the age group column. Age group 1-24 was denoted as January 24th which is an error that occured when exporting the data to excel.**"
      ],
      "metadata": {
        "id": "HoIVOITcwv10"
      }
    },
    {
      "cell_type": "code",
      "execution_count": null,
      "metadata": {
        "id": "SvAARc6cpfx9"
      },
      "outputs": [],
      "source": [
        "# A anomaly noticed is Jan-24 in age group\n",
        "# We will replace it with 1-24 age group \n",
        "tourism['age_group'] = tourism['age_group'].replace(['Jan-24'],'1-24')"
      ]
    },
    {
      "cell_type": "markdown",
      "source": [
        "**We then correct the anomaly by replacing the wrong value (jan-24) with (1-24).**"
      ],
      "metadata": {
        "id": "ulZLRURuw92A"
      }
    },
    {
      "cell_type": "code",
      "execution_count": null,
      "metadata": {
        "colab": {
          "base_uri": "https://localhost:8080/"
        },
        "id": "2Az9QaHJZV-v",
        "outputId": "2bb05036-171e-42b1-a82a-859d3fbccee6"
      },
      "outputs": [
        {
          "output_type": "execute_result",
          "data": {
            "text/plain": [
              "Index(['ID', 'country', 'age_group', 'travel_with', 'total_female',\n",
              "       'total_male', 'purpose', 'main_activity', 'tour_arrangement',\n",
              "       'package_transport_int', 'package_accomodation', 'package_food',\n",
              "       'package_transport_tz', 'package_sightseeing', 'package_guided_tour',\n",
              "       'package_insurance', 'night_mainland', 'night_zanzibar', 'payment_mode',\n",
              "       'first_trip_tz', 'total_cost', 'total_tourists'],\n",
              "      dtype='object')"
            ]
          },
          "metadata": {},
          "execution_count": 99
        }
      ],
      "source": [
        "#Creating a column that sums the number of total tourists\n",
        "tourism['total_tourists'] = tourism['total_female'] + tourism['total_male']\n",
        "tourism.columns"
      ]
    },
    {
      "cell_type": "markdown",
      "source": [
        "**We add the column as it will be relevant to our study. We do so by adding the number of females and males per row.**"
      ],
      "metadata": {
        "id": "6YPbnYxJpvFN"
      }
    },
    {
      "cell_type": "code",
      "execution_count": null,
      "metadata": {
        "colab": {
          "base_uri": "https://localhost:8080/",
          "height": 179
        },
        "id": "KdLTi8Oaq_Pr",
        "outputId": "b9d617d2-ad5e-46ba-dbec-00823a52e6ce"
      },
      "outputs": [
        {
          "output_type": "execute_result",
          "data": {
            "text/html": [
              "\n",
              "  <div id=\"df-6083c94d-5c15-49d8-937e-87f641154074\">\n",
              "    <div class=\"colab-df-container\">\n",
              "      <div>\n",
              "<style scoped>\n",
              "    .dataframe tbody tr th:only-of-type {\n",
              "        vertical-align: middle;\n",
              "    }\n",
              "\n",
              "    .dataframe tbody tr th {\n",
              "        vertical-align: top;\n",
              "    }\n",
              "\n",
              "    .dataframe thead th {\n",
              "        text-align: right;\n",
              "    }\n",
              "</style>\n",
              "<table border=\"1\" class=\"dataframe\">\n",
              "  <thead>\n",
              "    <tr style=\"text-align: right;\">\n",
              "      <th></th>\n",
              "      <th>ID</th>\n",
              "      <th>country</th>\n",
              "      <th>age_group</th>\n",
              "      <th>travel_with</th>\n",
              "      <th>total_female</th>\n",
              "      <th>total_male</th>\n",
              "      <th>purpose</th>\n",
              "      <th>main_activity</th>\n",
              "      <th>tour_arrangement</th>\n",
              "      <th>package_transport_int</th>\n",
              "      <th>package_accomodation</th>\n",
              "      <th>package_food</th>\n",
              "      <th>package_transport_tz</th>\n",
              "      <th>package_sightseeing</th>\n",
              "      <th>package_guided_tour</th>\n",
              "      <th>package_insurance</th>\n",
              "      <th>night_mainland</th>\n",
              "      <th>night_zanzibar</th>\n",
              "      <th>payment_mode</th>\n",
              "      <th>first_trip_tz</th>\n",
              "      <th>total_cost</th>\n",
              "      <th>total_tourists</th>\n",
              "    </tr>\n",
              "  </thead>\n",
              "  <tbody>\n",
              "    <tr>\n",
              "      <th>0</th>\n",
              "      <td>tour_0</td>\n",
              "      <td>SWIZERLAND</td>\n",
              "      <td>45-64</td>\n",
              "      <td>Friends/Relatives</td>\n",
              "      <td>1.0</td>\n",
              "      <td>1.0</td>\n",
              "      <td>Leisure and Holidays</td>\n",
              "      <td>Wildlife tourism</td>\n",
              "      <td>Independent</td>\n",
              "      <td>No</td>\n",
              "      <td>No</td>\n",
              "      <td>No</td>\n",
              "      <td>No</td>\n",
              "      <td>No</td>\n",
              "      <td>No</td>\n",
              "      <td>No</td>\n",
              "      <td>13</td>\n",
              "      <td>0</td>\n",
              "      <td>Cash</td>\n",
              "      <td>No</td>\n",
              "      <td>674602.5</td>\n",
              "      <td>2.0</td>\n",
              "    </tr>\n",
              "  </tbody>\n",
              "</table>\n",
              "</div>\n",
              "      <button class=\"colab-df-convert\" onclick=\"convertToInteractive('df-6083c94d-5c15-49d8-937e-87f641154074')\"\n",
              "              title=\"Convert this dataframe to an interactive table.\"\n",
              "              style=\"display:none;\">\n",
              "        \n",
              "  <svg xmlns=\"http://www.w3.org/2000/svg\" height=\"24px\"viewBox=\"0 0 24 24\"\n",
              "       width=\"24px\">\n",
              "    <path d=\"M0 0h24v24H0V0z\" fill=\"none\"/>\n",
              "    <path d=\"M18.56 5.44l.94 2.06.94-2.06 2.06-.94-2.06-.94-.94-2.06-.94 2.06-2.06.94zm-11 1L8.5 8.5l.94-2.06 2.06-.94-2.06-.94L8.5 2.5l-.94 2.06-2.06.94zm10 10l.94 2.06.94-2.06 2.06-.94-2.06-.94-.94-2.06-.94 2.06-2.06.94z\"/><path d=\"M17.41 7.96l-1.37-1.37c-.4-.4-.92-.59-1.43-.59-.52 0-1.04.2-1.43.59L10.3 9.45l-7.72 7.72c-.78.78-.78 2.05 0 2.83L4 21.41c.39.39.9.59 1.41.59.51 0 1.02-.2 1.41-.59l7.78-7.78 2.81-2.81c.8-.78.8-2.07 0-2.86zM5.41 20L4 18.59l7.72-7.72 1.47 1.35L5.41 20z\"/>\n",
              "  </svg>\n",
              "      </button>\n",
              "      \n",
              "  <style>\n",
              "    .colab-df-container {\n",
              "      display:flex;\n",
              "      flex-wrap:wrap;\n",
              "      gap: 12px;\n",
              "    }\n",
              "\n",
              "    .colab-df-convert {\n",
              "      background-color: #E8F0FE;\n",
              "      border: none;\n",
              "      border-radius: 50%;\n",
              "      cursor: pointer;\n",
              "      display: none;\n",
              "      fill: #1967D2;\n",
              "      height: 32px;\n",
              "      padding: 0 0 0 0;\n",
              "      width: 32px;\n",
              "    }\n",
              "\n",
              "    .colab-df-convert:hover {\n",
              "      background-color: #E2EBFA;\n",
              "      box-shadow: 0px 1px 2px rgba(60, 64, 67, 0.3), 0px 1px 3px 1px rgba(60, 64, 67, 0.15);\n",
              "      fill: #174EA6;\n",
              "    }\n",
              "\n",
              "    [theme=dark] .colab-df-convert {\n",
              "      background-color: #3B4455;\n",
              "      fill: #D2E3FC;\n",
              "    }\n",
              "\n",
              "    [theme=dark] .colab-df-convert:hover {\n",
              "      background-color: #434B5C;\n",
              "      box-shadow: 0px 1px 3px 1px rgba(0, 0, 0, 0.15);\n",
              "      filter: drop-shadow(0px 1px 2px rgba(0, 0, 0, 0.3));\n",
              "      fill: #FFFFFF;\n",
              "    }\n",
              "  </style>\n",
              "\n",
              "      <script>\n",
              "        const buttonEl =\n",
              "          document.querySelector('#df-6083c94d-5c15-49d8-937e-87f641154074 button.colab-df-convert');\n",
              "        buttonEl.style.display =\n",
              "          google.colab.kernel.accessAllowed ? 'block' : 'none';\n",
              "\n",
              "        async function convertToInteractive(key) {\n",
              "          const element = document.querySelector('#df-6083c94d-5c15-49d8-937e-87f641154074');\n",
              "          const dataTable =\n",
              "            await google.colab.kernel.invokeFunction('convertToInteractive',\n",
              "                                                     [key], {});\n",
              "          if (!dataTable) return;\n",
              "\n",
              "          const docLinkHtml = 'Like what you see? Visit the ' +\n",
              "            '<a target=\"_blank\" href=https://colab.research.google.com/notebooks/data_table.ipynb>data table notebook</a>'\n",
              "            + ' to learn more about interactive tables.';\n",
              "          element.innerHTML = '';\n",
              "          dataTable['output_type'] = 'display_data';\n",
              "          await google.colab.output.renderOutput(dataTable, element);\n",
              "          const docLink = document.createElement('div');\n",
              "          docLink.innerHTML = docLinkHtml;\n",
              "          element.appendChild(docLink);\n",
              "        }\n",
              "      </script>\n",
              "    </div>\n",
              "  </div>\n",
              "  "
            ],
            "text/plain": [
              "       ID     country age_group  ... first_trip_tz  total_cost  total_tourists\n",
              "0  tour_0  SWIZERLAND     45-64  ...            No    674602.5             2.0\n",
              "\n",
              "[1 rows x 22 columns]"
            ]
          },
          "metadata": {},
          "execution_count": 144
        }
      ],
      "source": [
        "# Confirm changes made\n",
        "tourism.head(1)"
      ]
    },
    {
      "cell_type": "markdown",
      "source": [
        "**Confirming the changes.**"
      ],
      "metadata": {
        "id": "fr_lUBloxOk1"
      }
    },
    {
      "cell_type": "code",
      "execution_count": null,
      "metadata": {
        "colab": {
          "base_uri": "https://localhost:8080/",
          "height": 1000
        },
        "id": "SO9yAxNarIBG",
        "outputId": "81d47ea9-3751-4e80-e214-5c48ce59a2d7"
      },
      "outputs": [
        {
          "output_type": "display_data",
          "data": {
            "image/png": "[encoded data removed]",
            "text/plain": [
              "<Figure size 720x1800 with 6 Axes>"
            ]
          },
          "metadata": {
            "needs_background": "light"
          }
        }
      ],
      "source": [
        "# Checking for outliers\n",
        "col_names= ['total_male','total_female', 'night_mainland', 'night_zanzibar','total_cost', 'total_tourists']\n",
        "\n",
        "fig, ax = plt.subplots(len(col_names), figsize=(10,25))\n",
        "\n",
        "for i, col_val in enumerate(col_names):\n",
        "\n",
        "    sns.boxplot(y=tourism[col_val], ax=ax[i])\n",
        "    ax[i].set_title('Box plot for numerical variables - {}'.format(col_val), fontsize=12)\n",
        "    ax[i].set_xlabel(col_val, fontsize=12)\n",
        "\n",
        "plt.show()"
      ]
    },
    {
      "cell_type": "markdown",
      "metadata": {
        "id": "9mFSd2Kbx1TT"
      },
      "source": [
        "**There is presence of outliers in all numerical columns. However, we will not drop them as they are true values and not due to bad entry or anomalies.**"
      ]
    },
    {
      "cell_type": "markdown",
      "metadata": {
        "id": "maxtOpQiyRUF"
      },
      "source": [
        "## 4. Exploratory Data Analysis\n"
      ]
    },
    {
      "cell_type": "markdown",
      "metadata": {
        "id": "hdOTsIDVyhML"
      },
      "source": [
        "### 4.1  Univariate Analysis"
      ]
    },
    {
      "cell_type": "code",
      "execution_count": null,
      "metadata": {
        "colab": {
          "base_uri": "https://localhost:8080/"
        },
        "id": "cWk9GapLzC49",
        "outputId": "fda237e8-b976-4f95-977c-0ebfc1187c55"
      },
      "outputs": [
        {
          "output_type": "execute_result",
          "data": {
            "text/plain": [
              "25-44    2487\n",
              "45-64    1391\n",
              "1-24      624\n",
              "65+       307\n",
              "Name: age_group, dtype: int64"
            ]
          },
          "metadata": {},
          "execution_count": 102
        }
      ],
      "source": [
        "# Frequency Table of the Number of Age Groups\n",
        "tourism.age_group.value_counts()"
      ]
    },
    {
      "cell_type": "markdown",
      "metadata": {
        "id": "7ZE3Sf6p9Cck"
      },
      "source": [
        "**Most tourists are between 25 and 44 years**"
      ]
    },
    {
      "cell_type": "code",
      "execution_count": null,
      "metadata": {
        "colab": {
          "base_uri": "https://localhost:8080/",
          "height": 482
        },
        "id": "esuS5gjSB2RL",
        "outputId": "5e8fb58c-0ec9-4ac6-a97c-11b5c67dac90"
      },
      "outputs": [
        {
          "output_type": "display_data",
          "data": {
            "image/png": "[encoded data removed]",
            "text/plain": [
              "<Figure size 720x360 with 1 Axes>"
            ]
          },
          "metadata": {
            "needs_background": "light"
          }
        }
      ],
      "source": [
        "#Bar graph of countries contributing the most tourists to Tanzania\n",
        "plt.figure(figsize = (10,5))\n",
        "tourism.groupby('country').size().sort_values(ascending = False)[:10].plot(kind='bar', color='grey')\n",
        "plt.title('Countries Contribuiting Most Tourists to Tanzania')\n",
        "plt.ylabel('Total')\n",
        "plt.xlabel('Country')\n",
        "plt.show()\n"
      ]
    },
    {
      "cell_type": "markdown",
      "metadata": {
        "id": "40QF3jbTCV12"
      },
      "source": [
        "**Most tourists are from the United States of America**"
      ]
    },
    {
      "cell_type": "code",
      "execution_count": null,
      "metadata": {
        "colab": {
          "base_uri": "https://localhost:8080/",
          "height": 436
        },
        "id": "wxUxdWEmzC1t",
        "outputId": "f450c72c-5a59-46b9-a7e1-3cfb6d2bb079"
      },
      "outputs": [
        {
          "output_type": "display_data",
          "data": {
            "image/png": "[encoded data removed]",
            "text/plain": [
              "<Figure size 500x500 with 1 Axes>"
            ]
          },
          "metadata": {}
        }
      ],
      "source": [
        "# Pie chart showing the most popular tour arrangements\n",
        "accounts = tourism['tour_arrangement'].value_counts()\n",
        "labels = accounts.index\n",
        "values = accounts.values\n",
        "\n",
        "plt.figure(figsize=(5,5), dpi=100)\n",
        "plt.pie(values, labels = labels, autopct='%1.1f%%', explode = (0.1,0), shadow=True, startangle=180)\n",
        "plt.title('Tour Arrangements', color='Red')\n",
        "plt.show()"
      ]
    },
    {
      "cell_type": "markdown",
      "metadata": {
        "id": "EwAHXpwV9RzC"
      },
      "source": [
        "**Less tourists use package tours. However, there is no big difference between the two values.**"
      ]
    },
    {
      "cell_type": "code",
      "execution_count": null,
      "metadata": {
        "colab": {
          "base_uri": "https://localhost:8080/",
          "height": 458
        },
        "id": "2FFXHBBAzCyR",
        "outputId": "ec116a3b-5fe8-49a0-85ef-bee0bc016e62"
      },
      "outputs": [
        {
          "output_type": "display_data",
          "data": {
            "image/png": "[encoded data removed]",
            "text/plain": [
              "<Figure size 864x504 with 1 Axes>"
            ]
          },
          "metadata": {
            "needs_background": "light"
          }
        }
      ],
      "source": [
        "# Bar chart showing the main activities that tourists partake in while in Tanzania\n",
        "plt.figure(figsize = (12,7))\n",
        "tourism.groupby('main_activity').size().sort_values(ascending = True).plot(kind='barh', color='orange')\n",
        "plt.title('Tourist Activity')\n",
        "plt.ylabel('Total')\n",
        "plt.xlabel('Activity')\n",
        "plt.show()"
      ]
    },
    {
      "cell_type": "markdown",
      "metadata": {
        "id": "BrsXRihlBE7Y"
      },
      "source": [
        "**Wildlife tourism is the most popular tourist activity**"
      ]
    },
    {
      "cell_type": "code",
      "execution_count": null,
      "metadata": {
        "colab": {
          "base_uri": "https://localhost:8080/",
          "height": 458
        },
        "id": "Y6KDcelnRTDA",
        "outputId": "1faf3990-6501-46e5-e5a2-b629f6190612"
      },
      "outputs": [
        {
          "output_type": "display_data",
          "data": {
            "image/png": "[encoded data removed]",
            "text/plain": [
              "<Figure size 864x504 with 1 Axes>"
            ]
          },
          "metadata": {
            "needs_background": "light"
          }
        }
      ],
      "source": [
        "#Bar chart showing the main purpose of visiting Tanzania by tourists\n",
        "tourism.sort_values(by='purpose')\n",
        "plt.figure(figsize=(12,7))\n",
        "tourism.groupby('purpose').size().sort_values(ascending = False).plot(kind='barh', color='pink')\n",
        "plt.title('Purpose of Visit')\n",
        "plt.ylabel('Total')\n",
        "plt.xlabel('Activity')\n",
        "plt.show()"
      ]
    },
    {
      "cell_type": "markdown",
      "metadata": {
        "id": "tNLjx14MClKb"
      },
      "source": [
        "**Most tourists visit for leisure and holidays**"
      ]
    },
    {
      "cell_type": "code",
      "execution_count": null,
      "metadata": {
        "scrolled": true,
        "colab": {
          "base_uri": "https://localhost:8080/",
          "height": 1000
        },
        "id": "pXXGb7oFZV-1",
        "outputId": "99980bac-70bf-4888-a845-e2b8ec0ddde6"
      },
      "outputs": [
        {
          "output_type": "display_data",
          "data": {
            "image/png": "[encoded data removed]",
            "text/plain": [
              "<Figure size 1000x300 with 1 Axes>"
            ]
          },
          "metadata": {
            "needs_background": "light"
          }
        },
        {
          "output_type": "display_data",
          "data": {
            "image/png": "[encoded data removed]",
            "text/plain": [
              "<Figure size 1000x300 with 1 Axes>"
            ]
          },
          "metadata": {
            "needs_background": "light"
          }
        },
        {
          "output_type": "display_data",
          "data": {
            "image/png": "[encoded data removed]",
            "text/plain": [
              "<Figure size 1000x300 with 1 Axes>"
            ]
          },
          "metadata": {
            "needs_background": "light"
          }
        },
        {
          "output_type": "display_data",
          "data": {
            "image/png": "[encoded data removed]",
            "text/plain": [
              "<Figure size 1000x300 with 1 Axes>"
            ]
          },
          "metadata": {
            "needs_background": "light"
          }
        },
        {
          "output_type": "display_data",
          "data": {
            "image/png": "[encoded data removed]",
            "text/plain": [
              "<Figure size 1000x300 with 1 Axes>"
            ]
          },
          "metadata": {
            "needs_background": "light"
          }
        },
        {
          "output_type": "display_data",
          "data": {
            "image/png": "[encoded data removed]",
            "text/plain": [
              "<Figure size 1000x300 with 1 Axes>"
            ]
          },
          "metadata": {
            "needs_background": "light"
          }
        }
      ],
      "source": [
        "#Histogram of the numerical values\n",
        "cols = ['total_male','total_female', 'night_mainland', 'night_zanzibar', 'total_cost', 'total_tourists']\n",
        "\n",
        "for i in cols:\n",
        "  plt.figure(figsize = (10,3), dpi=100)\n",
        "  sns.distplot(tourism[i], kde = True, color = 'green')\n",
        "  plt.title(i, color = 'Black')\n",
        "  plt.show()"
      ]
    },
    {
      "cell_type": "markdown",
      "metadata": {
        "id": "e2Xr6LxmZV-1"
      },
      "source": [
        "**From the histograms, we can tell that the data is positively skewed/skewed to the right.**"
      ]
    },
    {
      "cell_type": "code",
      "execution_count": null,
      "metadata": {
        "colab": {
          "base_uri": "https://localhost:8080/",
          "height": 480
        },
        "id": "0wN_HFu_Sa5h",
        "outputId": "984ec40a-da3a-4fe8-b71a-db67c197966e"
      },
      "outputs": [
        {
          "output_type": "display_data",
          "data": {
            "image/png": "[encoded data removed]",
            "text/plain": [
              "<Figure size 700x500 with 1 Axes>"
            ]
          },
          "metadata": {
            "needs_background": "light"
          }
        }
      ],
      "source": [
        "#Countplot showing the number of nights spent in Zanzibar\n",
        "plt.figure(figsize = (7,5), dpi=100)\n",
        "sns.countplot(tourism['night_zanzibar'], order=tourism['night_zanzibar'].value_counts().index[:15])\n",
        "plt.title('Night Spent in Zanzibar')\n",
        "plt.ylabel(\"Count\")\n",
        "plt.show()"
      ]
    },
    {
      "cell_type": "markdown",
      "source": [
        "**Most people didn't spend a single night in Zanzibar. However, the next most stayed 7 nights and then 4 nights which is a good number.**"
      ],
      "metadata": {
        "id": "K1yHOitFxjNN"
      }
    },
    {
      "cell_type": "code",
      "execution_count": null,
      "metadata": {
        "id": "rlJbqBrrSau5",
        "colab": {
          "base_uri": "https://localhost:8080/",
          "height": 480
        },
        "outputId": "964be163-f7ef-49ea-a0b9-b5906ca85c23"
      },
      "outputs": [
        {
          "output_type": "display_data",
          "data": {
            "image/png": "[encoded data removed]",
            "text/plain": [
              "<Figure size 700x500 with 1 Axes>"
            ]
          },
          "metadata": {
            "needs_background": "light"
          }
        }
      ],
      "source": [
        "#Countplot showing the number of nights spent in Mainland Tanzania\n",
        "plt.figure(figsize = (7, 5), dpi=100)\n",
        "sns.countplot(tourism['night_mainland'], order=tourism['night_mainland'].value_counts().index[:15])\n",
        "plt.title('Night Spent on Mainland Tanzania')\n",
        "plt.ylabel('Count')\n",
        "plt.show()"
      ]
    },
    {
      "cell_type": "markdown",
      "source": [
        "**Most people didn't spend their nights in Mainland Tanzania. Other people spent 2 or 7 nights most.**"
      ],
      "metadata": {
        "id": "t1sJcmHlxuSn"
      }
    },
    {
      "cell_type": "code",
      "execution_count": null,
      "metadata": {
        "colab": {
          "base_uri": "https://localhost:8080/"
        },
        "id": "XrOmzXb8HqDX",
        "outputId": "6a959c68-cc0e-447d-dd4c-a5d7f3ffed38"
      },
      "outputs": [
        {
          "output_type": "execute_result",
          "data": {
            "text/plain": [
              "total_male        1.008526e+00\n",
              "total_female      9.261801e-01\n",
              "night_mainland    8.488043e+00\n",
              "night_zanzibar    2.304429e+00\n",
              "total_cost        8.114389e+06\n",
              "total_tourists    1.934706e+00\n",
              "dtype: float64"
            ]
          },
          "metadata": {},
          "execution_count": 110
        }
      ],
      "source": [
        "# We will define the numerical columns as cols to make the work easier\n",
        "cols = ['total_male','total_female', 'night_mainland', 'night_zanzibar', 'total_cost', 'total_tourists']\n",
        "# Finding the mean of numerical columns\n",
        "tourism[cols].mean()"
      ]
    },
    {
      "cell_type": "code",
      "execution_count": null,
      "metadata": {
        "colab": {
          "base_uri": "https://localhost:8080/",
          "height": 81
        },
        "id": "eBIGJqgdIJ0R",
        "outputId": "f9c09198-98e1-4e8a-beb7-9575b642450f"
      },
      "outputs": [
        {
          "output_type": "execute_result",
          "data": {
            "text/html": [
              "\n",
              "  <div id=\"df-8961ad66-8239-44b2-a017-1daf96b70750\">\n",
              "    <div class=\"colab-df-container\">\n",
              "      <div>\n",
              "<style scoped>\n",
              "    .dataframe tbody tr th:only-of-type {\n",
              "        vertical-align: middle;\n",
              "    }\n",
              "\n",
              "    .dataframe tbody tr th {\n",
              "        vertical-align: top;\n",
              "    }\n",
              "\n",
              "    .dataframe thead th {\n",
              "        text-align: right;\n",
              "    }\n",
              "</style>\n",
              "<table border=\"1\" class=\"dataframe\">\n",
              "  <thead>\n",
              "    <tr style=\"text-align: right;\">\n",
              "      <th></th>\n",
              "      <th>total_male</th>\n",
              "      <th>total_female</th>\n",
              "      <th>night_mainland</th>\n",
              "      <th>night_zanzibar</th>\n",
              "      <th>total_cost</th>\n",
              "      <th>total_tourists</th>\n",
              "    </tr>\n",
              "  </thead>\n",
              "  <tbody>\n",
              "    <tr>\n",
              "      <th>0</th>\n",
              "      <td>1.0</td>\n",
              "      <td>1.0</td>\n",
              "      <td>0</td>\n",
              "      <td>0</td>\n",
              "      <td>1657500.0</td>\n",
              "      <td>1.0</td>\n",
              "    </tr>\n",
              "  </tbody>\n",
              "</table>\n",
              "</div>\n",
              "      <button class=\"colab-df-convert\" onclick=\"convertToInteractive('df-8961ad66-8239-44b2-a017-1daf96b70750')\"\n",
              "              title=\"Convert this dataframe to an interactive table.\"\n",
              "              style=\"display:none;\">\n",
              "        \n",
              "  <svg xmlns=\"http://www.w3.org/2000/svg\" height=\"24px\"viewBox=\"0 0 24 24\"\n",
              "       width=\"24px\">\n",
              "    <path d=\"M0 0h24v24H0V0z\" fill=\"none\"/>\n",
              "    <path d=\"M18.56 5.44l.94 2.06.94-2.06 2.06-.94-2.06-.94-.94-2.06-.94 2.06-2.06.94zm-11 1L8.5 8.5l.94-2.06 2.06-.94-2.06-.94L8.5 2.5l-.94 2.06-2.06.94zm10 10l.94 2.06.94-2.06 2.06-.94-2.06-.94-.94-2.06-.94 2.06-2.06.94z\"/><path d=\"M17.41 7.96l-1.37-1.37c-.4-.4-.92-.59-1.43-.59-.52 0-1.04.2-1.43.59L10.3 9.45l-7.72 7.72c-.78.78-.78 2.05 0 2.83L4 21.41c.39.39.9.59 1.41.59.51 0 1.02-.2 1.41-.59l7.78-7.78 2.81-2.81c.8-.78.8-2.07 0-2.86zM5.41 20L4 18.59l7.72-7.72 1.47 1.35L5.41 20z\"/>\n",
              "  </svg>\n",
              "      </button>\n",
              "      \n",
              "  <style>\n",
              "    .colab-df-container {\n",
              "      display:flex;\n",
              "      flex-wrap:wrap;\n",
              "      gap: 12px;\n",
              "    }\n",
              "\n",
              "    .colab-df-convert {\n",
              "      background-color: #E8F0FE;\n",
              "      border: none;\n",
              "      border-radius: 50%;\n",
              "      cursor: pointer;\n",
              "      display: none;\n",
              "      fill: #1967D2;\n",
              "      height: 32px;\n",
              "      padding: 0 0 0 0;\n",
              "      width: 32px;\n",
              "    }\n",
              "\n",
              "    .colab-df-convert:hover {\n",
              "      background-color: #E2EBFA;\n",
              "      box-shadow: 0px 1px 2px rgba(60, 64, 67, 0.3), 0px 1px 3px 1px rgba(60, 64, 67, 0.15);\n",
              "      fill: #174EA6;\n",
              "    }\n",
              "\n",
              "    [theme=dark] .colab-df-convert {\n",
              "      background-color: #3B4455;\n",
              "      fill: #D2E3FC;\n",
              "    }\n",
              "\n",
              "    [theme=dark] .colab-df-convert:hover {\n",
              "      background-color: #434B5C;\n",
              "      box-shadow: 0px 1px 3px 1px rgba(0, 0, 0, 0.15);\n",
              "      filter: drop-shadow(0px 1px 2px rgba(0, 0, 0, 0.3));\n",
              "      fill: #FFFFFF;\n",
              "    }\n",
              "  </style>\n",
              "\n",
              "      <script>\n",
              "        const buttonEl =\n",
              "          document.querySelector('#df-8961ad66-8239-44b2-a017-1daf96b70750 button.colab-df-convert');\n",
              "        buttonEl.style.display =\n",
              "          google.colab.kernel.accessAllowed ? 'block' : 'none';\n",
              "\n",
              "        async function convertToInteractive(key) {\n",
              "          const element = document.querySelector('#df-8961ad66-8239-44b2-a017-1daf96b70750');\n",
              "          const dataTable =\n",
              "            await google.colab.kernel.invokeFunction('convertToInteractive',\n",
              "                                                     [key], {});\n",
              "          if (!dataTable) return;\n",
              "\n",
              "          const docLinkHtml = 'Like what you see? Visit the ' +\n",
              "            '<a target=\"_blank\" href=https://colab.research.google.com/notebooks/data_table.ipynb>data table notebook</a>'\n",
              "            + ' to learn more about interactive tables.';\n",
              "          element.innerHTML = '';\n",
              "          dataTable['output_type'] = 'display_data';\n",
              "          await google.colab.output.renderOutput(dataTable, element);\n",
              "          const docLink = document.createElement('div');\n",
              "          docLink.innerHTML = docLinkHtml;\n",
              "          element.appendChild(docLink);\n",
              "        }\n",
              "      </script>\n",
              "    </div>\n",
              "  </div>\n",
              "  "
            ],
            "text/plain": [
              "   total_male  total_female  ...  total_cost  total_tourists\n",
              "0         1.0           1.0  ...   1657500.0             1.0\n",
              "\n",
              "[1 rows x 6 columns]"
            ]
          },
          "metadata": {},
          "execution_count": 111
        }
      ],
      "source": [
        "# Finding the mode of numerical columns\n",
        "tourism[cols].mode()"
      ]
    },
    {
      "cell_type": "code",
      "execution_count": null,
      "metadata": {
        "colab": {
          "base_uri": "https://localhost:8080/"
        },
        "id": "s3jN2IlOISeb",
        "outputId": "145c05ec-d04f-4b32-9b23-a201f85f1a69"
      },
      "outputs": [
        {
          "output_type": "execute_result",
          "data": {
            "text/plain": [
              "total_male              1.0\n",
              "total_female            1.0\n",
              "night_mainland          6.0\n",
              "night_zanzibar          0.0\n",
              "total_cost        3397875.0\n",
              "total_tourists          2.0\n",
              "dtype: float64"
            ]
          },
          "metadata": {},
          "execution_count": 112
        }
      ],
      "source": [
        "# Finding the median of numerical columns\n",
        "tourism[cols].median()"
      ]
    },
    {
      "cell_type": "code",
      "execution_count": null,
      "metadata": {
        "colab": {
          "base_uri": "https://localhost:8080/",
          "height": 112
        },
        "id": "ArRaJE5-IakO",
        "outputId": "baf14621-5dc3-460d-867e-c679bb7cff3a"
      },
      "outputs": [
        {
          "output_type": "execute_result",
          "data": {
            "text/html": [
              "\n",
              "  <div id=\"df-03d9220f-7b0e-411f-8ec5-ae9012a0c505\">\n",
              "    <div class=\"colab-df-container\">\n",
              "      <div>\n",
              "<style scoped>\n",
              "    .dataframe tbody tr th:only-of-type {\n",
              "        vertical-align: middle;\n",
              "    }\n",
              "\n",
              "    .dataframe tbody tr th {\n",
              "        vertical-align: top;\n",
              "    }\n",
              "\n",
              "    .dataframe thead th {\n",
              "        text-align: right;\n",
              "    }\n",
              "</style>\n",
              "<table border=\"1\" class=\"dataframe\">\n",
              "  <thead>\n",
              "    <tr style=\"text-align: right;\">\n",
              "      <th></th>\n",
              "      <th>total_male</th>\n",
              "      <th>total_female</th>\n",
              "      <th>night_mainland</th>\n",
              "      <th>night_zanzibar</th>\n",
              "      <th>total_cost</th>\n",
              "      <th>total_tourists</th>\n",
              "    </tr>\n",
              "  </thead>\n",
              "  <tbody>\n",
              "    <tr>\n",
              "      <th>0.25</th>\n",
              "      <td>1.0</td>\n",
              "      <td>0.0</td>\n",
              "      <td>3.0</td>\n",
              "      <td>0.0</td>\n",
              "      <td>812175.0</td>\n",
              "      <td>1.0</td>\n",
              "    </tr>\n",
              "    <tr>\n",
              "      <th>0.75</th>\n",
              "      <td>1.0</td>\n",
              "      <td>1.0</td>\n",
              "      <td>11.0</td>\n",
              "      <td>4.0</td>\n",
              "      <td>9945000.0</td>\n",
              "      <td>2.0</td>\n",
              "    </tr>\n",
              "  </tbody>\n",
              "</table>\n",
              "</div>\n",
              "      <button class=\"colab-df-convert\" onclick=\"convertToInteractive('df-03d9220f-7b0e-411f-8ec5-ae9012a0c505')\"\n",
              "              title=\"Convert this dataframe to an interactive table.\"\n",
              "              style=\"display:none;\">\n",
              "        \n",
              "  <svg xmlns=\"http://www.w3.org/2000/svg\" height=\"24px\"viewBox=\"0 0 24 24\"\n",
              "       width=\"24px\">\n",
              "    <path d=\"M0 0h24v24H0V0z\" fill=\"none\"/>\n",
              "    <path d=\"M18.56 5.44l.94 2.06.94-2.06 2.06-.94-2.06-.94-.94-2.06-.94 2.06-2.06.94zm-11 1L8.5 8.5l.94-2.06 2.06-.94-2.06-.94L8.5 2.5l-.94 2.06-2.06.94zm10 10l.94 2.06.94-2.06 2.06-.94-2.06-.94-.94-2.06-.94 2.06-2.06.94z\"/><path d=\"M17.41 7.96l-1.37-1.37c-.4-.4-.92-.59-1.43-.59-.52 0-1.04.2-1.43.59L10.3 9.45l-7.72 7.72c-.78.78-.78 2.05 0 2.83L4 21.41c.39.39.9.59 1.41.59.51 0 1.02-.2 1.41-.59l7.78-7.78 2.81-2.81c.8-.78.8-2.07 0-2.86zM5.41 20L4 18.59l7.72-7.72 1.47 1.35L5.41 20z\"/>\n",
              "  </svg>\n",
              "      </button>\n",
              "      \n",
              "  <style>\n",
              "    .colab-df-container {\n",
              "      display:flex;\n",
              "      flex-wrap:wrap;\n",
              "      gap: 12px;\n",
              "    }\n",
              "\n",
              "    .colab-df-convert {\n",
              "      background-color: #E8F0FE;\n",
              "      border: none;\n",
              "      border-radius: 50%;\n",
              "      cursor: pointer;\n",
              "      display: none;\n",
              "      fill: #1967D2;\n",
              "      height: 32px;\n",
              "      padding: 0 0 0 0;\n",
              "      width: 32px;\n",
              "    }\n",
              "\n",
              "    .colab-df-convert:hover {\n",
              "      background-color: #E2EBFA;\n",
              "      box-shadow: 0px 1px 2px rgba(60, 64, 67, 0.3), 0px 1px 3px 1px rgba(60, 64, 67, 0.15);\n",
              "      fill: #174EA6;\n",
              "    }\n",
              "\n",
              "    [theme=dark] .colab-df-convert {\n",
              "      background-color: #3B4455;\n",
              "      fill: #D2E3FC;\n",
              "    }\n",
              "\n",
              "    [theme=dark] .colab-df-convert:hover {\n",
              "      background-color: #434B5C;\n",
              "      box-shadow: 0px 1px 3px 1px rgba(0, 0, 0, 0.15);\n",
              "      filter: drop-shadow(0px 1px 2px rgba(0, 0, 0, 0.3));\n",
              "      fill: #FFFFFF;\n",
              "    }\n",
              "  </style>\n",
              "\n",
              "      <script>\n",
              "        const buttonEl =\n",
              "          document.querySelector('#df-03d9220f-7b0e-411f-8ec5-ae9012a0c505 button.colab-df-convert');\n",
              "        buttonEl.style.display =\n",
              "          google.colab.kernel.accessAllowed ? 'block' : 'none';\n",
              "\n",
              "        async function convertToInteractive(key) {\n",
              "          const element = document.querySelector('#df-03d9220f-7b0e-411f-8ec5-ae9012a0c505');\n",
              "          const dataTable =\n",
              "            await google.colab.kernel.invokeFunction('convertToInteractive',\n",
              "                                                     [key], {});\n",
              "          if (!dataTable) return;\n",
              "\n",
              "          const docLinkHtml = 'Like what you see? Visit the ' +\n",
              "            '<a target=\"_blank\" href=https://colab.research.google.com/notebooks/data_table.ipynb>data table notebook</a>'\n",
              "            + ' to learn more about interactive tables.';\n",
              "          element.innerHTML = '';\n",
              "          dataTable['output_type'] = 'display_data';\n",
              "          await google.colab.output.renderOutput(dataTable, element);\n",
              "          const docLink = document.createElement('div');\n",
              "          docLink.innerHTML = docLinkHtml;\n",
              "          element.appendChild(docLink);\n",
              "        }\n",
              "      </script>\n",
              "    </div>\n",
              "  </div>\n",
              "  "
            ],
            "text/plain": [
              "      total_male  total_female  ...  total_cost  total_tourists\n",
              "0.25         1.0           0.0  ...    812175.0             1.0\n",
              "0.75         1.0           1.0  ...   9945000.0             2.0\n",
              "\n",
              "[2 rows x 6 columns]"
            ]
          },
          "metadata": {},
          "execution_count": 113
        }
      ],
      "source": [
        "# Finding the quantiles of numerical columns\n",
        "tourism[cols].quantile([0.25, 0.75])"
      ]
    },
    {
      "cell_type": "code",
      "execution_count": null,
      "metadata": {
        "colab": {
          "base_uri": "https://localhost:8080/"
        },
        "id": "8ShRZ9b7Idc7",
        "outputId": "9a5baa4a-26d8-4805-de5e-e7d63a0ae8f7"
      },
      "outputs": [
        {
          "output_type": "execute_result",
          "data": {
            "text/plain": [
              "total_male        1.138738e+00\n",
              "total_female      1.288048e+00\n",
              "night_mainland    1.042762e+01\n",
              "night_zanzibar    4.227080e+00\n",
              "total_cost        1.222490e+07\n",
              "total_tourists    2.077707e+00\n",
              "dtype: float64"
            ]
          },
          "metadata": {},
          "execution_count": 114
        }
      ],
      "source": [
        "# Standard Deviation of numerical columns\n",
        "tourism[cols].std()"
      ]
    },
    {
      "cell_type": "markdown",
      "source": [
        "**All numerical values apart from total costs didn't have a large standard deviation.**"
      ],
      "metadata": {
        "id": "7-EW8Rf-y9M4"
      }
    },
    {
      "cell_type": "code",
      "execution_count": null,
      "metadata": {
        "colab": {
          "base_uri": "https://localhost:8080/"
        },
        "id": "CtKYq-hAIxn8",
        "outputId": "74f3a2cd-68c1-4b27-f2e9-782f02b9feda"
      },
      "outputs": [
        {
          "output_type": "execute_result",
          "data": {
            "text/plain": [
              "total_male        1.296724e+00\n",
              "total_female      1.659067e+00\n",
              "night_mainland    1.087353e+02\n",
              "night_zanzibar    1.786820e+01\n",
              "total_cost        1.494483e+14\n",
              "total_tourists    4.316867e+00\n",
              "dtype: float64"
            ]
          },
          "metadata": {},
          "execution_count": 115
        }
      ],
      "source": [
        "# Variance of numerical columns\n",
        "tourism[cols].var()"
      ]
    },
    {
      "cell_type": "code",
      "execution_count": null,
      "metadata": {
        "colab": {
          "base_uri": "https://localhost:8080/"
        },
        "id": "_d3HsglLI2BT",
        "outputId": "3a0c2c20-430b-4af3-b658-7e609063f130"
      },
      "outputs": [
        {
          "output_type": "execute_result",
          "data": {
            "text/plain": [
              "total_male        13.802443\n",
              "total_female      13.035894\n",
              "night_mainland     4.026044\n",
              "night_zanzibar     4.226719\n",
              "total_cost         2.967848\n",
              "total_tourists    19.852056\n",
              "dtype: float64"
            ]
          },
          "metadata": {},
          "execution_count": 116
        }
      ],
      "source": [
        "# Skewness of numerical columns\n",
        "tourism[cols].skew()"
      ]
    },
    {
      "cell_type": "markdown",
      "metadata": {
        "id": "48_BqoMQJKO4"
      },
      "source": [
        "**Our data is positively skewed**"
      ]
    },
    {
      "cell_type": "code",
      "execution_count": null,
      "metadata": {
        "colab": {
          "base_uri": "https://localhost:8080/"
        },
        "id": "OLpnV7SUI7R7",
        "outputId": "4cd88228-080e-4119-bdae-c64f9e952e08"
      },
      "outputs": [
        {
          "output_type": "execute_result",
          "data": {
            "text/plain": [
              "total_male        445.123696\n",
              "total_female      416.104746\n",
              "night_mainland     26.392706\n",
              "night_zanzibar     35.987216\n",
              "total_cost         11.431051\n",
              "total_tourists    783.258351\n",
              "dtype: float64"
            ]
          },
          "metadata": {},
          "execution_count": 117
        }
      ],
      "source": [
        "# The Kurtosis of numerical columns\n",
        "tourism[cols].kurt()"
      ]
    },
    {
      "cell_type": "markdown",
      "metadata": {
        "id": "ZELA9Rs7ZV-5"
      },
      "source": [
        "**The total male and total female columns have extreme values.**"
      ]
    },
    {
      "cell_type": "markdown",
      "metadata": {
        "id": "B2mRIBlTJGdr"
      },
      "source": [
        "### 4.2 Bivariate Analysis"
      ]
    },
    {
      "cell_type": "code",
      "execution_count": null,
      "metadata": {
        "colab": {
          "base_uri": "https://localhost:8080/",
          "height": 938
        },
        "id": "R3eCILeRZV-5",
        "outputId": "32215a8e-53e8-455b-a289-5d2fbeae3bec"
      },
      "outputs": [
        {
          "output_type": "execute_result",
          "data": {
            "text/plain": [
              "<seaborn.axisgrid.PairGrid at 0x7f1a2e0ff210>"
            ]
          },
          "metadata": {},
          "execution_count": 118
        },
        {
          "output_type": "display_data",
          "data": {
            "text/plain": [
              "<Figure size 700x500 with 0 Axes>"
            ]
          },
          "metadata": {}
        },
        {
          "output_type": "display_data",
          "data": {
            "image/png": "[encoded data removed]",
            "text/plain": [
              "<Figure size 900x900 with 30 Axes>"
            ]
          },
          "metadata": {
            "needs_background": "light"
          }
        }
      ],
      "source": [
        "#Plotting a pairplot of all the numerical values\n",
        "plt.figure(figsize = (7, 5), dpi=100)\n",
        "y =['total_male','total_female', 'night_mainland', 'night_zanzibar', 'total_cost']\n",
        "sns.pairplot(tourism[y])"
      ]
    },
    {
      "cell_type": "markdown",
      "metadata": {
        "id": "PR_gPjOhZV-5"
      },
      "source": [
        "**There is no relationship between the numerical columns**"
      ]
    },
    {
      "cell_type": "code",
      "execution_count": null,
      "metadata": {
        "colab": {
          "base_uri": "https://localhost:8080/",
          "height": 613
        },
        "id": "OZYPzW7vZV-6",
        "outputId": "0f77fce4-9ec3-44b8-b69f-5774a5d50d59"
      },
      "outputs": [
        {
          "output_type": "execute_result",
          "data": {
            "text/plain": [
              "<matplotlib.axes._subplots.AxesSubplot at 0x7f1a2d449790>"
            ]
          },
          "metadata": {},
          "execution_count": 119
        },
        {
          "output_type": "display_data",
          "data": {
            "image/png": "[encoded data removed]",
            "text/plain": [
              "<Figure size 1080x720 with 2 Axes>"
            ]
          },
          "metadata": {
            "needs_background": "light"
          }
        }
      ],
      "source": [
        "#A correlation matrix of the numerical values\n",
        "corr = tourism[cols].corr()\n",
        "fig, ax = plt.subplots(figsize=(15, 10))\n",
        "sns.heatmap(corr, annot=True)"
      ]
    },
    {
      "cell_type": "markdown",
      "metadata": {
        "id": "fB2gD9vqZV-6"
      },
      "source": [
        "**Correlation coefficients between -.20 and .20 are generally considered weak, \n",
        "between .20 and .50 (positive or negative) are considered moderate,and above .50 (positive or negative) are considered strong. Since the correlation coefficent of total male and total female is 0.46, this means that total male and total female are moderately correlated. There is a strong correlation between the total tourists and the total number of males or females. The rest of the values have a weak or no correlation at all.**"
      ]
    },
    {
      "cell_type": "markdown",
      "metadata": {
        "id": "3z_jznDHZV-6"
      },
      "source": [
        "### 4.3 Multivariate Analysis"
      ]
    },
    {
      "cell_type": "code",
      "source": [
        "#Importing the libraries needed for multivariate analysis\n",
        "from sklearn.preprocessing import LabelEncoder\n",
        "from sklearn.discriminant_analysis import LinearDiscriminantAnalysis as LDA"
      ],
      "metadata": {
        "id": "mqjqy-ugnFAU"
      },
      "execution_count": null,
      "outputs": []
    },
    {
      "cell_type": "code",
      "source": [
        "#These are the columns that we will use for the analysis\n",
        "colz = ['country', 'age_group', 'main_activity', 'purpose', 'tour_arrangement', 'package_transport_int', 'package_accomodation', 'package_food', 'package_transport_tz', 'package_sightseeing', 'package_guided_tour', 'package_insurance', 'payment_mode']"
      ],
      "metadata": {
        "id": "IEwYrLIznE9j"
      },
      "execution_count": null,
      "outputs": []
    },
    {
      "cell_type": "code",
      "source": [
        "#Encoding the multiple columns at once\n",
        "df_tour = tourism[colz].apply(LabelEncoder().fit_transform)\n",
        "df_tour.head()"
      ],
      "metadata": {
        "colab": {
          "base_uri": "https://localhost:8080/",
          "height": 270
        },
        "id": "cMB7dj8yqHun",
        "outputId": "9502eac0-f185-465b-c69f-9ecc58984edd"
      },
      "execution_count": null,
      "outputs": [
        {
          "output_type": "execute_result",
          "data": {
            "text/html": [
              "\n",
              "  <div id=\"df-3bf8500e-5b7e-4654-bca5-ea4f750812fc\">\n",
              "    <div class=\"colab-df-container\">\n",
              "      <div>\n",
              "<style scoped>\n",
              "    .dataframe tbody tr th:only-of-type {\n",
              "        vertical-align: middle;\n",
              "    }\n",
              "\n",
              "    .dataframe tbody tr th {\n",
              "        vertical-align: top;\n",
              "    }\n",
              "\n",
              "    .dataframe thead th {\n",
              "        text-align: right;\n",
              "    }\n",
              "</style>\n",
              "<table border=\"1\" class=\"dataframe\">\n",
              "  <thead>\n",
              "    <tr style=\"text-align: right;\">\n",
              "      <th></th>\n",
              "      <th>country</th>\n",
              "      <th>age_group</th>\n",
              "      <th>main_activity</th>\n",
              "      <th>purpose</th>\n",
              "      <th>tour_arrangement</th>\n",
              "      <th>package_transport_int</th>\n",
              "      <th>package_accomodation</th>\n",
              "      <th>package_food</th>\n",
              "      <th>package_transport_tz</th>\n",
              "      <th>package_sightseeing</th>\n",
              "      <th>package_guided_tour</th>\n",
              "      <th>package_insurance</th>\n",
              "      <th>payment_mode</th>\n",
              "    </tr>\n",
              "  </thead>\n",
              "  <tbody>\n",
              "    <tr>\n",
              "      <th>0</th>\n",
              "      <td>89</td>\n",
              "      <td>2</td>\n",
              "      <td>7</td>\n",
              "      <td>1</td>\n",
              "      <td>0</td>\n",
              "      <td>0</td>\n",
              "      <td>0</td>\n",
              "      <td>0</td>\n",
              "      <td>0</td>\n",
              "      <td>0</td>\n",
              "      <td>0</td>\n",
              "      <td>0</td>\n",
              "      <td>0</td>\n",
              "    </tr>\n",
              "    <tr>\n",
              "      <th>1</th>\n",
              "      <td>99</td>\n",
              "      <td>1</td>\n",
              "      <td>3</td>\n",
              "      <td>1</td>\n",
              "      <td>0</td>\n",
              "      <td>0</td>\n",
              "      <td>0</td>\n",
              "      <td>0</td>\n",
              "      <td>0</td>\n",
              "      <td>0</td>\n",
              "      <td>0</td>\n",
              "      <td>0</td>\n",
              "      <td>0</td>\n",
              "    </tr>\n",
              "    <tr>\n",
              "      <th>2</th>\n",
              "      <td>99</td>\n",
              "      <td>1</td>\n",
              "      <td>3</td>\n",
              "      <td>5</td>\n",
              "      <td>0</td>\n",
              "      <td>0</td>\n",
              "      <td>0</td>\n",
              "      <td>0</td>\n",
              "      <td>0</td>\n",
              "      <td>0</td>\n",
              "      <td>0</td>\n",
              "      <td>0</td>\n",
              "      <td>0</td>\n",
              "    </tr>\n",
              "    <tr>\n",
              "      <th>3</th>\n",
              "      <td>99</td>\n",
              "      <td>1</td>\n",
              "      <td>7</td>\n",
              "      <td>1</td>\n",
              "      <td>1</td>\n",
              "      <td>0</td>\n",
              "      <td>1</td>\n",
              "      <td>1</td>\n",
              "      <td>1</td>\n",
              "      <td>1</td>\n",
              "      <td>1</td>\n",
              "      <td>0</td>\n",
              "      <td>0</td>\n",
              "    </tr>\n",
              "    <tr>\n",
              "      <th>4</th>\n",
              "      <td>13</td>\n",
              "      <td>0</td>\n",
              "      <td>7</td>\n",
              "      <td>1</td>\n",
              "      <td>0</td>\n",
              "      <td>0</td>\n",
              "      <td>0</td>\n",
              "      <td>0</td>\n",
              "      <td>0</td>\n",
              "      <td>0</td>\n",
              "      <td>0</td>\n",
              "      <td>0</td>\n",
              "      <td>0</td>\n",
              "    </tr>\n",
              "  </tbody>\n",
              "</table>\n",
              "</div>\n",
              "      <button class=\"colab-df-convert\" onclick=\"convertToInteractive('df-3bf8500e-5b7e-4654-bca5-ea4f750812fc')\"\n",
              "              title=\"Convert this dataframe to an interactive table.\"\n",
              "              style=\"display:none;\">\n",
              "        \n",
              "  <svg xmlns=\"http://www.w3.org/2000/svg\" height=\"24px\"viewBox=\"0 0 24 24\"\n",
              "       width=\"24px\">\n",
              "    <path d=\"M0 0h24v24H0V0z\" fill=\"none\"/>\n",
              "    <path d=\"M18.56 5.44l.94 2.06.94-2.06 2.06-.94-2.06-.94-.94-2.06-.94 2.06-2.06.94zm-11 1L8.5 8.5l.94-2.06 2.06-.94-2.06-.94L8.5 2.5l-.94 2.06-2.06.94zm10 10l.94 2.06.94-2.06 2.06-.94-2.06-.94-.94-2.06-.94 2.06-2.06.94z\"/><path d=\"M17.41 7.96l-1.37-1.37c-.4-.4-.92-.59-1.43-.59-.52 0-1.04.2-1.43.59L10.3 9.45l-7.72 7.72c-.78.78-.78 2.05 0 2.83L4 21.41c.39.39.9.59 1.41.59.51 0 1.02-.2 1.41-.59l7.78-7.78 2.81-2.81c.8-.78.8-2.07 0-2.86zM5.41 20L4 18.59l7.72-7.72 1.47 1.35L5.41 20z\"/>\n",
              "  </svg>\n",
              "      </button>\n",
              "      \n",
              "  <style>\n",
              "    .colab-df-container {\n",
              "      display:flex;\n",
              "      flex-wrap:wrap;\n",
              "      gap: 12px;\n",
              "    }\n",
              "\n",
              "    .colab-df-convert {\n",
              "      background-color: #E8F0FE;\n",
              "      border: none;\n",
              "      border-radius: 50%;\n",
              "      cursor: pointer;\n",
              "      display: none;\n",
              "      fill: #1967D2;\n",
              "      height: 32px;\n",
              "      padding: 0 0 0 0;\n",
              "      width: 32px;\n",
              "    }\n",
              "\n",
              "    .colab-df-convert:hover {\n",
              "      background-color: #E2EBFA;\n",
              "      box-shadow: 0px 1px 2px rgba(60, 64, 67, 0.3), 0px 1px 3px 1px rgba(60, 64, 67, 0.15);\n",
              "      fill: #174EA6;\n",
              "    }\n",
              "\n",
              "    [theme=dark] .colab-df-convert {\n",
              "      background-color: #3B4455;\n",
              "      fill: #D2E3FC;\n",
              "    }\n",
              "\n",
              "    [theme=dark] .colab-df-convert:hover {\n",
              "      background-color: #434B5C;\n",
              "      box-shadow: 0px 1px 3px 1px rgba(0, 0, 0, 0.15);\n",
              "      filter: drop-shadow(0px 1px 2px rgba(0, 0, 0, 0.3));\n",
              "      fill: #FFFFFF;\n",
              "    }\n",
              "  </style>\n",
              "\n",
              "      <script>\n",
              "        const buttonEl =\n",
              "          document.querySelector('#df-3bf8500e-5b7e-4654-bca5-ea4f750812fc button.colab-df-convert');\n",
              "        buttonEl.style.display =\n",
              "          google.colab.kernel.accessAllowed ? 'block' : 'none';\n",
              "\n",
              "        async function convertToInteractive(key) {\n",
              "          const element = document.querySelector('#df-3bf8500e-5b7e-4654-bca5-ea4f750812fc');\n",
              "          const dataTable =\n",
              "            await google.colab.kernel.invokeFunction('convertToInteractive',\n",
              "                                                     [key], {});\n",
              "          if (!dataTable) return;\n",
              "\n",
              "          const docLinkHtml = 'Like what you see? Visit the ' +\n",
              "            '<a target=\"_blank\" href=https://colab.research.google.com/notebooks/data_table.ipynb>data table notebook</a>'\n",
              "            + ' to learn more about interactive tables.';\n",
              "          element.innerHTML = '';\n",
              "          dataTable['output_type'] = 'display_data';\n",
              "          await google.colab.output.renderOutput(dataTable, element);\n",
              "          const docLink = document.createElement('div');\n",
              "          docLink.innerHTML = docLinkHtml;\n",
              "          element.appendChild(docLink);\n",
              "        }\n",
              "      </script>\n",
              "    </div>\n",
              "  </div>\n",
              "  "
            ],
            "text/plain": [
              "   country  age_group  ...  package_insurance  payment_mode\n",
              "0       89          2  ...                  0             0\n",
              "1       99          1  ...                  0             0\n",
              "2       99          1  ...                  0             0\n",
              "3       99          1  ...                  0             0\n",
              "4       13          0  ...                  0             0\n",
              "\n",
              "[5 rows x 13 columns]"
            ]
          },
          "metadata": {},
          "execution_count": 123
        }
      ]
    },
    {
      "cell_type": "code",
      "source": [
        "#Step 1: Seperating our target label (diagnosis) from other features\n",
        "X = df_tour.drop(['main_activity'], axis = 1)\n",
        "Y = df_tour['main_activity']"
      ],
      "metadata": {
        "id": "5F_A3Ir8f1lR"
      },
      "execution_count": null,
      "outputs": []
    },
    {
      "cell_type": "code",
      "source": [
        "#Step 2: Confirming the features don't contain the target variable\n",
        "X[1:12]"
      ],
      "metadata": {
        "colab": {
          "base_uri": "https://localhost:8080/",
          "height": 458
        },
        "id": "nW2qWk68grk7",
        "outputId": "b786f5b3-2fe8-49ea-9f68-3b02c1f92907"
      },
      "execution_count": null,
      "outputs": [
        {
          "output_type": "execute_result",
          "data": {
            "text/html": [
              "\n",
              "  <div id=\"df-29dcb289-449c-486a-b4cf-2e1fafe0b38b\">\n",
              "    <div class=\"colab-df-container\">\n",
              "      <div>\n",
              "<style scoped>\n",
              "    .dataframe tbody tr th:only-of-type {\n",
              "        vertical-align: middle;\n",
              "    }\n",
              "\n",
              "    .dataframe tbody tr th {\n",
              "        vertical-align: top;\n",
              "    }\n",
              "\n",
              "    .dataframe thead th {\n",
              "        text-align: right;\n",
              "    }\n",
              "</style>\n",
              "<table border=\"1\" class=\"dataframe\">\n",
              "  <thead>\n",
              "    <tr style=\"text-align: right;\">\n",
              "      <th></th>\n",
              "      <th>country</th>\n",
              "      <th>age_group</th>\n",
              "      <th>purpose</th>\n",
              "      <th>tour_arrangement</th>\n",
              "      <th>package_transport_int</th>\n",
              "      <th>package_accomodation</th>\n",
              "      <th>package_food</th>\n",
              "      <th>package_transport_tz</th>\n",
              "      <th>package_sightseeing</th>\n",
              "      <th>package_guided_tour</th>\n",
              "      <th>package_insurance</th>\n",
              "      <th>payment_mode</th>\n",
              "    </tr>\n",
              "  </thead>\n",
              "  <tbody>\n",
              "    <tr>\n",
              "      <th>1</th>\n",
              "      <td>99</td>\n",
              "      <td>1</td>\n",
              "      <td>1</td>\n",
              "      <td>0</td>\n",
              "      <td>0</td>\n",
              "      <td>0</td>\n",
              "      <td>0</td>\n",
              "      <td>0</td>\n",
              "      <td>0</td>\n",
              "      <td>0</td>\n",
              "      <td>0</td>\n",
              "      <td>0</td>\n",
              "    </tr>\n",
              "    <tr>\n",
              "      <th>2</th>\n",
              "      <td>99</td>\n",
              "      <td>1</td>\n",
              "      <td>5</td>\n",
              "      <td>0</td>\n",
              "      <td>0</td>\n",
              "      <td>0</td>\n",
              "      <td>0</td>\n",
              "      <td>0</td>\n",
              "      <td>0</td>\n",
              "      <td>0</td>\n",
              "      <td>0</td>\n",
              "      <td>0</td>\n",
              "    </tr>\n",
              "    <tr>\n",
              "      <th>3</th>\n",
              "      <td>99</td>\n",
              "      <td>1</td>\n",
              "      <td>1</td>\n",
              "      <td>1</td>\n",
              "      <td>0</td>\n",
              "      <td>1</td>\n",
              "      <td>1</td>\n",
              "      <td>1</td>\n",
              "      <td>1</td>\n",
              "      <td>1</td>\n",
              "      <td>0</td>\n",
              "      <td>0</td>\n",
              "    </tr>\n",
              "    <tr>\n",
              "      <th>4</th>\n",
              "      <td>13</td>\n",
              "      <td>0</td>\n",
              "      <td>1</td>\n",
              "      <td>0</td>\n",
              "      <td>0</td>\n",
              "      <td>0</td>\n",
              "      <td>0</td>\n",
              "      <td>0</td>\n",
              "      <td>0</td>\n",
              "      <td>0</td>\n",
              "      <td>0</td>\n",
              "      <td>0</td>\n",
              "    </tr>\n",
              "    <tr>\n",
              "      <th>5</th>\n",
              "      <td>99</td>\n",
              "      <td>1</td>\n",
              "      <td>1</td>\n",
              "      <td>1</td>\n",
              "      <td>0</td>\n",
              "      <td>0</td>\n",
              "      <td>0</td>\n",
              "      <td>0</td>\n",
              "      <td>1</td>\n",
              "      <td>1</td>\n",
              "      <td>0</td>\n",
              "      <td>0</td>\n",
              "    </tr>\n",
              "    <tr>\n",
              "      <th>6</th>\n",
              "      <td>83</td>\n",
              "      <td>2</td>\n",
              "      <td>0</td>\n",
              "      <td>0</td>\n",
              "      <td>0</td>\n",
              "      <td>0</td>\n",
              "      <td>0</td>\n",
              "      <td>0</td>\n",
              "      <td>0</td>\n",
              "      <td>0</td>\n",
              "      <td>0</td>\n",
              "      <td>0</td>\n",
              "    </tr>\n",
              "    <tr>\n",
              "      <th>7</th>\n",
              "      <td>100</td>\n",
              "      <td>2</td>\n",
              "      <td>1</td>\n",
              "      <td>1</td>\n",
              "      <td>1</td>\n",
              "      <td>1</td>\n",
              "      <td>1</td>\n",
              "      <td>1</td>\n",
              "      <td>1</td>\n",
              "      <td>1</td>\n",
              "      <td>1</td>\n",
              "      <td>0</td>\n",
              "    </tr>\n",
              "    <tr>\n",
              "      <th>8</th>\n",
              "      <td>67</td>\n",
              "      <td>1</td>\n",
              "      <td>1</td>\n",
              "      <td>0</td>\n",
              "      <td>0</td>\n",
              "      <td>0</td>\n",
              "      <td>0</td>\n",
              "      <td>0</td>\n",
              "      <td>0</td>\n",
              "      <td>0</td>\n",
              "      <td>0</td>\n",
              "      <td>0</td>\n",
              "    </tr>\n",
              "    <tr>\n",
              "      <th>9</th>\n",
              "      <td>35</td>\n",
              "      <td>1</td>\n",
              "      <td>0</td>\n",
              "      <td>0</td>\n",
              "      <td>0</td>\n",
              "      <td>0</td>\n",
              "      <td>0</td>\n",
              "      <td>0</td>\n",
              "      <td>0</td>\n",
              "      <td>0</td>\n",
              "      <td>0</td>\n",
              "      <td>1</td>\n",
              "    </tr>\n",
              "    <tr>\n",
              "      <th>10</th>\n",
              "      <td>7</td>\n",
              "      <td>1</td>\n",
              "      <td>1</td>\n",
              "      <td>0</td>\n",
              "      <td>0</td>\n",
              "      <td>0</td>\n",
              "      <td>0</td>\n",
              "      <td>0</td>\n",
              "      <td>0</td>\n",
              "      <td>0</td>\n",
              "      <td>0</td>\n",
              "      <td>0</td>\n",
              "    </tr>\n",
              "    <tr>\n",
              "      <th>11</th>\n",
              "      <td>10</td>\n",
              "      <td>2</td>\n",
              "      <td>1</td>\n",
              "      <td>0</td>\n",
              "      <td>0</td>\n",
              "      <td>0</td>\n",
              "      <td>0</td>\n",
              "      <td>0</td>\n",
              "      <td>0</td>\n",
              "      <td>0</td>\n",
              "      <td>0</td>\n",
              "      <td>0</td>\n",
              "    </tr>\n",
              "  </tbody>\n",
              "</table>\n",
              "</div>\n",
              "      <button class=\"colab-df-convert\" onclick=\"convertToInteractive('df-29dcb289-449c-486a-b4cf-2e1fafe0b38b')\"\n",
              "              title=\"Convert this dataframe to an interactive table.\"\n",
              "              style=\"display:none;\">\n",
              "        \n",
              "  <svg xmlns=\"http://www.w3.org/2000/svg\" height=\"24px\"viewBox=\"0 0 24 24\"\n",
              "       width=\"24px\">\n",
              "    <path d=\"M0 0h24v24H0V0z\" fill=\"none\"/>\n",
              "    <path d=\"M18.56 5.44l.94 2.06.94-2.06 2.06-.94-2.06-.94-.94-2.06-.94 2.06-2.06.94zm-11 1L8.5 8.5l.94-2.06 2.06-.94-2.06-.94L8.5 2.5l-.94 2.06-2.06.94zm10 10l.94 2.06.94-2.06 2.06-.94-2.06-.94-.94-2.06-.94 2.06-2.06.94z\"/><path d=\"M17.41 7.96l-1.37-1.37c-.4-.4-.92-.59-1.43-.59-.52 0-1.04.2-1.43.59L10.3 9.45l-7.72 7.72c-.78.78-.78 2.05 0 2.83L4 21.41c.39.39.9.59 1.41.59.51 0 1.02-.2 1.41-.59l7.78-7.78 2.81-2.81c.8-.78.8-2.07 0-2.86zM5.41 20L4 18.59l7.72-7.72 1.47 1.35L5.41 20z\"/>\n",
              "  </svg>\n",
              "      </button>\n",
              "      \n",
              "  <style>\n",
              "    .colab-df-container {\n",
              "      display:flex;\n",
              "      flex-wrap:wrap;\n",
              "      gap: 12px;\n",
              "    }\n",
              "\n",
              "    .colab-df-convert {\n",
              "      background-color: #E8F0FE;\n",
              "      border: none;\n",
              "      border-radius: 50%;\n",
              "      cursor: pointer;\n",
              "      display: none;\n",
              "      fill: #1967D2;\n",
              "      height: 32px;\n",
              "      padding: 0 0 0 0;\n",
              "      width: 32px;\n",
              "    }\n",
              "\n",
              "    .colab-df-convert:hover {\n",
              "      background-color: #E2EBFA;\n",
              "      box-shadow: 0px 1px 2px rgba(60, 64, 67, 0.3), 0px 1px 3px 1px rgba(60, 64, 67, 0.15);\n",
              "      fill: #174EA6;\n",
              "    }\n",
              "\n",
              "    [theme=dark] .colab-df-convert {\n",
              "      background-color: #3B4455;\n",
              "      fill: #D2E3FC;\n",
              "    }\n",
              "\n",
              "    [theme=dark] .colab-df-convert:hover {\n",
              "      background-color: #434B5C;\n",
              "      box-shadow: 0px 1px 3px 1px rgba(0, 0, 0, 0.15);\n",
              "      filter: drop-shadow(0px 1px 2px rgba(0, 0, 0, 0.3));\n",
              "      fill: #FFFFFF;\n",
              "    }\n",
              "  </style>\n",
              "\n",
              "      <script>\n",
              "        const buttonEl =\n",
              "          document.querySelector('#df-29dcb289-449c-486a-b4cf-2e1fafe0b38b button.colab-df-convert');\n",
              "        buttonEl.style.display =\n",
              "          google.colab.kernel.accessAllowed ? 'block' : 'none';\n",
              "\n",
              "        async function convertToInteractive(key) {\n",
              "          const element = document.querySelector('#df-29dcb289-449c-486a-b4cf-2e1fafe0b38b');\n",
              "          const dataTable =\n",
              "            await google.colab.kernel.invokeFunction('convertToInteractive',\n",
              "                                                     [key], {});\n",
              "          if (!dataTable) return;\n",
              "\n",
              "          const docLinkHtml = 'Like what you see? Visit the ' +\n",
              "            '<a target=\"_blank\" href=https://colab.research.google.com/notebooks/data_table.ipynb>data table notebook</a>'\n",
              "            + ' to learn more about interactive tables.';\n",
              "          element.innerHTML = '';\n",
              "          dataTable['output_type'] = 'display_data';\n",
              "          await google.colab.output.renderOutput(dataTable, element);\n",
              "          const docLink = document.createElement('div');\n",
              "          docLink.innerHTML = docLinkHtml;\n",
              "          element.appendChild(docLink);\n",
              "        }\n",
              "      </script>\n",
              "    </div>\n",
              "  </div>\n",
              "  "
            ],
            "text/plain": [
              "    country  age_group  ...  package_insurance  payment_mode\n",
              "1        99          1  ...                  0             0\n",
              "2        99          1  ...                  0             0\n",
              "3        99          1  ...                  0             0\n",
              "4        13          0  ...                  0             0\n",
              "5        99          1  ...                  0             0\n",
              "6        83          2  ...                  0             0\n",
              "7       100          2  ...                  1             0\n",
              "8        67          1  ...                  0             0\n",
              "9        35          1  ...                  0             1\n",
              "10        7          1  ...                  0             0\n",
              "11       10          2  ...                  0             0\n",
              "\n",
              "[11 rows x 12 columns]"
            ]
          },
          "metadata": {},
          "execution_count": 125
        }
      ]
    },
    {
      "cell_type": "code",
      "source": [
        "#Checking the unique values of the target variable\n",
        "Y.unique()"
      ],
      "metadata": {
        "colab": {
          "base_uri": "https://localhost:8080/"
        },
        "id": "2y50wXdVh7gL",
        "outputId": "7e3781ac-553d-418a-bc48-1c60a95ad2f2"
      },
      "execution_count": null,
      "outputs": [
        {
          "output_type": "execute_result",
          "data": {
            "text/plain": [
              "array([7, 3, 6, 0, 2, 5, 1, 8, 4])"
            ]
          },
          "metadata": {},
          "execution_count": 126
        }
      ]
    },
    {
      "cell_type": "code",
      "source": [
        "#Step 3: Create an instance of LDA and train the model\n",
        "lda = LDA(solver='eigen',shrinkage='auto')\n",
        "X_lda = lda.fit(X,Y)\n",
        "lda_feat = X_lda.transform(X)\n",
        "\n",
        "#Display the coefficients of the reducted colums\n",
        "X_lda.coef_"
      ],
      "metadata": {
        "colab": {
          "base_uri": "https://localhost:8080/"
        },
        "id": "FCeZ96xhg_nz",
        "outputId": "69578aa9-893a-41c2-f9be-a300f389f3b3"
      },
      "execution_count": null,
      "outputs": [
        {
          "output_type": "execute_result",
          "data": {
            "text/plain": [
              "array([[ 0.06104833,  1.94158709,  1.06401472,  1.68247543,  0.95022996,\n",
              "         1.36630962,  0.26293181, -0.20940571, -1.88541607, -0.37443648,\n",
              "         0.59751058,  0.6907089 ],\n",
              "       [ 0.0651773 ,  2.5259854 ,  0.9676206 ,  2.35816463,  0.0567845 ,\n",
              "         0.309178  , -0.62038235, -0.60042727, -1.11709336,  0.46948278,\n",
              "        -0.3251101 ,  0.43961063],\n",
              "       [ 0.06781713,  1.4954067 ,  0.89058637,  2.27668935, -0.12300594,\n",
              "         1.75436474, -0.64047641,  0.42267719, -0.41138978,  1.41936934,\n",
              "        -0.89137078,  0.50072165],\n",
              "       [ 0.05746124,  1.76685618,  1.54847008,  1.34178407,  0.06906728,\n",
              "         0.84962243, -0.03908763,  0.3867877 , -1.03613918,  0.06774695,\n",
              "         0.11217658,  0.64244144],\n",
              "       [ 0.06819558,  2.95041083,  0.66902499,  1.44747677,  0.67254643,\n",
              "         2.035649  , -0.95606772, -1.81296646, -0.02026287,  0.84720469,\n",
              "        -0.60699623,  2.39856981],\n",
              "       [ 0.06938909,  2.19492962,  1.88483613,  1.64736572, -0.09396598,\n",
              "         1.1508885 , -0.2322512 , -0.71685327, -1.42968021,  0.5115781 ,\n",
              "         0.28254112,  0.3122152 ],\n",
              "       [ 0.06174546,  2.49559355,  0.94932553,  1.09205157,  0.21277565,\n",
              "         0.87044249, -0.12971678, -0.58958403, -1.08164709, -0.13121372,\n",
              "        -0.0392846 ,  1.32481783],\n",
              "       [ 0.06420407,  2.36222058,  0.83433344,  1.54201612, -0.10548892,\n",
              "         0.95277167, -0.07335318,  0.17610096,  0.23113487,  0.61489256,\n",
              "         0.01850716,  0.80366224],\n",
              "       [ 0.0609733 ,  2.06445615,  1.10797841,  1.99410653,  1.58067337,\n",
              "         0.95682724,  0.67600888, -0.00879978, -1.82980041, -0.71597149,\n",
              "         0.01966005,  1.11475898]])"
            ]
          },
          "metadata": {},
          "execution_count": 127
        }
      ]
    },
    {
      "cell_type": "code",
      "source": [
        "#Since the coefficients are in array, we need to create a dataframe so that we can extract the name of the columns\n",
        "lda_df = pd.DataFrame(index=X.columns.values, data=X_lda.coef_[0].T)\n",
        "lda_df.sort_values(0, ascending=False)"
      ],
      "metadata": {
        "colab": {
          "base_uri": "https://localhost:8080/",
          "height": 426
        },
        "id": "oPvkyenVkyxT",
        "outputId": "98e27f5d-a4ec-4d44-d4ae-043576aa8d6a"
      },
      "execution_count": null,
      "outputs": [
        {
          "output_type": "execute_result",
          "data": {
            "text/html": [
              "\n",
              "  <div id=\"df-8a85dbef-5e8d-432c-a905-7b0d312751b8\">\n",
              "    <div class=\"colab-df-container\">\n",
              "      <div>\n",
              "<style scoped>\n",
              "    .dataframe tbody tr th:only-of-type {\n",
              "        vertical-align: middle;\n",
              "    }\n",
              "\n",
              "    .dataframe tbody tr th {\n",
              "        vertical-align: top;\n",
              "    }\n",
              "\n",
              "    .dataframe thead th {\n",
              "        text-align: right;\n",
              "    }\n",
              "</style>\n",
              "<table border=\"1\" class=\"dataframe\">\n",
              "  <thead>\n",
              "    <tr style=\"text-align: right;\">\n",
              "      <th></th>\n",
              "      <th>0</th>\n",
              "    </tr>\n",
              "  </thead>\n",
              "  <tbody>\n",
              "    <tr>\n",
              "      <th>age_group</th>\n",
              "      <td>1.941587</td>\n",
              "    </tr>\n",
              "    <tr>\n",
              "      <th>tour_arrangement</th>\n",
              "      <td>1.682475</td>\n",
              "    </tr>\n",
              "    <tr>\n",
              "      <th>package_accomodation</th>\n",
              "      <td>1.366310</td>\n",
              "    </tr>\n",
              "    <tr>\n",
              "      <th>purpose</th>\n",
              "      <td>1.064015</td>\n",
              "    </tr>\n",
              "    <tr>\n",
              "      <th>package_transport_int</th>\n",
              "      <td>0.950230</td>\n",
              "    </tr>\n",
              "    <tr>\n",
              "      <th>payment_mode</th>\n",
              "      <td>0.690709</td>\n",
              "    </tr>\n",
              "    <tr>\n",
              "      <th>package_insurance</th>\n",
              "      <td>0.597511</td>\n",
              "    </tr>\n",
              "    <tr>\n",
              "      <th>package_food</th>\n",
              "      <td>0.262932</td>\n",
              "    </tr>\n",
              "    <tr>\n",
              "      <th>country</th>\n",
              "      <td>0.061048</td>\n",
              "    </tr>\n",
              "    <tr>\n",
              "      <th>package_transport_tz</th>\n",
              "      <td>-0.209406</td>\n",
              "    </tr>\n",
              "    <tr>\n",
              "      <th>package_guided_tour</th>\n",
              "      <td>-0.374436</td>\n",
              "    </tr>\n",
              "    <tr>\n",
              "      <th>package_sightseeing</th>\n",
              "      <td>-1.885416</td>\n",
              "    </tr>\n",
              "  </tbody>\n",
              "</table>\n",
              "</div>\n",
              "      <button class=\"colab-df-convert\" onclick=\"convertToInteractive('df-8a85dbef-5e8d-432c-a905-7b0d312751b8')\"\n",
              "              title=\"Convert this dataframe to an interactive table.\"\n",
              "              style=\"display:none;\">\n",
              "        \n",
              "  <svg xmlns=\"http://www.w3.org/2000/svg\" height=\"24px\"viewBox=\"0 0 24 24\"\n",
              "       width=\"24px\">\n",
              "    <path d=\"M0 0h24v24H0V0z\" fill=\"none\"/>\n",
              "    <path d=\"M18.56 5.44l.94 2.06.94-2.06 2.06-.94-2.06-.94-.94-2.06-.94 2.06-2.06.94zm-11 1L8.5 8.5l.94-2.06 2.06-.94-2.06-.94L8.5 2.5l-.94 2.06-2.06.94zm10 10l.94 2.06.94-2.06 2.06-.94-2.06-.94-.94-2.06-.94 2.06-2.06.94z\"/><path d=\"M17.41 7.96l-1.37-1.37c-.4-.4-.92-.59-1.43-.59-.52 0-1.04.2-1.43.59L10.3 9.45l-7.72 7.72c-.78.78-.78 2.05 0 2.83L4 21.41c.39.39.9.59 1.41.59.51 0 1.02-.2 1.41-.59l7.78-7.78 2.81-2.81c.8-.78.8-2.07 0-2.86zM5.41 20L4 18.59l7.72-7.72 1.47 1.35L5.41 20z\"/>\n",
              "  </svg>\n",
              "      </button>\n",
              "      \n",
              "  <style>\n",
              "    .colab-df-container {\n",
              "      display:flex;\n",
              "      flex-wrap:wrap;\n",
              "      gap: 12px;\n",
              "    }\n",
              "\n",
              "    .colab-df-convert {\n",
              "      background-color: #E8F0FE;\n",
              "      border: none;\n",
              "      border-radius: 50%;\n",
              "      cursor: pointer;\n",
              "      display: none;\n",
              "      fill: #1967D2;\n",
              "      height: 32px;\n",
              "      padding: 0 0 0 0;\n",
              "      width: 32px;\n",
              "    }\n",
              "\n",
              "    .colab-df-convert:hover {\n",
              "      background-color: #E2EBFA;\n",
              "      box-shadow: 0px 1px 2px rgba(60, 64, 67, 0.3), 0px 1px 3px 1px rgba(60, 64, 67, 0.15);\n",
              "      fill: #174EA6;\n",
              "    }\n",
              "\n",
              "    [theme=dark] .colab-df-convert {\n",
              "      background-color: #3B4455;\n",
              "      fill: #D2E3FC;\n",
              "    }\n",
              "\n",
              "    [theme=dark] .colab-df-convert:hover {\n",
              "      background-color: #434B5C;\n",
              "      box-shadow: 0px 1px 3px 1px rgba(0, 0, 0, 0.15);\n",
              "      filter: drop-shadow(0px 1px 2px rgba(0, 0, 0, 0.3));\n",
              "      fill: #FFFFFF;\n",
              "    }\n",
              "  </style>\n",
              "\n",
              "      <script>\n",
              "        const buttonEl =\n",
              "          document.querySelector('#df-8a85dbef-5e8d-432c-a905-7b0d312751b8 button.colab-df-convert');\n",
              "        buttonEl.style.display =\n",
              "          google.colab.kernel.accessAllowed ? 'block' : 'none';\n",
              "\n",
              "        async function convertToInteractive(key) {\n",
              "          const element = document.querySelector('#df-8a85dbef-5e8d-432c-a905-7b0d312751b8');\n",
              "          const dataTable =\n",
              "            await google.colab.kernel.invokeFunction('convertToInteractive',\n",
              "                                                     [key], {});\n",
              "          if (!dataTable) return;\n",
              "\n",
              "          const docLinkHtml = 'Like what you see? Visit the ' +\n",
              "            '<a target=\"_blank\" href=https://colab.research.google.com/notebooks/data_table.ipynb>data table notebook</a>'\n",
              "            + ' to learn more about interactive tables.';\n",
              "          element.innerHTML = '';\n",
              "          dataTable['output_type'] = 'display_data';\n",
              "          await google.colab.output.renderOutput(dataTable, element);\n",
              "          const docLink = document.createElement('div');\n",
              "          docLink.innerHTML = docLinkHtml;\n",
              "          element.appendChild(docLink);\n",
              "        }\n",
              "      </script>\n",
              "    </div>\n",
              "  </div>\n",
              "  "
            ],
            "text/plain": [
              "                              0\n",
              "age_group              1.941587\n",
              "tour_arrangement       1.682475\n",
              "package_accomodation   1.366310\n",
              "purpose                1.064015\n",
              "package_transport_int  0.950230\n",
              "payment_mode           0.690709\n",
              "package_insurance      0.597511\n",
              "package_food           0.262932\n",
              "country                0.061048\n",
              "package_transport_tz  -0.209406\n",
              "package_guided_tour   -0.374436\n",
              "package_sightseeing   -1.885416"
            ]
          },
          "metadata": {},
          "execution_count": 128
        }
      ]
    },
    {
      "cell_type": "markdown",
      "source": [
        "**They are dependent on each other.**"
      ],
      "metadata": {
        "id": "iakpP4kStZt8"
      }
    },
    {
      "cell_type": "markdown",
      "source": [
        "**The factors that determine most the main activity that tourists partake in Tanzania are age group, tour arrangement and package accomodation. Purpose, payment mode, package transport, package insurance, package food, and country weakly determine. The rest don't.**"
      ],
      "metadata": {
        "id": "5E36zMmns-Wv"
      }
    },
    {
      "cell_type": "markdown",
      "metadata": {
        "id": "nOow4rqeZV_D"
      },
      "source": [
        "## 5. Normality Test "
      ]
    },
    {
      "cell_type": "code",
      "execution_count": null,
      "metadata": {
        "id": "51yFgvrVZV_E",
        "colab": {
          "base_uri": "https://localhost:8080/"
        },
        "outputId": "1faeda68-3d72-43b5-8b91-bd36e6e1613c"
      },
      "outputs": [
        {
          "output_type": "stream",
          "name": "stdout",
          "text": [
            "Statistics=0.479, p=0.000\n",
            "Data does not look Gaussian for total_male\n",
            "Statistics=0.497, p=0.000\n",
            "Data does not look Gaussian for total_female\n",
            "Statistics=0.653, p=0.000\n",
            "Data does not look Gaussian for night_mainland\n",
            "Statistics=0.583, p=0.000\n",
            "Data does not look Gaussian for night_zanzibar\n",
            "Statistics=0.654, p=0.000\n",
            "Data does not look Gaussian for total_cost\n",
            "Statistics=0.374, p=0.000\n",
            "Data does not look Gaussian for total_tourists\n"
          ]
        }
      ],
      "source": [
        "# testing for normality\n",
        "from scipy.stats import shapiro \n",
        "for i in cols:\n",
        "  stat, p = shapiro(tourism[i])\n",
        "  print('Statistics=%.3f, p=%.3f' % (stat, p))\n",
        "  # interpreting\n",
        "  alpha = 0.05\n",
        "  if p > alpha:\n",
        "    print('Data looks Gaussian for', i)\n",
        "  else:\n",
        "    print('Data does not look Gaussian for', i)"
      ]
    },
    {
      "cell_type": "markdown",
      "source": [
        "**All the data doesn't look Gaussian.**"
      ],
      "metadata": {
        "id": "uWR9Fcan0GVX"
      }
    },
    {
      "cell_type": "markdown",
      "metadata": {
        "id": "4mcCjTMGZV_E"
      },
      "source": [
        "##6. Sampling and Hypothesis Testing"
      ]
    },
    {
      "cell_type": "markdown",
      "metadata": {
        "id": "e2hk2ND9ZV_F"
      },
      "source": [
        "**First we define the null and alternate hypothesis.**\n",
        "\n",
        "\n",
        "*   **Null Hypothesis - The average number of tourists who visit Tanzania for beach tourism are less or equal to the number of tourists who visit Tanzania to see wildlife.**\n",
        "*   **Alternative hypothesis - The average number of tourists who visit Tanzania for beach tourism is greater than the number of tourists who visit Tanzania to see wildlife.**\n",
        "\n",
        "**We will use a significance level of 0.05.**\n",
        "**The sampling method will be stratified random sampling taking samples randomly from two populations, stratifying by age group.**"
      ]
    },
    {
      "cell_type": "code",
      "execution_count": null,
      "metadata": {
        "id": "KgR-kxYYZV_F",
        "colab": {
          "base_uri": "https://localhost:8080/",
          "height": 461
        },
        "outputId": "eb9d2014-053a-49f2-e48d-a33691cf7675"
      },
      "outputs": [
        {
          "output_type": "execute_result",
          "data": {
            "text/html": [
              "\n",
              "  <div id=\"df-cc9a6421-1886-4e87-84a1-160208eb1acb\">\n",
              "    <div class=\"colab-df-container\">\n",
              "      <div>\n",
              "<style scoped>\n",
              "    .dataframe tbody tr th:only-of-type {\n",
              "        vertical-align: middle;\n",
              "    }\n",
              "\n",
              "    .dataframe tbody tr th {\n",
              "        vertical-align: top;\n",
              "    }\n",
              "\n",
              "    .dataframe thead th {\n",
              "        text-align: right;\n",
              "    }\n",
              "</style>\n",
              "<table border=\"1\" class=\"dataframe\">\n",
              "  <thead>\n",
              "    <tr style=\"text-align: right;\">\n",
              "      <th></th>\n",
              "      <th>ID</th>\n",
              "      <th>country</th>\n",
              "      <th>age_group</th>\n",
              "      <th>travel_with</th>\n",
              "      <th>total_female</th>\n",
              "      <th>total_male</th>\n",
              "      <th>purpose</th>\n",
              "      <th>main_activity</th>\n",
              "      <th>tour_arrangement</th>\n",
              "      <th>package_transport_int</th>\n",
              "      <th>package_accomodation</th>\n",
              "      <th>package_food</th>\n",
              "      <th>package_transport_tz</th>\n",
              "      <th>package_sightseeing</th>\n",
              "      <th>package_guided_tour</th>\n",
              "      <th>package_insurance</th>\n",
              "      <th>night_mainland</th>\n",
              "      <th>night_zanzibar</th>\n",
              "      <th>payment_mode</th>\n",
              "      <th>first_trip_tz</th>\n",
              "      <th>total_cost</th>\n",
              "      <th>total_tourists</th>\n",
              "    </tr>\n",
              "  </thead>\n",
              "  <tbody>\n",
              "    <tr>\n",
              "      <th>0</th>\n",
              "      <td>tour_0</td>\n",
              "      <td>SWIZERLAND</td>\n",
              "      <td>45-64</td>\n",
              "      <td>Friends/Relatives</td>\n",
              "      <td>1.0</td>\n",
              "      <td>1.0</td>\n",
              "      <td>Leisure and Holidays</td>\n",
              "      <td>Wildlife tourism</td>\n",
              "      <td>Independent</td>\n",
              "      <td>No</td>\n",
              "      <td>No</td>\n",
              "      <td>No</td>\n",
              "      <td>No</td>\n",
              "      <td>No</td>\n",
              "      <td>No</td>\n",
              "      <td>No</td>\n",
              "      <td>13</td>\n",
              "      <td>0</td>\n",
              "      <td>Cash</td>\n",
              "      <td>No</td>\n",
              "      <td>674602.5</td>\n",
              "      <td>2.0</td>\n",
              "    </tr>\n",
              "    <tr>\n",
              "      <th>1</th>\n",
              "      <td>tour_10</td>\n",
              "      <td>UNITED KINGDOM</td>\n",
              "      <td>25-44</td>\n",
              "      <td>DNS</td>\n",
              "      <td>1.0</td>\n",
              "      <td>0.0</td>\n",
              "      <td>Leisure and Holidays</td>\n",
              "      <td>Cultural tourism</td>\n",
              "      <td>Independent</td>\n",
              "      <td>No</td>\n",
              "      <td>No</td>\n",
              "      <td>No</td>\n",
              "      <td>No</td>\n",
              "      <td>No</td>\n",
              "      <td>No</td>\n",
              "      <td>No</td>\n",
              "      <td>14</td>\n",
              "      <td>7</td>\n",
              "      <td>Cash</td>\n",
              "      <td>Yes</td>\n",
              "      <td>3214906.5</td>\n",
              "      <td>1.0</td>\n",
              "    </tr>\n",
              "    <tr>\n",
              "      <th>2</th>\n",
              "      <td>tour_1000</td>\n",
              "      <td>UNITED KINGDOM</td>\n",
              "      <td>25-44</td>\n",
              "      <td>Alone</td>\n",
              "      <td>0.0</td>\n",
              "      <td>1.0</td>\n",
              "      <td>Visiting Friends and Relatives</td>\n",
              "      <td>Cultural tourism</td>\n",
              "      <td>Independent</td>\n",
              "      <td>No</td>\n",
              "      <td>No</td>\n",
              "      <td>No</td>\n",
              "      <td>No</td>\n",
              "      <td>No</td>\n",
              "      <td>No</td>\n",
              "      <td>No</td>\n",
              "      <td>1</td>\n",
              "      <td>31</td>\n",
              "      <td>Cash</td>\n",
              "      <td>No</td>\n",
              "      <td>3315000.0</td>\n",
              "      <td>1.0</td>\n",
              "    </tr>\n",
              "    <tr>\n",
              "      <th>3</th>\n",
              "      <td>tour_1002</td>\n",
              "      <td>UNITED KINGDOM</td>\n",
              "      <td>25-44</td>\n",
              "      <td>Spouse</td>\n",
              "      <td>1.0</td>\n",
              "      <td>1.0</td>\n",
              "      <td>Leisure and Holidays</td>\n",
              "      <td>Wildlife tourism</td>\n",
              "      <td>Package Tour</td>\n",
              "      <td>No</td>\n",
              "      <td>Yes</td>\n",
              "      <td>Yes</td>\n",
              "      <td>Yes</td>\n",
              "      <td>Yes</td>\n",
              "      <td>Yes</td>\n",
              "      <td>No</td>\n",
              "      <td>11</td>\n",
              "      <td>0</td>\n",
              "      <td>Cash</td>\n",
              "      <td>Yes</td>\n",
              "      <td>7790250.0</td>\n",
              "      <td>2.0</td>\n",
              "    </tr>\n",
              "    <tr>\n",
              "      <th>4</th>\n",
              "      <td>tour_1004</td>\n",
              "      <td>CHINA</td>\n",
              "      <td>1-24</td>\n",
              "      <td>DNS</td>\n",
              "      <td>1.0</td>\n",
              "      <td>0.0</td>\n",
              "      <td>Leisure and Holidays</td>\n",
              "      <td>Wildlife tourism</td>\n",
              "      <td>Independent</td>\n",
              "      <td>No</td>\n",
              "      <td>No</td>\n",
              "      <td>No</td>\n",
              "      <td>No</td>\n",
              "      <td>No</td>\n",
              "      <td>No</td>\n",
              "      <td>No</td>\n",
              "      <td>7</td>\n",
              "      <td>4</td>\n",
              "      <td>Cash</td>\n",
              "      <td>Yes</td>\n",
              "      <td>1657500.0</td>\n",
              "      <td>1.0</td>\n",
              "    </tr>\n",
              "  </tbody>\n",
              "</table>\n",
              "</div>\n",
              "      <button class=\"colab-df-convert\" onclick=\"convertToInteractive('df-cc9a6421-1886-4e87-84a1-160208eb1acb')\"\n",
              "              title=\"Convert this dataframe to an interactive table.\"\n",
              "              style=\"display:none;\">\n",
              "        \n",
              "  <svg xmlns=\"http://www.w3.org/2000/svg\" height=\"24px\"viewBox=\"0 0 24 24\"\n",
              "       width=\"24px\">\n",
              "    <path d=\"M0 0h24v24H0V0z\" fill=\"none\"/>\n",
              "    <path d=\"M18.56 5.44l.94 2.06.94-2.06 2.06-.94-2.06-.94-.94-2.06-.94 2.06-2.06.94zm-11 1L8.5 8.5l.94-2.06 2.06-.94-2.06-.94L8.5 2.5l-.94 2.06-2.06.94zm10 10l.94 2.06.94-2.06 2.06-.94-2.06-.94-.94-2.06-.94 2.06-2.06.94z\"/><path d=\"M17.41 7.96l-1.37-1.37c-.4-.4-.92-.59-1.43-.59-.52 0-1.04.2-1.43.59L10.3 9.45l-7.72 7.72c-.78.78-.78 2.05 0 2.83L4 21.41c.39.39.9.59 1.41.59.51 0 1.02-.2 1.41-.59l7.78-7.78 2.81-2.81c.8-.78.8-2.07 0-2.86zM5.41 20L4 18.59l7.72-7.72 1.47 1.35L5.41 20z\"/>\n",
              "  </svg>\n",
              "      </button>\n",
              "      \n",
              "  <style>\n",
              "    .colab-df-container {\n",
              "      display:flex;\n",
              "      flex-wrap:wrap;\n",
              "      gap: 12px;\n",
              "    }\n",
              "\n",
              "    .colab-df-convert {\n",
              "      background-color: #E8F0FE;\n",
              "      border: none;\n",
              "      border-radius: 50%;\n",
              "      cursor: pointer;\n",
              "      display: none;\n",
              "      fill: #1967D2;\n",
              "      height: 32px;\n",
              "      padding: 0 0 0 0;\n",
              "      width: 32px;\n",
              "    }\n",
              "\n",
              "    .colab-df-convert:hover {\n",
              "      background-color: #E2EBFA;\n",
              "      box-shadow: 0px 1px 2px rgba(60, 64, 67, 0.3), 0px 1px 3px 1px rgba(60, 64, 67, 0.15);\n",
              "      fill: #174EA6;\n",
              "    }\n",
              "\n",
              "    [theme=dark] .colab-df-convert {\n",
              "      background-color: #3B4455;\n",
              "      fill: #D2E3FC;\n",
              "    }\n",
              "\n",
              "    [theme=dark] .colab-df-convert:hover {\n",
              "      background-color: #434B5C;\n",
              "      box-shadow: 0px 1px 3px 1px rgba(0, 0, 0, 0.15);\n",
              "      filter: drop-shadow(0px 1px 2px rgba(0, 0, 0, 0.3));\n",
              "      fill: #FFFFFF;\n",
              "    }\n",
              "  </style>\n",
              "\n",
              "      <script>\n",
              "        const buttonEl =\n",
              "          document.querySelector('#df-cc9a6421-1886-4e87-84a1-160208eb1acb button.colab-df-convert');\n",
              "        buttonEl.style.display =\n",
              "          google.colab.kernel.accessAllowed ? 'block' : 'none';\n",
              "\n",
              "        async function convertToInteractive(key) {\n",
              "          const element = document.querySelector('#df-cc9a6421-1886-4e87-84a1-160208eb1acb');\n",
              "          const dataTable =\n",
              "            await google.colab.kernel.invokeFunction('convertToInteractive',\n",
              "                                                     [key], {});\n",
              "          if (!dataTable) return;\n",
              "\n",
              "          const docLinkHtml = 'Like what you see? Visit the ' +\n",
              "            '<a target=\"_blank\" href=https://colab.research.google.com/notebooks/data_table.ipynb>data table notebook</a>'\n",
              "            + ' to learn more about interactive tables.';\n",
              "          element.innerHTML = '';\n",
              "          dataTable['output_type'] = 'display_data';\n",
              "          await google.colab.output.renderOutput(dataTable, element);\n",
              "          const docLink = document.createElement('div');\n",
              "          docLink.innerHTML = docLinkHtml;\n",
              "          element.appendChild(docLink);\n",
              "        }\n",
              "      </script>\n",
              "    </div>\n",
              "  </div>\n",
              "  "
            ],
            "text/plain": [
              "          ID         country  ... total_cost total_tourists\n",
              "0     tour_0      SWIZERLAND  ...   674602.5            2.0\n",
              "1    tour_10  UNITED KINGDOM  ...  3214906.5            1.0\n",
              "2  tour_1000  UNITED KINGDOM  ...  3315000.0            1.0\n",
              "3  tour_1002  UNITED KINGDOM  ...  7790250.0            2.0\n",
              "4  tour_1004           CHINA  ...  1657500.0            1.0\n",
              "\n",
              "[5 rows x 22 columns]"
            ]
          },
          "metadata": {},
          "execution_count": 130
        }
      ],
      "source": [
        "#Creating a column that sums the number of total tourists\n",
        "tourism['total_tourists'] = tourism['total_female'] + tourism['total_male']\n",
        "tourism.head()"
      ]
    },
    {
      "cell_type": "code",
      "execution_count": null,
      "metadata": {
        "id": "O6PIpYZVZV_F",
        "colab": {
          "base_uri": "https://localhost:8080/",
          "height": 461
        },
        "outputId": "af0cf735-4e21-4afd-959f-4e4b7df3ceff"
      },
      "outputs": [
        {
          "output_type": "execute_result",
          "data": {
            "text/html": [
              "\n",
              "  <div id=\"df-618c7347-4418-46ca-a88e-fab010772350\">\n",
              "    <div class=\"colab-df-container\">\n",
              "      <div>\n",
              "<style scoped>\n",
              "    .dataframe tbody tr th:only-of-type {\n",
              "        vertical-align: middle;\n",
              "    }\n",
              "\n",
              "    .dataframe tbody tr th {\n",
              "        vertical-align: top;\n",
              "    }\n",
              "\n",
              "    .dataframe thead th {\n",
              "        text-align: right;\n",
              "    }\n",
              "</style>\n",
              "<table border=\"1\" class=\"dataframe\">\n",
              "  <thead>\n",
              "    <tr style=\"text-align: right;\">\n",
              "      <th></th>\n",
              "      <th>ID</th>\n",
              "      <th>country</th>\n",
              "      <th>age_group</th>\n",
              "      <th>travel_with</th>\n",
              "      <th>total_female</th>\n",
              "      <th>total_male</th>\n",
              "      <th>purpose</th>\n",
              "      <th>main_activity</th>\n",
              "      <th>tour_arrangement</th>\n",
              "      <th>package_transport_int</th>\n",
              "      <th>package_accomodation</th>\n",
              "      <th>package_food</th>\n",
              "      <th>package_transport_tz</th>\n",
              "      <th>package_sightseeing</th>\n",
              "      <th>package_guided_tour</th>\n",
              "      <th>package_insurance</th>\n",
              "      <th>night_mainland</th>\n",
              "      <th>night_zanzibar</th>\n",
              "      <th>payment_mode</th>\n",
              "      <th>first_trip_tz</th>\n",
              "      <th>total_cost</th>\n",
              "      <th>total_tourists</th>\n",
              "    </tr>\n",
              "  </thead>\n",
              "  <tbody>\n",
              "    <tr>\n",
              "      <th>11</th>\n",
              "      <td>tour_1013</td>\n",
              "      <td>CANADA</td>\n",
              "      <td>45-64</td>\n",
              "      <td>Children</td>\n",
              "      <td>2.0</td>\n",
              "      <td>0.0</td>\n",
              "      <td>Leisure and Holidays</td>\n",
              "      <td>Beach tourism</td>\n",
              "      <td>Independent</td>\n",
              "      <td>No</td>\n",
              "      <td>No</td>\n",
              "      <td>No</td>\n",
              "      <td>No</td>\n",
              "      <td>No</td>\n",
              "      <td>No</td>\n",
              "      <td>No</td>\n",
              "      <td>30</td>\n",
              "      <td>0</td>\n",
              "      <td>Cash</td>\n",
              "      <td>No</td>\n",
              "      <td>8121750.0</td>\n",
              "      <td>2.0</td>\n",
              "    </tr>\n",
              "    <tr>\n",
              "      <th>14</th>\n",
              "      <td>tour_1018</td>\n",
              "      <td>MOZAMBIQUE</td>\n",
              "      <td>25-44</td>\n",
              "      <td>Alone</td>\n",
              "      <td>0.0</td>\n",
              "      <td>1.0</td>\n",
              "      <td>Visiting Friends and Relatives</td>\n",
              "      <td>Beach tourism</td>\n",
              "      <td>Independent</td>\n",
              "      <td>No</td>\n",
              "      <td>No</td>\n",
              "      <td>No</td>\n",
              "      <td>No</td>\n",
              "      <td>No</td>\n",
              "      <td>No</td>\n",
              "      <td>No</td>\n",
              "      <td>2</td>\n",
              "      <td>0</td>\n",
              "      <td>Cash</td>\n",
              "      <td>Yes</td>\n",
              "      <td>497250.0</td>\n",
              "      <td>1.0</td>\n",
              "    </tr>\n",
              "    <tr>\n",
              "      <th>15</th>\n",
              "      <td>tour_102</td>\n",
              "      <td>RWANDA</td>\n",
              "      <td>65+</td>\n",
              "      <td>Alone</td>\n",
              "      <td>1.0</td>\n",
              "      <td>0.0</td>\n",
              "      <td>Leisure and Holidays</td>\n",
              "      <td>Beach tourism</td>\n",
              "      <td>Independent</td>\n",
              "      <td>No</td>\n",
              "      <td>No</td>\n",
              "      <td>No</td>\n",
              "      <td>No</td>\n",
              "      <td>No</td>\n",
              "      <td>No</td>\n",
              "      <td>No</td>\n",
              "      <td>0</td>\n",
              "      <td>2</td>\n",
              "      <td>Cash</td>\n",
              "      <td>Yes</td>\n",
              "      <td>331500.0</td>\n",
              "      <td>1.0</td>\n",
              "    </tr>\n",
              "    <tr>\n",
              "      <th>23</th>\n",
              "      <td>tour_103</td>\n",
              "      <td>ALGERIA</td>\n",
              "      <td>25-44</td>\n",
              "      <td>Spouse</td>\n",
              "      <td>1.0</td>\n",
              "      <td>1.0</td>\n",
              "      <td>Leisure and Holidays</td>\n",
              "      <td>Beach tourism</td>\n",
              "      <td>Independent</td>\n",
              "      <td>No</td>\n",
              "      <td>No</td>\n",
              "      <td>No</td>\n",
              "      <td>No</td>\n",
              "      <td>No</td>\n",
              "      <td>No</td>\n",
              "      <td>No</td>\n",
              "      <td>0</td>\n",
              "      <td>11</td>\n",
              "      <td>Cash</td>\n",
              "      <td>Yes</td>\n",
              "      <td>3734347.5</td>\n",
              "      <td>2.0</td>\n",
              "    </tr>\n",
              "    <tr>\n",
              "      <th>25</th>\n",
              "      <td>tour_1032</td>\n",
              "      <td>DENMARK</td>\n",
              "      <td>1-24</td>\n",
              "      <td>Friends/Relatives</td>\n",
              "      <td>2.0</td>\n",
              "      <td>2.0</td>\n",
              "      <td>Scientific and Academic</td>\n",
              "      <td>Beach tourism</td>\n",
              "      <td>Independent</td>\n",
              "      <td>No</td>\n",
              "      <td>No</td>\n",
              "      <td>No</td>\n",
              "      <td>No</td>\n",
              "      <td>No</td>\n",
              "      <td>No</td>\n",
              "      <td>No</td>\n",
              "      <td>15</td>\n",
              "      <td>7</td>\n",
              "      <td>Cash</td>\n",
              "      <td>Yes</td>\n",
              "      <td>400000.0</td>\n",
              "      <td>4.0</td>\n",
              "    </tr>\n",
              "  </tbody>\n",
              "</table>\n",
              "</div>\n",
              "      <button class=\"colab-df-convert\" onclick=\"convertToInteractive('df-618c7347-4418-46ca-a88e-fab010772350')\"\n",
              "              title=\"Convert this dataframe to an interactive table.\"\n",
              "              style=\"display:none;\">\n",
              "        \n",
              "  <svg xmlns=\"http://www.w3.org/2000/svg\" height=\"24px\"viewBox=\"0 0 24 24\"\n",
              "       width=\"24px\">\n",
              "    <path d=\"M0 0h24v24H0V0z\" fill=\"none\"/>\n",
              "    <path d=\"M18.56 5.44l.94 2.06.94-2.06 2.06-.94-2.06-.94-.94-2.06-.94 2.06-2.06.94zm-11 1L8.5 8.5l.94-2.06 2.06-.94-2.06-.94L8.5 2.5l-.94 2.06-2.06.94zm10 10l.94 2.06.94-2.06 2.06-.94-2.06-.94-.94-2.06-.94 2.06-2.06.94z\"/><path d=\"M17.41 7.96l-1.37-1.37c-.4-.4-.92-.59-1.43-.59-.52 0-1.04.2-1.43.59L10.3 9.45l-7.72 7.72c-.78.78-.78 2.05 0 2.83L4 21.41c.39.39.9.59 1.41.59.51 0 1.02-.2 1.41-.59l7.78-7.78 2.81-2.81c.8-.78.8-2.07 0-2.86zM5.41 20L4 18.59l7.72-7.72 1.47 1.35L5.41 20z\"/>\n",
              "  </svg>\n",
              "      </button>\n",
              "      \n",
              "  <style>\n",
              "    .colab-df-container {\n",
              "      display:flex;\n",
              "      flex-wrap:wrap;\n",
              "      gap: 12px;\n",
              "    }\n",
              "\n",
              "    .colab-df-convert {\n",
              "      background-color: #E8F0FE;\n",
              "      border: none;\n",
              "      border-radius: 50%;\n",
              "      cursor: pointer;\n",
              "      display: none;\n",
              "      fill: #1967D2;\n",
              "      height: 32px;\n",
              "      padding: 0 0 0 0;\n",
              "      width: 32px;\n",
              "    }\n",
              "\n",
              "    .colab-df-convert:hover {\n",
              "      background-color: #E2EBFA;\n",
              "      box-shadow: 0px 1px 2px rgba(60, 64, 67, 0.3), 0px 1px 3px 1px rgba(60, 64, 67, 0.15);\n",
              "      fill: #174EA6;\n",
              "    }\n",
              "\n",
              "    [theme=dark] .colab-df-convert {\n",
              "      background-color: #3B4455;\n",
              "      fill: #D2E3FC;\n",
              "    }\n",
              "\n",
              "    [theme=dark] .colab-df-convert:hover {\n",
              "      background-color: #434B5C;\n",
              "      box-shadow: 0px 1px 3px 1px rgba(0, 0, 0, 0.15);\n",
              "      filter: drop-shadow(0px 1px 2px rgba(0, 0, 0, 0.3));\n",
              "      fill: #FFFFFF;\n",
              "    }\n",
              "  </style>\n",
              "\n",
              "      <script>\n",
              "        const buttonEl =\n",
              "          document.querySelector('#df-618c7347-4418-46ca-a88e-fab010772350 button.colab-df-convert');\n",
              "        buttonEl.style.display =\n",
              "          google.colab.kernel.accessAllowed ? 'block' : 'none';\n",
              "\n",
              "        async function convertToInteractive(key) {\n",
              "          const element = document.querySelector('#df-618c7347-4418-46ca-a88e-fab010772350');\n",
              "          const dataTable =\n",
              "            await google.colab.kernel.invokeFunction('convertToInteractive',\n",
              "                                                     [key], {});\n",
              "          if (!dataTable) return;\n",
              "\n",
              "          const docLinkHtml = 'Like what you see? Visit the ' +\n",
              "            '<a target=\"_blank\" href=https://colab.research.google.com/notebooks/data_table.ipynb>data table notebook</a>'\n",
              "            + ' to learn more about interactive tables.';\n",
              "          element.innerHTML = '';\n",
              "          dataTable['output_type'] = 'display_data';\n",
              "          await google.colab.output.renderOutput(dataTable, element);\n",
              "          const docLink = document.createElement('div');\n",
              "          docLink.innerHTML = docLinkHtml;\n",
              "          element.appendChild(docLink);\n",
              "        }\n",
              "      </script>\n",
              "    </div>\n",
              "  </div>\n",
              "  "
            ],
            "text/plain": [
              "           ID     country age_group  ... first_trip_tz  total_cost  total_tourists\n",
              "11  tour_1013      CANADA     45-64  ...            No   8121750.0             2.0\n",
              "14  tour_1018  MOZAMBIQUE     25-44  ...           Yes    497250.0             1.0\n",
              "15   tour_102      RWANDA       65+  ...           Yes    331500.0             1.0\n",
              "23   tour_103     ALGERIA     25-44  ...           Yes   3734347.5             2.0\n",
              "25  tour_1032     DENMARK      1-24  ...           Yes    400000.0             4.0\n",
              "\n",
              "[5 rows x 22 columns]"
            ]
          },
          "metadata": {},
          "execution_count": 131
        }
      ],
      "source": [
        "#Creating a sub-dataset that only has beach tourism as the main activity\n",
        "beach = tourism[tourism['main_activity'] == 'Beach tourism']\n",
        "beach.head()"
      ]
    },
    {
      "cell_type": "code",
      "execution_count": null,
      "metadata": {
        "id": "fR63uRDRZV_G",
        "colab": {
          "base_uri": "https://localhost:8080/",
          "height": 444
        },
        "outputId": "f7d41ef8-2294-40c4-e0c1-f7d041a011dc"
      },
      "outputs": [
        {
          "output_type": "execute_result",
          "data": {
            "text/html": [
              "\n",
              "  <div id=\"df-473237d7-fcbc-475b-b045-5a87532683d1\">\n",
              "    <div class=\"colab-df-container\">\n",
              "      <div>\n",
              "<style scoped>\n",
              "    .dataframe tbody tr th:only-of-type {\n",
              "        vertical-align: middle;\n",
              "    }\n",
              "\n",
              "    .dataframe tbody tr th {\n",
              "        vertical-align: top;\n",
              "    }\n",
              "\n",
              "    .dataframe thead th {\n",
              "        text-align: right;\n",
              "    }\n",
              "</style>\n",
              "<table border=\"1\" class=\"dataframe\">\n",
              "  <thead>\n",
              "    <tr style=\"text-align: right;\">\n",
              "      <th></th>\n",
              "      <th>ID</th>\n",
              "      <th>country</th>\n",
              "      <th>age_group</th>\n",
              "      <th>travel_with</th>\n",
              "      <th>total_female</th>\n",
              "      <th>total_male</th>\n",
              "      <th>purpose</th>\n",
              "      <th>main_activity</th>\n",
              "      <th>tour_arrangement</th>\n",
              "      <th>package_transport_int</th>\n",
              "      <th>package_accomodation</th>\n",
              "      <th>package_food</th>\n",
              "      <th>package_transport_tz</th>\n",
              "      <th>package_sightseeing</th>\n",
              "      <th>package_guided_tour</th>\n",
              "      <th>package_insurance</th>\n",
              "      <th>night_mainland</th>\n",
              "      <th>night_zanzibar</th>\n",
              "      <th>payment_mode</th>\n",
              "      <th>first_trip_tz</th>\n",
              "      <th>total_cost</th>\n",
              "      <th>total_tourists</th>\n",
              "    </tr>\n",
              "  </thead>\n",
              "  <tbody>\n",
              "    <tr>\n",
              "      <th>0</th>\n",
              "      <td>tour_0</td>\n",
              "      <td>SWIZERLAND</td>\n",
              "      <td>45-64</td>\n",
              "      <td>Friends/Relatives</td>\n",
              "      <td>1.0</td>\n",
              "      <td>1.0</td>\n",
              "      <td>Leisure and Holidays</td>\n",
              "      <td>Wildlife tourism</td>\n",
              "      <td>Independent</td>\n",
              "      <td>No</td>\n",
              "      <td>No</td>\n",
              "      <td>No</td>\n",
              "      <td>No</td>\n",
              "      <td>No</td>\n",
              "      <td>No</td>\n",
              "      <td>No</td>\n",
              "      <td>13</td>\n",
              "      <td>0</td>\n",
              "      <td>Cash</td>\n",
              "      <td>No</td>\n",
              "      <td>674602.5</td>\n",
              "      <td>2.0</td>\n",
              "    </tr>\n",
              "    <tr>\n",
              "      <th>3</th>\n",
              "      <td>tour_1002</td>\n",
              "      <td>UNITED KINGDOM</td>\n",
              "      <td>25-44</td>\n",
              "      <td>Spouse</td>\n",
              "      <td>1.0</td>\n",
              "      <td>1.0</td>\n",
              "      <td>Leisure and Holidays</td>\n",
              "      <td>Wildlife tourism</td>\n",
              "      <td>Package Tour</td>\n",
              "      <td>No</td>\n",
              "      <td>Yes</td>\n",
              "      <td>Yes</td>\n",
              "      <td>Yes</td>\n",
              "      <td>Yes</td>\n",
              "      <td>Yes</td>\n",
              "      <td>No</td>\n",
              "      <td>11</td>\n",
              "      <td>0</td>\n",
              "      <td>Cash</td>\n",
              "      <td>Yes</td>\n",
              "      <td>7790250.0</td>\n",
              "      <td>2.0</td>\n",
              "    </tr>\n",
              "    <tr>\n",
              "      <th>4</th>\n",
              "      <td>tour_1004</td>\n",
              "      <td>CHINA</td>\n",
              "      <td>1-24</td>\n",
              "      <td>DNS</td>\n",
              "      <td>1.0</td>\n",
              "      <td>0.0</td>\n",
              "      <td>Leisure and Holidays</td>\n",
              "      <td>Wildlife tourism</td>\n",
              "      <td>Independent</td>\n",
              "      <td>No</td>\n",
              "      <td>No</td>\n",
              "      <td>No</td>\n",
              "      <td>No</td>\n",
              "      <td>No</td>\n",
              "      <td>No</td>\n",
              "      <td>No</td>\n",
              "      <td>7</td>\n",
              "      <td>4</td>\n",
              "      <td>Cash</td>\n",
              "      <td>Yes</td>\n",
              "      <td>1657500.0</td>\n",
              "      <td>1.0</td>\n",
              "    </tr>\n",
              "    <tr>\n",
              "      <th>5</th>\n",
              "      <td>tour_1005</td>\n",
              "      <td>UNITED KINGDOM</td>\n",
              "      <td>25-44</td>\n",
              "      <td>DNS</td>\n",
              "      <td>0.0</td>\n",
              "      <td>1.0</td>\n",
              "      <td>Leisure and Holidays</td>\n",
              "      <td>Wildlife tourism</td>\n",
              "      <td>Package Tour</td>\n",
              "      <td>No</td>\n",
              "      <td>No</td>\n",
              "      <td>No</td>\n",
              "      <td>No</td>\n",
              "      <td>Yes</td>\n",
              "      <td>Yes</td>\n",
              "      <td>No</td>\n",
              "      <td>9</td>\n",
              "      <td>3</td>\n",
              "      <td>Cash</td>\n",
              "      <td>Yes</td>\n",
              "      <td>120950.0</td>\n",
              "      <td>1.0</td>\n",
              "    </tr>\n",
              "    <tr>\n",
              "      <th>7</th>\n",
              "      <td>tour_1008</td>\n",
              "      <td>UNITED STATES OF AMERICA</td>\n",
              "      <td>45-64</td>\n",
              "      <td>Friends/Relatives</td>\n",
              "      <td>1.0</td>\n",
              "      <td>1.0</td>\n",
              "      <td>Leisure and Holidays</td>\n",
              "      <td>Wildlife tourism</td>\n",
              "      <td>Package Tour</td>\n",
              "      <td>Yes</td>\n",
              "      <td>Yes</td>\n",
              "      <td>Yes</td>\n",
              "      <td>Yes</td>\n",
              "      <td>Yes</td>\n",
              "      <td>Yes</td>\n",
              "      <td>Yes</td>\n",
              "      <td>10</td>\n",
              "      <td>3</td>\n",
              "      <td>Cash</td>\n",
              "      <td>Yes</td>\n",
              "      <td>3480750.0</td>\n",
              "      <td>2.0</td>\n",
              "    </tr>\n",
              "  </tbody>\n",
              "</table>\n",
              "</div>\n",
              "      <button class=\"colab-df-convert\" onclick=\"convertToInteractive('df-473237d7-fcbc-475b-b045-5a87532683d1')\"\n",
              "              title=\"Convert this dataframe to an interactive table.\"\n",
              "              style=\"display:none;\">\n",
              "        \n",
              "  <svg xmlns=\"http://www.w3.org/2000/svg\" height=\"24px\"viewBox=\"0 0 24 24\"\n",
              "       width=\"24px\">\n",
              "    <path d=\"M0 0h24v24H0V0z\" fill=\"none\"/>\n",
              "    <path d=\"M18.56 5.44l.94 2.06.94-2.06 2.06-.94-2.06-.94-.94-2.06-.94 2.06-2.06.94zm-11 1L8.5 8.5l.94-2.06 2.06-.94-2.06-.94L8.5 2.5l-.94 2.06-2.06.94zm10 10l.94 2.06.94-2.06 2.06-.94-2.06-.94-.94-2.06-.94 2.06-2.06.94z\"/><path d=\"M17.41 7.96l-1.37-1.37c-.4-.4-.92-.59-1.43-.59-.52 0-1.04.2-1.43.59L10.3 9.45l-7.72 7.72c-.78.78-.78 2.05 0 2.83L4 21.41c.39.39.9.59 1.41.59.51 0 1.02-.2 1.41-.59l7.78-7.78 2.81-2.81c.8-.78.8-2.07 0-2.86zM5.41 20L4 18.59l7.72-7.72 1.47 1.35L5.41 20z\"/>\n",
              "  </svg>\n",
              "      </button>\n",
              "      \n",
              "  <style>\n",
              "    .colab-df-container {\n",
              "      display:flex;\n",
              "      flex-wrap:wrap;\n",
              "      gap: 12px;\n",
              "    }\n",
              "\n",
              "    .colab-df-convert {\n",
              "      background-color: #E8F0FE;\n",
              "      border: none;\n",
              "      border-radius: 50%;\n",
              "      cursor: pointer;\n",
              "      display: none;\n",
              "      fill: #1967D2;\n",
              "      height: 32px;\n",
              "      padding: 0 0 0 0;\n",
              "      width: 32px;\n",
              "    }\n",
              "\n",
              "    .colab-df-convert:hover {\n",
              "      background-color: #E2EBFA;\n",
              "      box-shadow: 0px 1px 2px rgba(60, 64, 67, 0.3), 0px 1px 3px 1px rgba(60, 64, 67, 0.15);\n",
              "      fill: #174EA6;\n",
              "    }\n",
              "\n",
              "    [theme=dark] .colab-df-convert {\n",
              "      background-color: #3B4455;\n",
              "      fill: #D2E3FC;\n",
              "    }\n",
              "\n",
              "    [theme=dark] .colab-df-convert:hover {\n",
              "      background-color: #434B5C;\n",
              "      box-shadow: 0px 1px 3px 1px rgba(0, 0, 0, 0.15);\n",
              "      filter: drop-shadow(0px 1px 2px rgba(0, 0, 0, 0.3));\n",
              "      fill: #FFFFFF;\n",
              "    }\n",
              "  </style>\n",
              "\n",
              "      <script>\n",
              "        const buttonEl =\n",
              "          document.querySelector('#df-473237d7-fcbc-475b-b045-5a87532683d1 button.colab-df-convert');\n",
              "        buttonEl.style.display =\n",
              "          google.colab.kernel.accessAllowed ? 'block' : 'none';\n",
              "\n",
              "        async function convertToInteractive(key) {\n",
              "          const element = document.querySelector('#df-473237d7-fcbc-475b-b045-5a87532683d1');\n",
              "          const dataTable =\n",
              "            await google.colab.kernel.invokeFunction('convertToInteractive',\n",
              "                                                     [key], {});\n",
              "          if (!dataTable) return;\n",
              "\n",
              "          const docLinkHtml = 'Like what you see? Visit the ' +\n",
              "            '<a target=\"_blank\" href=https://colab.research.google.com/notebooks/data_table.ipynb>data table notebook</a>'\n",
              "            + ' to learn more about interactive tables.';\n",
              "          element.innerHTML = '';\n",
              "          dataTable['output_type'] = 'display_data';\n",
              "          await google.colab.output.renderOutput(dataTable, element);\n",
              "          const docLink = document.createElement('div');\n",
              "          docLink.innerHTML = docLinkHtml;\n",
              "          element.appendChild(docLink);\n",
              "        }\n",
              "      </script>\n",
              "    </div>\n",
              "  </div>\n",
              "  "
            ],
            "text/plain": [
              "          ID                   country  ... total_cost total_tourists\n",
              "0     tour_0                SWIZERLAND  ...   674602.5            2.0\n",
              "3  tour_1002            UNITED KINGDOM  ...  7790250.0            2.0\n",
              "4  tour_1004                     CHINA  ...  1657500.0            1.0\n",
              "5  tour_1005            UNITED KINGDOM  ...   120950.0            1.0\n",
              "7  tour_1008  UNITED STATES OF AMERICA  ...  3480750.0            2.0\n",
              "\n",
              "[5 rows x 22 columns]"
            ]
          },
          "metadata": {},
          "execution_count": 132
        }
      ],
      "source": [
        "#Creating a sub-dataset that only has beach tourism as the main activity\n",
        "wildlife = tourism[tourism['main_activity'] == 'Wildlife tourism']\n",
        "wildlife.head()"
      ]
    },
    {
      "cell_type": "code",
      "execution_count": null,
      "metadata": {
        "id": "DAXXIoeRZV_G",
        "colab": {
          "base_uri": "https://localhost:8080/"
        },
        "outputId": "ea70bc16-29cd-4829-aa35-67e8e987506e"
      },
      "outputs": [
        {
          "output_type": "stream",
          "name": "stdout",
          "text": [
            "25-44    112\n",
            "45-64     70\n",
            "1-24      22\n",
            "65+       22\n",
            "Name: age_group, dtype: int64\n"
          ]
        }
      ],
      "source": [
        "# Non stratified sample for the beach dataset\n",
        "wildlife_non_strat_output = wildlife.sample(frac=0.1) \n",
        "\n",
        "# check the proportion of the non_stratified sample\n",
        "print(wildlife_non_strat_output['age_group'].value_counts())"
      ]
    },
    {
      "cell_type": "code",
      "execution_count": null,
      "metadata": {
        "scrolled": true,
        "id": "BOBsQXmlZV_G",
        "colab": {
          "base_uri": "https://localhost:8080/",
          "height": 783
        },
        "outputId": "e4385138-ee6b-4939-ba46-81e173fe1983"
      },
      "outputs": [
        {
          "output_type": "stream",
          "name": "stdout",
          "text": [
            "25-44    105\n",
            "45-64     77\n",
            "65+       24\n",
            "1-24      20\n",
            "Name: age_group, dtype: int64\n"
          ]
        },
        {
          "output_type": "execute_result",
          "data": {
            "text/html": [
              "\n",
              "  <div id=\"df-583956b4-bdbf-4f4d-b39d-f19bf3c710d2\">\n",
              "    <div class=\"colab-df-container\">\n",
              "      <div>\n",
              "<style scoped>\n",
              "    .dataframe tbody tr th:only-of-type {\n",
              "        vertical-align: middle;\n",
              "    }\n",
              "\n",
              "    .dataframe tbody tr th {\n",
              "        vertical-align: top;\n",
              "    }\n",
              "\n",
              "    .dataframe thead th {\n",
              "        text-align: right;\n",
              "    }\n",
              "</style>\n",
              "<table border=\"1\" class=\"dataframe\">\n",
              "  <thead>\n",
              "    <tr style=\"text-align: right;\">\n",
              "      <th></th>\n",
              "      <th>ID</th>\n",
              "      <th>country</th>\n",
              "      <th>age_group</th>\n",
              "      <th>travel_with</th>\n",
              "      <th>total_female</th>\n",
              "      <th>total_male</th>\n",
              "      <th>purpose</th>\n",
              "      <th>main_activity</th>\n",
              "      <th>tour_arrangement</th>\n",
              "      <th>package_transport_int</th>\n",
              "      <th>package_accomodation</th>\n",
              "      <th>package_food</th>\n",
              "      <th>package_transport_tz</th>\n",
              "      <th>package_sightseeing</th>\n",
              "      <th>package_guided_tour</th>\n",
              "      <th>package_insurance</th>\n",
              "      <th>night_mainland</th>\n",
              "      <th>night_zanzibar</th>\n",
              "      <th>payment_mode</th>\n",
              "      <th>first_trip_tz</th>\n",
              "      <th>total_cost</th>\n",
              "      <th>total_tourists</th>\n",
              "    </tr>\n",
              "  </thead>\n",
              "  <tbody>\n",
              "    <tr>\n",
              "      <th>2853</th>\n",
              "      <td>tour_4476</td>\n",
              "      <td>SWEDEN</td>\n",
              "      <td>1-24</td>\n",
              "      <td>Friends/Relatives</td>\n",
              "      <td>3.0</td>\n",
              "      <td>1.0</td>\n",
              "      <td>Leisure and Holidays</td>\n",
              "      <td>Wildlife tourism</td>\n",
              "      <td>Package Tour</td>\n",
              "      <td>Yes</td>\n",
              "      <td>Yes</td>\n",
              "      <td>Yes</td>\n",
              "      <td>Yes</td>\n",
              "      <td>Yes</td>\n",
              "      <td>Yes</td>\n",
              "      <td>No</td>\n",
              "      <td>7</td>\n",
              "      <td>7</td>\n",
              "      <td>Cash</td>\n",
              "      <td>Yes</td>\n",
              "      <td>215000.0</td>\n",
              "      <td>4.0</td>\n",
              "    </tr>\n",
              "    <tr>\n",
              "      <th>3906</th>\n",
              "      <td>tour_5741</td>\n",
              "      <td>BELGIUM</td>\n",
              "      <td>1-24</td>\n",
              "      <td>Alone</td>\n",
              "      <td>0.0</td>\n",
              "      <td>1.0</td>\n",
              "      <td>Volunteering</td>\n",
              "      <td>Wildlife tourism</td>\n",
              "      <td>Package Tour</td>\n",
              "      <td>No</td>\n",
              "      <td>Yes</td>\n",
              "      <td>Yes</td>\n",
              "      <td>Yes</td>\n",
              "      <td>Yes</td>\n",
              "      <td>Yes</td>\n",
              "      <td>Yes</td>\n",
              "      <td>11</td>\n",
              "      <td>3</td>\n",
              "      <td>Cash</td>\n",
              "      <td>Yes</td>\n",
              "      <td>2900625.0</td>\n",
              "      <td>1.0</td>\n",
              "    </tr>\n",
              "    <tr>\n",
              "      <th>337</th>\n",
              "      <td>tour_1412</td>\n",
              "      <td>ITALY</td>\n",
              "      <td>1-24</td>\n",
              "      <td>Friends/Relatives</td>\n",
              "      <td>1.0</td>\n",
              "      <td>3.0</td>\n",
              "      <td>Leisure and Holidays</td>\n",
              "      <td>Wildlife tourism</td>\n",
              "      <td>Independent</td>\n",
              "      <td>No</td>\n",
              "      <td>No</td>\n",
              "      <td>No</td>\n",
              "      <td>No</td>\n",
              "      <td>No</td>\n",
              "      <td>No</td>\n",
              "      <td>No</td>\n",
              "      <td>3</td>\n",
              "      <td>0</td>\n",
              "      <td>Cash</td>\n",
              "      <td>No</td>\n",
              "      <td>4538660.0</td>\n",
              "      <td>4.0</td>\n",
              "    </tr>\n",
              "    <tr>\n",
              "      <th>3494</th>\n",
              "      <td>tour_5230</td>\n",
              "      <td>ITALY</td>\n",
              "      <td>1-24</td>\n",
              "      <td>Spouse</td>\n",
              "      <td>1.0</td>\n",
              "      <td>1.0</td>\n",
              "      <td>Leisure and Holidays</td>\n",
              "      <td>Wildlife tourism</td>\n",
              "      <td>Package Tour</td>\n",
              "      <td>Yes</td>\n",
              "      <td>Yes</td>\n",
              "      <td>Yes</td>\n",
              "      <td>Yes</td>\n",
              "      <td>No</td>\n",
              "      <td>No</td>\n",
              "      <td>No</td>\n",
              "      <td>0</td>\n",
              "      <td>7</td>\n",
              "      <td>Cash</td>\n",
              "      <td>Yes</td>\n",
              "      <td>6464250.0</td>\n",
              "      <td>2.0</td>\n",
              "    </tr>\n",
              "    <tr>\n",
              "      <th>900</th>\n",
              "      <td>tour_2103</td>\n",
              "      <td>AUSTRALIA</td>\n",
              "      <td>1-24</td>\n",
              "      <td>Alone</td>\n",
              "      <td>1.0</td>\n",
              "      <td>0.0</td>\n",
              "      <td>Leisure and Holidays</td>\n",
              "      <td>Wildlife tourism</td>\n",
              "      <td>Package Tour</td>\n",
              "      <td>No</td>\n",
              "      <td>Yes</td>\n",
              "      <td>Yes</td>\n",
              "      <td>Yes</td>\n",
              "      <td>Yes</td>\n",
              "      <td>Yes</td>\n",
              "      <td>Yes</td>\n",
              "      <td>7</td>\n",
              "      <td>4</td>\n",
              "      <td>Cash</td>\n",
              "      <td>Yes</td>\n",
              "      <td>7873125.0</td>\n",
              "      <td>1.0</td>\n",
              "    </tr>\n",
              "    <tr>\n",
              "      <th>...</th>\n",
              "      <td>...</td>\n",
              "      <td>...</td>\n",
              "      <td>...</td>\n",
              "      <td>...</td>\n",
              "      <td>...</td>\n",
              "      <td>...</td>\n",
              "      <td>...</td>\n",
              "      <td>...</td>\n",
              "      <td>...</td>\n",
              "      <td>...</td>\n",
              "      <td>...</td>\n",
              "      <td>...</td>\n",
              "      <td>...</td>\n",
              "      <td>...</td>\n",
              "      <td>...</td>\n",
              "      <td>...</td>\n",
              "      <td>...</td>\n",
              "      <td>...</td>\n",
              "      <td>...</td>\n",
              "      <td>...</td>\n",
              "      <td>...</td>\n",
              "      <td>...</td>\n",
              "    </tr>\n",
              "    <tr>\n",
              "      <th>999</th>\n",
              "      <td>tour_2220</td>\n",
              "      <td>UNITED STATES OF AMERICA</td>\n",
              "      <td>65+</td>\n",
              "      <td>Spouse</td>\n",
              "      <td>1.0</td>\n",
              "      <td>1.0</td>\n",
              "      <td>Leisure and Holidays</td>\n",
              "      <td>Wildlife tourism</td>\n",
              "      <td>Package Tour</td>\n",
              "      <td>Yes</td>\n",
              "      <td>Yes</td>\n",
              "      <td>Yes</td>\n",
              "      <td>Yes</td>\n",
              "      <td>Yes</td>\n",
              "      <td>Yes</td>\n",
              "      <td>Yes</td>\n",
              "      <td>3</td>\n",
              "      <td>0</td>\n",
              "      <td>Credit Card</td>\n",
              "      <td>Yes</td>\n",
              "      <td>17901000.0</td>\n",
              "      <td>2.0</td>\n",
              "    </tr>\n",
              "    <tr>\n",
              "      <th>1994</th>\n",
              "      <td>tour_3420</td>\n",
              "      <td>UNITED STATES OF AMERICA</td>\n",
              "      <td>65+</td>\n",
              "      <td>Spouse</td>\n",
              "      <td>1.0</td>\n",
              "      <td>1.0</td>\n",
              "      <td>Leisure and Holidays</td>\n",
              "      <td>Wildlife tourism</td>\n",
              "      <td>Package Tour</td>\n",
              "      <td>No</td>\n",
              "      <td>Yes</td>\n",
              "      <td>Yes</td>\n",
              "      <td>Yes</td>\n",
              "      <td>Yes</td>\n",
              "      <td>Yes</td>\n",
              "      <td>No</td>\n",
              "      <td>4</td>\n",
              "      <td>0</td>\n",
              "      <td>Cash</td>\n",
              "      <td>Yes</td>\n",
              "      <td>14983800.0</td>\n",
              "      <td>2.0</td>\n",
              "    </tr>\n",
              "    <tr>\n",
              "      <th>1608</th>\n",
              "      <td>tour_2975</td>\n",
              "      <td>UNITED STATES OF AMERICA</td>\n",
              "      <td>65+</td>\n",
              "      <td>Spouse</td>\n",
              "      <td>1.0</td>\n",
              "      <td>1.0</td>\n",
              "      <td>Leisure and Holidays</td>\n",
              "      <td>Wildlife tourism</td>\n",
              "      <td>Package Tour</td>\n",
              "      <td>Yes</td>\n",
              "      <td>Yes</td>\n",
              "      <td>Yes</td>\n",
              "      <td>Yes</td>\n",
              "      <td>Yes</td>\n",
              "      <td>Yes</td>\n",
              "      <td>Yes</td>\n",
              "      <td>7</td>\n",
              "      <td>0</td>\n",
              "      <td>Credit Card</td>\n",
              "      <td>Yes</td>\n",
              "      <td>50056500.0</td>\n",
              "      <td>2.0</td>\n",
              "    </tr>\n",
              "    <tr>\n",
              "      <th>821</th>\n",
              "      <td>tour_2008</td>\n",
              "      <td>KENYA</td>\n",
              "      <td>65+</td>\n",
              "      <td>Alone</td>\n",
              "      <td>1.0</td>\n",
              "      <td>0.0</td>\n",
              "      <td>Business</td>\n",
              "      <td>Wildlife tourism</td>\n",
              "      <td>Independent</td>\n",
              "      <td>No</td>\n",
              "      <td>No</td>\n",
              "      <td>No</td>\n",
              "      <td>No</td>\n",
              "      <td>No</td>\n",
              "      <td>No</td>\n",
              "      <td>No</td>\n",
              "      <td>4</td>\n",
              "      <td>0</td>\n",
              "      <td>Cash</td>\n",
              "      <td>No</td>\n",
              "      <td>900000.0</td>\n",
              "      <td>1.0</td>\n",
              "    </tr>\n",
              "    <tr>\n",
              "      <th>2355</th>\n",
              "      <td>tour_3867</td>\n",
              "      <td>UNITED STATES OF AMERICA</td>\n",
              "      <td>65+</td>\n",
              "      <td>Spouse</td>\n",
              "      <td>1.0</td>\n",
              "      <td>1.0</td>\n",
              "      <td>Leisure and Holidays</td>\n",
              "      <td>Wildlife tourism</td>\n",
              "      <td>Package Tour</td>\n",
              "      <td>Yes</td>\n",
              "      <td>Yes</td>\n",
              "      <td>Yes</td>\n",
              "      <td>Yes</td>\n",
              "      <td>Yes</td>\n",
              "      <td>Yes</td>\n",
              "      <td>Yes</td>\n",
              "      <td>4</td>\n",
              "      <td>0</td>\n",
              "      <td>Cash</td>\n",
              "      <td>Yes</td>\n",
              "      <td>40940250.0</td>\n",
              "      <td>2.0</td>\n",
              "    </tr>\n",
              "  </tbody>\n",
              "</table>\n",
              "<p>226 rows × 22 columns</p>\n",
              "</div>\n",
              "      <button class=\"colab-df-convert\" onclick=\"convertToInteractive('df-583956b4-bdbf-4f4d-b39d-f19bf3c710d2')\"\n",
              "              title=\"Convert this dataframe to an interactive table.\"\n",
              "              style=\"display:none;\">\n",
              "        \n",
              "  <svg xmlns=\"http://www.w3.org/2000/svg\" height=\"24px\"viewBox=\"0 0 24 24\"\n",
              "       width=\"24px\">\n",
              "    <path d=\"M0 0h24v24H0V0z\" fill=\"none\"/>\n",
              "    <path d=\"M18.56 5.44l.94 2.06.94-2.06 2.06-.94-2.06-.94-.94-2.06-.94 2.06-2.06.94zm-11 1L8.5 8.5l.94-2.06 2.06-.94-2.06-.94L8.5 2.5l-.94 2.06-2.06.94zm10 10l.94 2.06.94-2.06 2.06-.94-2.06-.94-.94-2.06-.94 2.06-2.06.94z\"/><path d=\"M17.41 7.96l-1.37-1.37c-.4-.4-.92-.59-1.43-.59-.52 0-1.04.2-1.43.59L10.3 9.45l-7.72 7.72c-.78.78-.78 2.05 0 2.83L4 21.41c.39.39.9.59 1.41.59.51 0 1.02-.2 1.41-.59l7.78-7.78 2.81-2.81c.8-.78.8-2.07 0-2.86zM5.41 20L4 18.59l7.72-7.72 1.47 1.35L5.41 20z\"/>\n",
              "  </svg>\n",
              "      </button>\n",
              "      \n",
              "  <style>\n",
              "    .colab-df-container {\n",
              "      display:flex;\n",
              "      flex-wrap:wrap;\n",
              "      gap: 12px;\n",
              "    }\n",
              "\n",
              "    .colab-df-convert {\n",
              "      background-color: #E8F0FE;\n",
              "      border: none;\n",
              "      border-radius: 50%;\n",
              "      cursor: pointer;\n",
              "      display: none;\n",
              "      fill: #1967D2;\n",
              "      height: 32px;\n",
              "      padding: 0 0 0 0;\n",
              "      width: 32px;\n",
              "    }\n",
              "\n",
              "    .colab-df-convert:hover {\n",
              "      background-color: #E2EBFA;\n",
              "      box-shadow: 0px 1px 2px rgba(60, 64, 67, 0.3), 0px 1px 3px 1px rgba(60, 64, 67, 0.15);\n",
              "      fill: #174EA6;\n",
              "    }\n",
              "\n",
              "    [theme=dark] .colab-df-convert {\n",
              "      background-color: #3B4455;\n",
              "      fill: #D2E3FC;\n",
              "    }\n",
              "\n",
              "    [theme=dark] .colab-df-convert:hover {\n",
              "      background-color: #434B5C;\n",
              "      box-shadow: 0px 1px 3px 1px rgba(0, 0, 0, 0.15);\n",
              "      filter: drop-shadow(0px 1px 2px rgba(0, 0, 0, 0.3));\n",
              "      fill: #FFFFFF;\n",
              "    }\n",
              "  </style>\n",
              "\n",
              "      <script>\n",
              "        const buttonEl =\n",
              "          document.querySelector('#df-583956b4-bdbf-4f4d-b39d-f19bf3c710d2 button.colab-df-convert');\n",
              "        buttonEl.style.display =\n",
              "          google.colab.kernel.accessAllowed ? 'block' : 'none';\n",
              "\n",
              "        async function convertToInteractive(key) {\n",
              "          const element = document.querySelector('#df-583956b4-bdbf-4f4d-b39d-f19bf3c710d2');\n",
              "          const dataTable =\n",
              "            await google.colab.kernel.invokeFunction('convertToInteractive',\n",
              "                                                     [key], {});\n",
              "          if (!dataTable) return;\n",
              "\n",
              "          const docLinkHtml = 'Like what you see? Visit the ' +\n",
              "            '<a target=\"_blank\" href=https://colab.research.google.com/notebooks/data_table.ipynb>data table notebook</a>'\n",
              "            + ' to learn more about interactive tables.';\n",
              "          element.innerHTML = '';\n",
              "          dataTable['output_type'] = 'display_data';\n",
              "          await google.colab.output.renderOutput(dataTable, element);\n",
              "          const docLink = document.createElement('div');\n",
              "          docLink.innerHTML = docLinkHtml;\n",
              "          element.appendChild(docLink);\n",
              "        }\n",
              "      </script>\n",
              "    </div>\n",
              "  </div>\n",
              "  "
            ],
            "text/plain": [
              "             ID                   country  ...  total_cost total_tourists\n",
              "2853  tour_4476                    SWEDEN  ...    215000.0            4.0\n",
              "3906  tour_5741                   BELGIUM  ...   2900625.0            1.0\n",
              "337   tour_1412                     ITALY  ...   4538660.0            4.0\n",
              "3494  tour_5230                     ITALY  ...   6464250.0            2.0\n",
              "900   tour_2103                 AUSTRALIA  ...   7873125.0            1.0\n",
              "...         ...                       ...  ...         ...            ...\n",
              "999   tour_2220  UNITED STATES OF AMERICA  ...  17901000.0            2.0\n",
              "1994  tour_3420  UNITED STATES OF AMERICA  ...  14983800.0            2.0\n",
              "1608  tour_2975  UNITED STATES OF AMERICA  ...  50056500.0            2.0\n",
              "821   tour_2008                     KENYA  ...    900000.0            1.0\n",
              "2355  tour_3867  UNITED STATES OF AMERICA  ...  40940250.0            2.0\n",
              "\n",
              "[226 rows x 22 columns]"
            ]
          },
          "metadata": {},
          "execution_count": 134
        }
      ],
      "source": [
        "# Stratified sample for the beach dataset\n",
        "wildlife_strat_output = wildlife.groupby('age_group', group_keys=False).apply(lambda grouped_subset : grouped_subset.sample(frac=0.1))\n",
        "\n",
        "# proportion of the non_stratified sample\n",
        "print(wildlife_strat_output['age_group'].value_counts())\n",
        "\n",
        "# Check the stratified output\n",
        "wildlife_strat_output"
      ]
    },
    {
      "cell_type": "code",
      "execution_count": null,
      "metadata": {
        "id": "UE-4V2rXZV_H",
        "colab": {
          "base_uri": "https://localhost:8080/"
        },
        "outputId": "d512acf2-d7b7-4c78-e008-1caac6a18160"
      },
      "outputs": [
        {
          "output_type": "stream",
          "name": "stdout",
          "text": [
            "25-44    68\n",
            "45-64    23\n",
            "1-24     11\n",
            "Name: age_group, dtype: int64\n"
          ]
        }
      ],
      "source": [
        "# Non stratified sample for the beach dataset\n",
        "beach_non_strat_output = beach.sample(frac=0.1) \n",
        "\n",
        "# check the proportion of the non_stratified sample\n",
        "print(beach_non_strat_output['age_group'].value_counts())"
      ]
    },
    {
      "cell_type": "code",
      "execution_count": null,
      "metadata": {
        "id": "iHA7E4z-ZV_I",
        "colab": {
          "base_uri": "https://localhost:8080/",
          "height": 1000
        },
        "outputId": "87cbe54b-1329-4efc-8d35-e5608b0b59f7"
      },
      "outputs": [
        {
          "output_type": "stream",
          "name": "stdout",
          "text": [
            "25-44    62\n",
            "45-64    24\n",
            "1-24     14\n",
            "65+       2\n",
            "Name: age_group, dtype: int64\n"
          ]
        },
        {
          "output_type": "execute_result",
          "data": {
            "text/html": [
              "\n",
              "  <div id=\"df-7e19d3c2-0f0f-4ee4-9787-762a54d332b2\">\n",
              "    <div class=\"colab-df-container\">\n",
              "      <div>\n",
              "<style scoped>\n",
              "    .dataframe tbody tr th:only-of-type {\n",
              "        vertical-align: middle;\n",
              "    }\n",
              "\n",
              "    .dataframe tbody tr th {\n",
              "        vertical-align: top;\n",
              "    }\n",
              "\n",
              "    .dataframe thead th {\n",
              "        text-align: right;\n",
              "    }\n",
              "</style>\n",
              "<table border=\"1\" class=\"dataframe\">\n",
              "  <thead>\n",
              "    <tr style=\"text-align: right;\">\n",
              "      <th></th>\n",
              "      <th>ID</th>\n",
              "      <th>country</th>\n",
              "      <th>age_group</th>\n",
              "      <th>travel_with</th>\n",
              "      <th>total_female</th>\n",
              "      <th>total_male</th>\n",
              "      <th>purpose</th>\n",
              "      <th>main_activity</th>\n",
              "      <th>tour_arrangement</th>\n",
              "      <th>package_transport_int</th>\n",
              "      <th>package_accomodation</th>\n",
              "      <th>package_food</th>\n",
              "      <th>package_transport_tz</th>\n",
              "      <th>package_sightseeing</th>\n",
              "      <th>package_guided_tour</th>\n",
              "      <th>package_insurance</th>\n",
              "      <th>night_mainland</th>\n",
              "      <th>night_zanzibar</th>\n",
              "      <th>payment_mode</th>\n",
              "      <th>first_trip_tz</th>\n",
              "      <th>total_cost</th>\n",
              "      <th>total_tourists</th>\n",
              "    </tr>\n",
              "  </thead>\n",
              "  <tbody>\n",
              "    <tr>\n",
              "      <th>2149</th>\n",
              "      <td>tour_3611</td>\n",
              "      <td>UNITED STATES OF AMERICA</td>\n",
              "      <td>1-24</td>\n",
              "      <td>Alone</td>\n",
              "      <td>1.0</td>\n",
              "      <td>0.0</td>\n",
              "      <td>Leisure and Holidays</td>\n",
              "      <td>Beach tourism</td>\n",
              "      <td>Independent</td>\n",
              "      <td>No</td>\n",
              "      <td>No</td>\n",
              "      <td>No</td>\n",
              "      <td>No</td>\n",
              "      <td>No</td>\n",
              "      <td>No</td>\n",
              "      <td>No</td>\n",
              "      <td>30</td>\n",
              "      <td>0</td>\n",
              "      <td>Cash</td>\n",
              "      <td>Yes</td>\n",
              "      <td>2353650.0</td>\n",
              "      <td>1.0</td>\n",
              "    </tr>\n",
              "    <tr>\n",
              "      <th>1129</th>\n",
              "      <td>tour_2386</td>\n",
              "      <td>UNITED STATES OF AMERICA</td>\n",
              "      <td>1-24</td>\n",
              "      <td>DNS</td>\n",
              "      <td>0.0</td>\n",
              "      <td>1.0</td>\n",
              "      <td>Leisure and Holidays</td>\n",
              "      <td>Beach tourism</td>\n",
              "      <td>Package Tour</td>\n",
              "      <td>No</td>\n",
              "      <td>Yes</td>\n",
              "      <td>Yes</td>\n",
              "      <td>Yes</td>\n",
              "      <td>Yes</td>\n",
              "      <td>No</td>\n",
              "      <td>No</td>\n",
              "      <td>4</td>\n",
              "      <td>0</td>\n",
              "      <td>Cash</td>\n",
              "      <td>Yes</td>\n",
              "      <td>3978000.0</td>\n",
              "      <td>1.0</td>\n",
              "    </tr>\n",
              "    <tr>\n",
              "      <th>2002</th>\n",
              "      <td>tour_3432</td>\n",
              "      <td>UNITED STATES OF AMERICA</td>\n",
              "      <td>1-24</td>\n",
              "      <td>Friends/Relatives</td>\n",
              "      <td>1.0</td>\n",
              "      <td>1.0</td>\n",
              "      <td>Visiting Friends and Relatives</td>\n",
              "      <td>Beach tourism</td>\n",
              "      <td>Independent</td>\n",
              "      <td>No</td>\n",
              "      <td>No</td>\n",
              "      <td>No</td>\n",
              "      <td>No</td>\n",
              "      <td>No</td>\n",
              "      <td>No</td>\n",
              "      <td>No</td>\n",
              "      <td>5</td>\n",
              "      <td>1</td>\n",
              "      <td>Cash</td>\n",
              "      <td>Yes</td>\n",
              "      <td>885038.7</td>\n",
              "      <td>2.0</td>\n",
              "    </tr>\n",
              "    <tr>\n",
              "      <th>4776</th>\n",
              "      <td>tour_956</td>\n",
              "      <td>RWANDA</td>\n",
              "      <td>1-24</td>\n",
              "      <td>DNS</td>\n",
              "      <td>1.0</td>\n",
              "      <td>0.0</td>\n",
              "      <td>Visiting Friends and Relatives</td>\n",
              "      <td>Beach tourism</td>\n",
              "      <td>Independent</td>\n",
              "      <td>No</td>\n",
              "      <td>No</td>\n",
              "      <td>No</td>\n",
              "      <td>No</td>\n",
              "      <td>No</td>\n",
              "      <td>No</td>\n",
              "      <td>No</td>\n",
              "      <td>3</td>\n",
              "      <td>0</td>\n",
              "      <td>Cash</td>\n",
              "      <td>Yes</td>\n",
              "      <td>165750.0</td>\n",
              "      <td>1.0</td>\n",
              "    </tr>\n",
              "    <tr>\n",
              "      <th>3702</th>\n",
              "      <td>tour_5487</td>\n",
              "      <td>UNITED KINGDOM</td>\n",
              "      <td>1-24</td>\n",
              "      <td>Friends/Relatives</td>\n",
              "      <td>4.0</td>\n",
              "      <td>0.0</td>\n",
              "      <td>Leisure and Holidays</td>\n",
              "      <td>Beach tourism</td>\n",
              "      <td>Independent</td>\n",
              "      <td>No</td>\n",
              "      <td>No</td>\n",
              "      <td>No</td>\n",
              "      <td>No</td>\n",
              "      <td>No</td>\n",
              "      <td>No</td>\n",
              "      <td>No</td>\n",
              "      <td>0</td>\n",
              "      <td>5</td>\n",
              "      <td>Cash</td>\n",
              "      <td>Yes</td>\n",
              "      <td>4309500.0</td>\n",
              "      <td>4.0</td>\n",
              "    </tr>\n",
              "    <tr>\n",
              "      <th>...</th>\n",
              "      <td>...</td>\n",
              "      <td>...</td>\n",
              "      <td>...</td>\n",
              "      <td>...</td>\n",
              "      <td>...</td>\n",
              "      <td>...</td>\n",
              "      <td>...</td>\n",
              "      <td>...</td>\n",
              "      <td>...</td>\n",
              "      <td>...</td>\n",
              "      <td>...</td>\n",
              "      <td>...</td>\n",
              "      <td>...</td>\n",
              "      <td>...</td>\n",
              "      <td>...</td>\n",
              "      <td>...</td>\n",
              "      <td>...</td>\n",
              "      <td>...</td>\n",
              "      <td>...</td>\n",
              "      <td>...</td>\n",
              "      <td>...</td>\n",
              "      <td>...</td>\n",
              "    </tr>\n",
              "    <tr>\n",
              "      <th>3781</th>\n",
              "      <td>tour_5587</td>\n",
              "      <td>IRELAND</td>\n",
              "      <td>45-64</td>\n",
              "      <td>Friends/Relatives</td>\n",
              "      <td>4.0</td>\n",
              "      <td>1.0</td>\n",
              "      <td>Visiting Friends and Relatives</td>\n",
              "      <td>Beach tourism</td>\n",
              "      <td>Independent</td>\n",
              "      <td>No</td>\n",
              "      <td>No</td>\n",
              "      <td>No</td>\n",
              "      <td>No</td>\n",
              "      <td>No</td>\n",
              "      <td>No</td>\n",
              "      <td>No</td>\n",
              "      <td>2</td>\n",
              "      <td>43</td>\n",
              "      <td>Cash</td>\n",
              "      <td>No</td>\n",
              "      <td>14225250.0</td>\n",
              "      <td>5.0</td>\n",
              "    </tr>\n",
              "    <tr>\n",
              "      <th>3504</th>\n",
              "      <td>tour_5244</td>\n",
              "      <td>ZIMBABWE</td>\n",
              "      <td>45-64</td>\n",
              "      <td>DNS</td>\n",
              "      <td>0.0</td>\n",
              "      <td>1.0</td>\n",
              "      <td>Leisure and Holidays</td>\n",
              "      <td>Beach tourism</td>\n",
              "      <td>Independent</td>\n",
              "      <td>No</td>\n",
              "      <td>No</td>\n",
              "      <td>No</td>\n",
              "      <td>No</td>\n",
              "      <td>No</td>\n",
              "      <td>No</td>\n",
              "      <td>No</td>\n",
              "      <td>2</td>\n",
              "      <td>0</td>\n",
              "      <td>Cash</td>\n",
              "      <td>Yes</td>\n",
              "      <td>497400.0</td>\n",
              "      <td>1.0</td>\n",
              "    </tr>\n",
              "    <tr>\n",
              "      <th>3034</th>\n",
              "      <td>tour_4680</td>\n",
              "      <td>ITALY</td>\n",
              "      <td>45-64</td>\n",
              "      <td>Spouse and Children</td>\n",
              "      <td>3.0</td>\n",
              "      <td>1.0</td>\n",
              "      <td>Leisure and Holidays</td>\n",
              "      <td>Beach tourism</td>\n",
              "      <td>Package Tour</td>\n",
              "      <td>Yes</td>\n",
              "      <td>Yes</td>\n",
              "      <td>Yes</td>\n",
              "      <td>Yes</td>\n",
              "      <td>No</td>\n",
              "      <td>Yes</td>\n",
              "      <td>Yes</td>\n",
              "      <td>0</td>\n",
              "      <td>15</td>\n",
              "      <td>Cash</td>\n",
              "      <td>Yes</td>\n",
              "      <td>12431250.0</td>\n",
              "      <td>4.0</td>\n",
              "    </tr>\n",
              "    <tr>\n",
              "      <th>221</th>\n",
              "      <td>tour_1275</td>\n",
              "      <td>ITALY</td>\n",
              "      <td>65+</td>\n",
              "      <td>Friends/Relatives</td>\n",
              "      <td>2.0</td>\n",
              "      <td>5.0</td>\n",
              "      <td>Leisure and Holidays</td>\n",
              "      <td>Beach tourism</td>\n",
              "      <td>Package Tour</td>\n",
              "      <td>Yes</td>\n",
              "      <td>Yes</td>\n",
              "      <td>No</td>\n",
              "      <td>Yes</td>\n",
              "      <td>No</td>\n",
              "      <td>No</td>\n",
              "      <td>No</td>\n",
              "      <td>12</td>\n",
              "      <td>4</td>\n",
              "      <td>Cash</td>\n",
              "      <td>Yes</td>\n",
              "      <td>9304253.0</td>\n",
              "      <td>7.0</td>\n",
              "    </tr>\n",
              "    <tr>\n",
              "      <th>2005</th>\n",
              "      <td>tour_3435</td>\n",
              "      <td>FRANCE</td>\n",
              "      <td>65+</td>\n",
              "      <td>Spouse</td>\n",
              "      <td>1.0</td>\n",
              "      <td>1.0</td>\n",
              "      <td>Leisure and Holidays</td>\n",
              "      <td>Beach tourism</td>\n",
              "      <td>Package Tour</td>\n",
              "      <td>Yes</td>\n",
              "      <td>Yes</td>\n",
              "      <td>No</td>\n",
              "      <td>Yes</td>\n",
              "      <td>Yes</td>\n",
              "      <td>Yes</td>\n",
              "      <td>Yes</td>\n",
              "      <td>10</td>\n",
              "      <td>11</td>\n",
              "      <td>Cash</td>\n",
              "      <td>Yes</td>\n",
              "      <td>33813017.0</td>\n",
              "      <td>2.0</td>\n",
              "    </tr>\n",
              "  </tbody>\n",
              "</table>\n",
              "<p>102 rows × 22 columns</p>\n",
              "</div>\n",
              "      <button class=\"colab-df-convert\" onclick=\"convertToInteractive('df-7e19d3c2-0f0f-4ee4-9787-762a54d332b2')\"\n",
              "              title=\"Convert this dataframe to an interactive table.\"\n",
              "              style=\"display:none;\">\n",
              "        \n",
              "  <svg xmlns=\"http://www.w3.org/2000/svg\" height=\"24px\"viewBox=\"0 0 24 24\"\n",
              "       width=\"24px\">\n",
              "    <path d=\"M0 0h24v24H0V0z\" fill=\"none\"/>\n",
              "    <path d=\"M18.56 5.44l.94 2.06.94-2.06 2.06-.94-2.06-.94-.94-2.06-.94 2.06-2.06.94zm-11 1L8.5 8.5l.94-2.06 2.06-.94-2.06-.94L8.5 2.5l-.94 2.06-2.06.94zm10 10l.94 2.06.94-2.06 2.06-.94-2.06-.94-.94-2.06-.94 2.06-2.06.94z\"/><path d=\"M17.41 7.96l-1.37-1.37c-.4-.4-.92-.59-1.43-.59-.52 0-1.04.2-1.43.59L10.3 9.45l-7.72 7.72c-.78.78-.78 2.05 0 2.83L4 21.41c.39.39.9.59 1.41.59.51 0 1.02-.2 1.41-.59l7.78-7.78 2.81-2.81c.8-.78.8-2.07 0-2.86zM5.41 20L4 18.59l7.72-7.72 1.47 1.35L5.41 20z\"/>\n",
              "  </svg>\n",
              "      </button>\n",
              "      \n",
              "  <style>\n",
              "    .colab-df-container {\n",
              "      display:flex;\n",
              "      flex-wrap:wrap;\n",
              "      gap: 12px;\n",
              "    }\n",
              "\n",
              "    .colab-df-convert {\n",
              "      background-color: #E8F0FE;\n",
              "      border: none;\n",
              "      border-radius: 50%;\n",
              "      cursor: pointer;\n",
              "      display: none;\n",
              "      fill: #1967D2;\n",
              "      height: 32px;\n",
              "      padding: 0 0 0 0;\n",
              "      width: 32px;\n",
              "    }\n",
              "\n",
              "    .colab-df-convert:hover {\n",
              "      background-color: #E2EBFA;\n",
              "      box-shadow: 0px 1px 2px rgba(60, 64, 67, 0.3), 0px 1px 3px 1px rgba(60, 64, 67, 0.15);\n",
              "      fill: #174EA6;\n",
              "    }\n",
              "\n",
              "    [theme=dark] .colab-df-convert {\n",
              "      background-color: #3B4455;\n",
              "      fill: #D2E3FC;\n",
              "    }\n",
              "\n",
              "    [theme=dark] .colab-df-convert:hover {\n",
              "      background-color: #434B5C;\n",
              "      box-shadow: 0px 1px 3px 1px rgba(0, 0, 0, 0.15);\n",
              "      filter: drop-shadow(0px 1px 2px rgba(0, 0, 0, 0.3));\n",
              "      fill: #FFFFFF;\n",
              "    }\n",
              "  </style>\n",
              "\n",
              "      <script>\n",
              "        const buttonEl =\n",
              "          document.querySelector('#df-7e19d3c2-0f0f-4ee4-9787-762a54d332b2 button.colab-df-convert');\n",
              "        buttonEl.style.display =\n",
              "          google.colab.kernel.accessAllowed ? 'block' : 'none';\n",
              "\n",
              "        async function convertToInteractive(key) {\n",
              "          const element = document.querySelector('#df-7e19d3c2-0f0f-4ee4-9787-762a54d332b2');\n",
              "          const dataTable =\n",
              "            await google.colab.kernel.invokeFunction('convertToInteractive',\n",
              "                                                     [key], {});\n",
              "          if (!dataTable) return;\n",
              "\n",
              "          const docLinkHtml = 'Like what you see? Visit the ' +\n",
              "            '<a target=\"_blank\" href=https://colab.research.google.com/notebooks/data_table.ipynb>data table notebook</a>'\n",
              "            + ' to learn more about interactive tables.';\n",
              "          element.innerHTML = '';\n",
              "          dataTable['output_type'] = 'display_data';\n",
              "          await google.colab.output.renderOutput(dataTable, element);\n",
              "          const docLink = document.createElement('div');\n",
              "          docLink.innerHTML = docLinkHtml;\n",
              "          element.appendChild(docLink);\n",
              "        }\n",
              "      </script>\n",
              "    </div>\n",
              "  </div>\n",
              "  "
            ],
            "text/plain": [
              "             ID                   country  ...  total_cost total_tourists\n",
              "2149  tour_3611  UNITED STATES OF AMERICA  ...   2353650.0            1.0\n",
              "1129  tour_2386  UNITED STATES OF AMERICA  ...   3978000.0            1.0\n",
              "2002  tour_3432  UNITED STATES OF AMERICA  ...    885038.7            2.0\n",
              "4776   tour_956                    RWANDA  ...    165750.0            1.0\n",
              "3702  tour_5487            UNITED KINGDOM  ...   4309500.0            4.0\n",
              "...         ...                       ...  ...         ...            ...\n",
              "3781  tour_5587                   IRELAND  ...  14225250.0            5.0\n",
              "3504  tour_5244                  ZIMBABWE  ...    497400.0            1.0\n",
              "3034  tour_4680                     ITALY  ...  12431250.0            4.0\n",
              "221   tour_1275                     ITALY  ...   9304253.0            7.0\n",
              "2005  tour_3435                    FRANCE  ...  33813017.0            2.0\n",
              "\n",
              "[102 rows x 22 columns]"
            ]
          },
          "metadata": {},
          "execution_count": 136
        }
      ],
      "source": [
        "# Stratified sample for the beach dataset\n",
        "beach_strat_output = beach.groupby('age_group', group_keys=False).apply(lambda grouped_subset : grouped_subset.sample(frac=0.1))\n",
        "\n",
        "# proportion of the non_stratified sample\n",
        "print(beach_strat_output['age_group'].value_counts())\n",
        "\n",
        "# Check the stratified output\n",
        "beach_strat_output"
      ]
    },
    {
      "cell_type": "code",
      "execution_count": null,
      "metadata": {
        "id": "487idpXBZV_J",
        "colab": {
          "base_uri": "https://localhost:8080/"
        },
        "outputId": "2c61a638-bcb4-4deb-b150-4b3cfa15a21b"
      },
      "outputs": [
        {
          "output_type": "execute_result",
          "data": {
            "text/plain": [
              "6.5094837655576105"
            ]
          },
          "metadata": {},
          "execution_count": 137
        }
      ],
      "source": [
        "#Finding the variance of the wildlife dataset\n",
        "var_wild = wildlife['total_tourists'].var()\n",
        "var_wild"
      ]
    },
    {
      "cell_type": "code",
      "execution_count": null,
      "metadata": {
        "id": "6zcXOUgVZV_J",
        "colab": {
          "base_uri": "https://localhost:8080/"
        },
        "outputId": "bd67cb8c-4cc7-459b-a5f9-1d0708c38a29"
      },
      "outputs": [
        {
          "output_type": "execute_result",
          "data": {
            "text/plain": [
              "2.26498094512198"
            ]
          },
          "metadata": {},
          "execution_count": 138
        }
      ],
      "source": [
        "#Finding the variance of the beach dataset\n",
        "var_beach = beach['total_tourists'].var()\n",
        "var_beach"
      ]
    },
    {
      "cell_type": "code",
      "execution_count": null,
      "metadata": {
        "id": "vhM3w8B8ZV_K",
        "colab": {
          "base_uri": "https://localhost:8080/"
        },
        "outputId": "c3d22d27-6ac5-4d52-f8ec-e5ca37c7aa4e"
      },
      "outputs": [
        {
          "output_type": "stream",
          "name": "stdout",
          "text": [
            "The mean of the wildlife sample is  1.903\n",
            "The standard of error of the wildlife sample is  0.4330044191054623\n"
          ]
        }
      ],
      "source": [
        "#Looking at the mean and standard of error of the wildlife sample\n",
        "mean_wild = round(wildlife_strat_output['total_tourists'].mean(), 3)\n",
        "print(\"The mean of the wildlife sample is \", mean_wild)\n",
        "sd_wild = var_wild/math.sqrt(226)\n",
        "print(\"The standard of error of the wildlife sample is \", sd_wild)"
      ]
    },
    {
      "cell_type": "code",
      "execution_count": null,
      "metadata": {
        "id": "LA-M5PRdZV_K",
        "colab": {
          "base_uri": "https://localhost:8080/"
        },
        "outputId": "fd80d810-bf7f-424f-c7cf-6a1aefd2cd21"
      },
      "outputs": [
        {
          "output_type": "stream",
          "name": "stdout",
          "text": [
            "The mean of the beach sample is  2.255\n",
            "The standard of error of the beach sample is  0.2242665317701514\n"
          ]
        }
      ],
      "source": [
        "#Looking at the mean and standard of error of the beach sample\n",
        "mean_beach = round(beach_strat_output['total_tourists'].mean(), 3)\n",
        "print(\"The mean of the beach sample is \", mean_beach)\n",
        "sd_beach = var_beach/math.sqrt(102)\n",
        "print(\"The standard of error of the beach sample is \", sd_beach)"
      ]
    },
    {
      "cell_type": "code",
      "execution_count": null,
      "metadata": {
        "id": "1LRVdJPjZV_L",
        "colab": {
          "base_uri": "https://localhost:8080/"
        },
        "outputId": "a0ae745d-6956-4e97-b2f8-ef1407d54b53"
      },
      "outputs": [
        {
          "output_type": "stream",
          "name": "stdout",
          "text": [
            "0.6572709508756137\n"
          ]
        }
      ],
      "source": [
        "#The standard of error of both samples\n",
        "s = sd_beach + sd_wild\n",
        "print(s)"
      ]
    },
    {
      "cell_type": "code",
      "execution_count": null,
      "metadata": {
        "id": "7T2lmPV4ZV_L",
        "colab": {
          "base_uri": "https://localhost:8080/"
        },
        "outputId": "ba0655e3-8804-4b82-9907-bbb236521a97"
      },
      "outputs": [
        {
          "output_type": "execute_result",
          "data": {
            "text/plain": [
              "-0.5355477821301351"
            ]
          },
          "metadata": {},
          "execution_count": 142
        }
      ],
      "source": [
        "#The zscore of the samples\n",
        "zscore = (mean_wild - mean_beach)/s\n",
        "zscore\n"
      ]
    },
    {
      "cell_type": "code",
      "execution_count": null,
      "metadata": {
        "id": "6aef1GQLZV_L",
        "colab": {
          "base_uri": "https://localhost:8080/"
        },
        "outputId": "e5bb368b-fea4-4d35-fe81-8746deb8e202"
      },
      "outputs": [
        {
          "output_type": "stream",
          "name": "stdout",
          "text": [
            "0.296\n",
            "We fail to reject the null hypothesis\n"
          ]
        }
      ],
      "source": [
        "#Getting the p-value and testing the hypothesis\n",
        "from scipy import stats\n",
        "from scipy.stats import norm\n",
        "alpha = 0.05\n",
        "prob = stats.norm.cdf(zscore)\n",
        "print(round(prob, 3))\n",
        "if(prob <  alpha):\n",
        "  print(\"We reject the null hypothesis\")\n",
        "else:\n",
        "  print(\"We fail to reject the null hypothesis\")"
      ]
    },
    {
      "cell_type": "markdown",
      "metadata": {
        "id": "SFz_CGtMZV_M"
      },
      "source": [
        "**The p-value is greater than the level of significance. Therefore, we fail to reject the null hypothesis. The number of tourist who visit Tanzania for beach tourism are less or equal to the number of tourist who visit Tanzania for wildlife tourism**"
      ]
    },
    {
      "cell_type": "markdown",
      "source": [
        ""
      ],
      "metadata": {
        "id": "Og0o2zXdNzMN"
      }
    },
    {
      "cell_type": "markdown",
      "source": [
        "\n",
        "# 7. Recommendations"
      ],
      "metadata": {
        "id": "rMM_LW8fODqK"
      }
    },
    {
      "cell_type": "markdown",
      "source": [
        "**From our findings, we made the following reccomendations**\n",
        "\n",
        "\n",
        "*   Introduce attractive offers and discounts\n",
        "*   Customize advertisements on social media\n",
        "*   Create travel technology\n",
        "*   Introduce a free travel visa\n",
        "*   Increase activities that attract people of ages 25 - 55\n",
        "*   Introduce packages that suit this age group travel needs\n",
        "\n"
      ],
      "metadata": {
        "id": "RJ5osuCiOMG9"
      }
    }
  ],
  "metadata": {
    "colab": {
      "collapsed_sections": [
        "lSNzRsJ6ZHMl",
        "Mpeovc08bPWZ",
        "maxtOpQiyRUF",
        "hdOTsIDVyhML",
        "B2mRIBlTJGdr",
        "nOow4rqeZV_D"
      ],
      "name": "Analysis of Tourism Activities in Tanzania.ipynb",
      "provenance": [],
      "toc_visible": true,
      "include_colab_link": true
    },
    "kernelspec": {
      "display_name": "Python 3",
      "language": "python",
      "name": "python3"
    },
    "language_info": {
      "codemirror_mode": {
        "name": "ipython",
        "version": 3
      },
      "file_extension": ".py",
      "mimetype": "text/x-python",
      "name": "python",
      "nbconvert_exporter": "python",
      "pygments_lexer": "ipython3",
      "version": "3.8.8"
    }
  },
  "nbformat": 4,
  "nbformat_minor": 0
}